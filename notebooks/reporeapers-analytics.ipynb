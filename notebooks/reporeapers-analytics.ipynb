{
 "cells": [
  {
   "cell_type": "markdown",
   "id": "1452f04f",
   "metadata": {},
   "source": [
    "# Analyzing the RepoReapers dataset\n",
    "\n",
    "[Home page](https://reporeapers.github.io/results/1.html) of the dataset."
   ]
  },
  {
   "cell_type": "markdown",
   "id": "6e9c694a",
   "metadata": {},
   "source": [
    "Import libraries"
   ]
  },
  {
   "cell_type": "code",
   "execution_count": 1,
   "id": "ad16f3e9",
   "metadata": {},
   "outputs": [],
   "source": [
    "import configparser\n",
    "import json\n",
    "import requests\n",
    "import pandas as pd\n",
    "\n",
    "from github import Github\n",
    "from datetime import datetime, timedelta"
   ]
  },
  {
   "cell_type": "markdown",
   "id": "1a2809af",
   "metadata": {},
   "source": [
    "Import RepoReaper dataset"
   ]
  },
  {
   "cell_type": "code",
   "execution_count": 2,
   "id": "1fc83df3",
   "metadata": {},
   "outputs": [
    {
     "name": "stdout",
     "output_type": "stream",
     "text": [
      "(1853195, 16)\n"
     ]
    },
    {
     "data": {
      "text/html": [
       "<div>\n",
       "<style scoped>\n",
       "    .dataframe tbody tr th:only-of-type {\n",
       "        vertical-align: middle;\n",
       "    }\n",
       "\n",
       "    .dataframe tbody tr th {\n",
       "        vertical-align: top;\n",
       "    }\n",
       "\n",
       "    .dataframe thead th {\n",
       "        text-align: right;\n",
       "    }\n",
       "</style>\n",
       "<table border=\"1\" class=\"dataframe\">\n",
       "  <thead>\n",
       "    <tr style=\"text-align: right;\">\n",
       "      <th></th>\n",
       "      <th>repository</th>\n",
       "      <th>language</th>\n",
       "      <th>architecture</th>\n",
       "      <th>community</th>\n",
       "      <th>continuous_integration</th>\n",
       "      <th>documentation</th>\n",
       "      <th>history</th>\n",
       "      <th>issues</th>\n",
       "      <th>license</th>\n",
       "      <th>size</th>\n",
       "      <th>unit_test</th>\n",
       "      <th>stars</th>\n",
       "      <th>scorebased_org</th>\n",
       "      <th>randomforest_org</th>\n",
       "      <th>scorebased_utl</th>\n",
       "      <th>randomforest_utl</th>\n",
       "    </tr>\n",
       "  </thead>\n",
       "  <tbody>\n",
       "    <tr>\n",
       "      <th>0</th>\n",
       "      <td>matplotlib/matplotlib.github.com</td>\n",
       "      <td>Python</td>\n",
       "      <td>0.770463</td>\n",
       "      <td>2</td>\n",
       "      <td>0</td>\n",
       "      <td>0.014931</td>\n",
       "      <td>2.297872</td>\n",
       "      <td>0.212766</td>\n",
       "      <td>0</td>\n",
       "      <td>1575488</td>\n",
       "      <td>0.013242</td>\n",
       "      <td>5</td>\n",
       "      <td>1</td>\n",
       "      <td>1</td>\n",
       "      <td>1</td>\n",
       "      <td>1</td>\n",
       "    </tr>\n",
       "    <tr>\n",
       "      <th>1</th>\n",
       "      <td>NCIP/c3pr-docs</td>\n",
       "      <td>Java</td>\n",
       "      <td>0.997449</td>\n",
       "      <td>3</td>\n",
       "      <td>0</td>\n",
       "      <td>0.087444</td>\n",
       "      <td>1.434211</td>\n",
       "      <td>0.000000</td>\n",
       "      <td>0</td>\n",
       "      <td>765164</td>\n",
       "      <td>0.000000</td>\n",
       "      <td>0</td>\n",
       "      <td>0</td>\n",
       "      <td>0</td>\n",
       "      <td>1</td>\n",
       "      <td>0</td>\n",
       "    </tr>\n",
       "    <tr>\n",
       "      <th>2</th>\n",
       "      <td>AnXgotta/Sur</td>\n",
       "      <td>C++</td>\n",
       "      <td>0.714286</td>\n",
       "      <td>1</td>\n",
       "      <td>0</td>\n",
       "      <td>0.123698</td>\n",
       "      <td>0.000000</td>\n",
       "      <td>0.000000</td>\n",
       "      <td>0</td>\n",
       "      <td>2155</td>\n",
       "      <td>0.000000</td>\n",
       "      <td>0</td>\n",
       "      <td>0</td>\n",
       "      <td>0</td>\n",
       "      <td>0</td>\n",
       "      <td>0</td>\n",
       "    </tr>\n",
       "    <tr>\n",
       "      <th>3</th>\n",
       "      <td>bigloupe/SoS-JobScheduler</td>\n",
       "      <td>Java</td>\n",
       "      <td>0.957573</td>\n",
       "      <td>3</td>\n",
       "      <td>1</td>\n",
       "      <td>0.315557</td>\n",
       "      <td>11.428571</td>\n",
       "      <td>0.000000</td>\n",
       "      <td>1</td>\n",
       "      <td>657960</td>\n",
       "      <td>0.007257</td>\n",
       "      <td>1</td>\n",
       "      <td>1</td>\n",
       "      <td>0</td>\n",
       "      <td>1</td>\n",
       "      <td>0</td>\n",
       "    </tr>\n",
       "    <tr>\n",
       "      <th>4</th>\n",
       "      <td>barons/zf_shop</td>\n",
       "      <td>Ruby</td>\n",
       "      <td>0.381323</td>\n",
       "      <td>3</td>\n",
       "      <td>0</td>\n",
       "      <td>0.327179</td>\n",
       "      <td>0.000000</td>\n",
       "      <td>0.000000</td>\n",
       "      <td>1</td>\n",
       "      <td>472610</td>\n",
       "      <td>0.055335</td>\n",
       "      <td>0</td>\n",
       "      <td>1</td>\n",
       "      <td>0</td>\n",
       "      <td>1</td>\n",
       "      <td>1</td>\n",
       "    </tr>\n",
       "  </tbody>\n",
       "</table>\n",
       "</div>"
      ],
      "text/plain": [
       "                         repository language  architecture  community  \\\n",
       "0  matplotlib/matplotlib.github.com   Python      0.770463          2   \n",
       "1                    NCIP/c3pr-docs     Java      0.997449          3   \n",
       "2                      AnXgotta/Sur      C++      0.714286          1   \n",
       "3         bigloupe/SoS-JobScheduler     Java      0.957573          3   \n",
       "4                    barons/zf_shop     Ruby      0.381323          3   \n",
       "\n",
       "   continuous_integration  documentation    history    issues  license  \\\n",
       "0                       0       0.014931   2.297872  0.212766        0   \n",
       "1                       0       0.087444   1.434211  0.000000        0   \n",
       "2                       0       0.123698   0.000000  0.000000        0   \n",
       "3                       1       0.315557  11.428571  0.000000        1   \n",
       "4                       0       0.327179   0.000000  0.000000        1   \n",
       "\n",
       "      size  unit_test stars  scorebased_org  randomforest_org  scorebased_utl  \\\n",
       "0  1575488   0.013242     5               1                 1               1   \n",
       "1   765164   0.000000     0               0                 0               1   \n",
       "2     2155   0.000000     0               0                 0               0   \n",
       "3   657960   0.007257     1               1                 0               1   \n",
       "4   472610   0.055335     0               1                 0               1   \n",
       "\n",
       "   randomforest_utl  \n",
       "0                 1  \n",
       "1                 0  \n",
       "2                 0  \n",
       "3                 0  \n",
       "4                 1  "
      ]
     },
     "execution_count": 2,
     "metadata": {},
     "output_type": "execute_result"
    }
   ],
   "source": [
    "df = pd.read_csv('../data/reporeaper.csv', header=0, sep=\",\", dtype={\"stars\": object})\n",
    "print(df.shape)\n",
    "df.head()"
   ]
  },
  {
   "cell_type": "code",
   "execution_count": 3,
   "id": "2b4084dd",
   "metadata": {},
   "outputs": [
    {
     "data": {
      "text/plain": [
       "scorebased_org       200336\n",
       "randomforest_org     111106\n",
       "scorebased_utl      1288683\n",
       "randomforest_utl     446511\n",
       "dtype: int64"
      ]
     },
     "execution_count": 3,
     "metadata": {},
     "output_type": "execute_result"
    }
   ],
   "source": [
    "df.loc[:, 'scorebased_org':'randomforest_utl'].sum()"
   ]
  },
  {
   "cell_type": "markdown",
   "id": "d68c0f3f",
   "metadata": {},
   "source": [
    "Kinsman et al. used the subset `randomforest_utl` in their study. This subset comprises repositories classified as containing an *engineered software project* by a RandomForest classifier. In particular, for this subset, the classifier was trained on the \"Utility\" dataset. Such dataset was defined on the basis of the following definition of *repository containing an engineered software project*:\n",
    "\n",
    "> A repository is said to contain an engineered software project if it is similar to repositories that have a fairly general-purpose utility to users other than the developers themselves. For instance, a repository containing a Chrome plug-in is considered to have a general-purpose utility, however, a repository containing a mobile application developed by a student as a course project may not considered to have a general-purpose utility."
   ]
  },
  {
   "cell_type": "markdown",
   "id": "36cfd11c",
   "metadata": {},
   "source": [
    "First of all, I drop all rows having no information on the number of stars"
   ]
  },
  {
   "cell_type": "code",
   "execution_count": 4,
   "id": "907df2a2",
   "metadata": {},
   "outputs": [],
   "source": [
    "df.drop(df.index[df[\"stars\"] == \"None\"], inplace=True)\n",
    "df[\"stars\"] = df[\"stars\"].astype(int)"
   ]
  },
  {
   "cell_type": "markdown",
   "id": "19b3c83f",
   "metadata": {},
   "source": [
    "Then I try different filtering schemas:"
   ]
  },
  {
   "cell_type": "code",
   "execution_count": 5,
   "id": "03da3725",
   "metadata": {},
   "outputs": [],
   "source": [
    "engineered = df['randomforest_utl'] == 1\n",
    "at_least_2_stars = df['stars'] > 1\n",
    "at_least_2_core_contributors = df['community'] > 1"
   ]
  },
  {
   "cell_type": "markdown",
   "id": "525a752f",
   "metadata": {},
   "source": [
    "- `engineered` + `stars > 1` + `contributors > 1`"
   ]
  },
  {
   "cell_type": "code",
   "execution_count": 6,
   "id": "364ffb1d",
   "metadata": {},
   "outputs": [
    {
     "data": {
      "text/plain": [
       "(70820, 16)"
      ]
     },
     "execution_count": 6,
     "metadata": {},
     "output_type": "execute_result"
    }
   ],
   "source": [
    "df.loc[engineered & at_least_2_stars & at_least_2_core_contributors, :].shape"
   ]
  },
  {
   "cell_type": "markdown",
   "id": "182dc951",
   "metadata": {},
   "source": [
    "- `engineered` + `contributors > 1`"
   ]
  },
  {
   "cell_type": "code",
   "execution_count": 7,
   "id": "2134da93",
   "metadata": {},
   "outputs": [
    {
     "data": {
      "text/plain": [
       "(144692, 16)"
      ]
     },
     "execution_count": 7,
     "metadata": {},
     "output_type": "execute_result"
    }
   ],
   "source": [
    "df.loc[engineered & at_least_2_core_contributors, :].shape"
   ]
  },
  {
   "cell_type": "markdown",
   "id": "4a00c779",
   "metadata": {},
   "source": [
    "- `engineered` + `stars > 1`"
   ]
  },
  {
   "cell_type": "code",
   "execution_count": 8,
   "id": "74e2ae2f",
   "metadata": {},
   "outputs": [
    {
     "data": {
      "text/plain": [
       "(183127, 16)"
      ]
     },
     "execution_count": 8,
     "metadata": {},
     "output_type": "execute_result"
    }
   ],
   "source": [
    "df.loc[engineered & at_least_2_stars, :].shape"
   ]
  },
  {
   "cell_type": "markdown",
   "id": "9b6110d1",
   "metadata": {},
   "source": [
    "- `stars > 1` + `contributors > 1`"
   ]
  },
  {
   "cell_type": "code",
   "execution_count": 9,
   "id": "849e98dd",
   "metadata": {},
   "outputs": [
    {
     "data": {
      "text/plain": [
       "(93255, 16)"
      ]
     },
     "execution_count": 9,
     "metadata": {},
     "output_type": "execute_result"
    }
   ],
   "source": [
    "df.loc[at_least_2_stars & at_least_2_core_contributors, :].shape"
   ]
  },
  {
   "cell_type": "markdown",
   "id": "3ddaf9ef",
   "metadata": {},
   "source": [
    "---"
   ]
  },
  {
   "cell_type": "markdown",
   "id": "ab527e7d",
   "metadata": {},
   "source": [
    "# Filtering ideas from _\"The Promises and Perils of Mining GitHub\"_"
   ]
  },
  {
   "cell_type": "code",
   "execution_count": 10,
   "id": "f6d979dc",
   "metadata": {},
   "outputs": [],
   "source": [
    "config = configparser.ConfigParser()\n",
    "config.read(\"../env.ini\")\n",
    "token_list = json.loads(config[\"GITHUB\"][\"TOKEN_LIST\"])\n",
    "token = token_list[0]\n",
    "\n",
    "g = Github(token)"
   ]
  },
  {
   "cell_type": "code",
   "execution_count": 11,
   "id": "b3e2ed58",
   "metadata": {},
   "outputs": [],
   "source": [
    "repo = g.get_repo(\"collab-uniba/behaviz_frontend\")"
   ]
  },
  {
   "cell_type": "markdown",
   "id": "28f4a12a",
   "metadata": {},
   "source": [
    "## Number of commits"
   ]
  },
  {
   "cell_type": "code",
   "execution_count": 12,
   "id": "bfff4b75",
   "metadata": {},
   "outputs": [
    {
     "data": {
      "text/plain": [
       "52"
      ]
     },
     "execution_count": 12,
     "metadata": {},
     "output_type": "execute_result"
    }
   ],
   "source": [
    "repo.get_commits().totalCount"
   ]
  },
  {
   "cell_type": "markdown",
   "id": "5138d767",
   "metadata": {},
   "source": [
    "## Life-span of the project\n",
    "\n",
    "*Date of repo creation* VS *Date of last commit*"
   ]
  },
  {
   "cell_type": "code",
   "execution_count": 13,
   "id": "b6d546cd",
   "metadata": {
    "scrolled": false
   },
   "outputs": [
    {
     "name": "stdout",
     "output_type": "stream",
     "text": [
      "2021-04-12 13:23:07\n"
     ]
    }
   ],
   "source": [
    "date_of_repo_creation = repo.created_at\n",
    "print(date_of_repo_creation)"
   ]
  },
  {
   "cell_type": "code",
   "execution_count": 14,
   "id": "abcfa8d4",
   "metadata": {},
   "outputs": [],
   "source": [
    "commits = repo.get_commits()"
   ]
  },
  {
   "cell_type": "code",
   "execution_count": 15,
   "id": "da8643b3",
   "metadata": {},
   "outputs": [
    {
     "name": "stdout",
     "output_type": "stream",
     "text": [
      "Sat, 01 Jan 2022 22:58:45 GMT\n",
      "2022-01-01 22:58:45\n"
     ]
    }
   ],
   "source": [
    "last_commit = repo.get_commit(sha=commits[0].sha)\n",
    "last_commit_date = last_commit.last_modified\n",
    "print(last_commit_date)\n",
    "last_commit_date = datetime.strptime(last_commit_date, \"%a, %d %b %Y %X GMT\")\n",
    "print(last_commit_date)"
   ]
  },
  {
   "cell_type": "code",
   "execution_count": 16,
   "id": "ee4b9906",
   "metadata": {},
   "outputs": [
    {
     "name": "stdout",
     "output_type": "stream",
     "text": [
      "Wed, 14 Apr 2021 14:10:32 GMT\n",
      "2021-04-14 14:10:32\n"
     ]
    }
   ],
   "source": [
    "first_commit = repo.get_commit(sha=commits.reversed[0].sha)\n",
    "first_commit_date = first_commit.last_modified\n",
    "print(first_commit_date)\n",
    "first_commit_date = datetime.strptime(first_commit_date, \"%a, %d %b %Y %X GMT\")\n",
    "print(first_commit_date)"
   ]
  },
  {
   "cell_type": "code",
   "execution_count": 17,
   "id": "e59ae965",
   "metadata": {},
   "outputs": [
    {
     "name": "stdout",
     "output_type": "stream",
     "text": [
      "264 days, 9:35:38\n"
     ]
    }
   ],
   "source": [
    "repo_lifetime = last_commit_date - date_of_repo_creation\n",
    "print(repo_lifetime)"
   ]
  },
  {
   "cell_type": "markdown",
   "id": "b075766d",
   "metadata": {},
   "source": [
    "## Trivial repositories\n",
    "\n",
    "I.e., repositories containing only a `README`, a `.gitignore`, or a `LICENSE`."
   ]
  },
  {
   "cell_type": "code",
   "execution_count": 18,
   "id": "12780f70",
   "metadata": {},
   "outputs": [
    {
     "data": {
      "text/plain": [
       "True"
      ]
     },
     "execution_count": 18,
     "metadata": {},
     "output_type": "execute_result"
    }
   ],
   "source": [
    "basic_files = {'README.md', '.gitignore', 'LICENSE'}\n",
    "license_names = {license['name'] for license in requests.get(\"https://api.github.com/licenses\").json()}\n",
    "basic_files = basic_files.union(license_names)\n",
    "\n",
    "difference = {file.path for file in repo.get_contents(\"\")}.difference({'README.md', '.gitignore', 'LICENSE'})\n",
    "len(difference) != 0"
   ]
  },
  {
   "cell_type": "markdown",
   "id": "c455bbdd",
   "metadata": {},
   "source": [
    "## Last commit N months past the public release of GitHub Acitons"
   ]
  },
  {
   "cell_type": "code",
   "execution_count": 19,
   "id": "1ee49706",
   "metadata": {},
   "outputs": [
    {
     "name": "stdout",
     "output_type": "stream",
     "text": [
      "2019-11-01 00:00:00\n"
     ]
    }
   ],
   "source": [
    "GITHUB_ACTIONS_RELEASE_DATE = datetime(2019, 11, 1)\n",
    "print(GITHUB_ACTIONS_RELEASE_DATE)"
   ]
  },
  {
   "cell_type": "code",
   "execution_count": 20,
   "id": "4fe526b2",
   "metadata": {},
   "outputs": [
    {
     "data": {
      "text/plain": [
       "datetime.timedelta(days=180)"
      ]
     },
     "execution_count": 20,
     "metadata": {},
     "output_type": "execute_result"
    }
   ],
   "source": [
    "months = 6\n",
    "days_in_a_month = 30\n",
    "OFFSET = timedelta(days=days_in_a_month * months)\n",
    "\n",
    "OFFSET"
   ]
  },
  {
   "cell_type": "code",
   "execution_count": 21,
   "id": "04c0e477",
   "metadata": {},
   "outputs": [
    {
     "data": {
      "text/plain": [
       "True"
      ]
     },
     "execution_count": 21,
     "metadata": {},
     "output_type": "execute_result"
    }
   ],
   "source": [
    "time_past_GHA_release = last_commit_date - GITHUB_ACTIONS_RELEASE_DATE\n",
    "time_past_GHA_release > OFFSET"
   ]
  },
  {
   "cell_type": "markdown",
   "id": "bbece1f1",
   "metadata": {},
   "source": [
    "---"
   ]
  },
  {
   "cell_type": "markdown",
   "id": "78a7634a",
   "metadata": {},
   "source": [
    "# `get_workflows()`"
   ]
  },
  {
   "cell_type": "code",
   "execution_count": 22,
   "id": "f1f519bd",
   "metadata": {
    "scrolled": true
   },
   "outputs": [
    {
     "data": {
      "text/plain": [
       "[Workflow(url=\"https://api.github.com/repos/collab-uniba/behaviz_frontend/actions/workflows/11725727\", name=\"DevelopBuild\"),\n",
       " Workflow(url=\"https://api.github.com/repos/collab-uniba/behaviz_frontend/actions/workflows/11732063\", name=\"ReleaseBuild\")]"
      ]
     },
     "execution_count": 22,
     "metadata": {},
     "output_type": "execute_result"
    }
   ],
   "source": [
    "list(repo.get_workflows())"
   ]
  },
  {
   "cell_type": "markdown",
   "id": "82ddc70e",
   "metadata": {},
   "source": [
    "---"
   ]
  }
 ],
 "metadata": {
  "kernelspec": {
   "display_name": "GithubActions4DS",
   "language": "python",
   "name": "githubactions4ds"
  },
  "language_info": {
   "codemirror_mode": {
    "name": "ipython",
    "version": 3
   },
   "file_extension": ".py",
   "mimetype": "text/x-python",
   "name": "python",
   "nbconvert_exporter": "python",
   "pygments_lexer": "ipython3",
   "version": "3.9.9"
  },
  "toc": {
   "base_numbering": 1,
   "nav_menu": {},
   "number_sections": true,
   "sideBar": true,
   "skip_h1_title": true,
   "title_cell": "Table of Contents",
   "title_sidebar": "Contents",
   "toc_cell": false,
   "toc_position": {},
   "toc_section_display": true,
   "toc_window_display": false
  },
  "varInspector": {
   "cols": {
    "lenName": 16,
    "lenType": 16,
    "lenVar": 40
   },
   "kernels_config": {
    "python": {
     "delete_cmd_postfix": "",
     "delete_cmd_prefix": "del ",
     "library": "var_list.py",
     "varRefreshCmd": "print(var_dic_list())"
    },
    "r": {
     "delete_cmd_postfix": ") ",
     "delete_cmd_prefix": "rm(",
     "library": "var_list.r",
     "varRefreshCmd": "cat(var_dic_list()) "
    }
   },
   "types_to_exclude": [
    "module",
    "function",
    "builtin_function_or_method",
    "instance",
    "_Feature"
   ],
   "window_display": false
  }
 },
 "nbformat": 4,
 "nbformat_minor": 5
}
