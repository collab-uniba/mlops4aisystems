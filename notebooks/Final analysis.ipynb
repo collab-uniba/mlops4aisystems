{
 "cells": [
  {
   "cell_type": "markdown",
   "id": "2246aa15",
   "metadata": {},
   "source": [
    "# Data Analysis"
   ]
  },
  {
   "cell_type": "code",
   "execution_count": 1,
   "id": "66b41646",
   "metadata": {},
   "outputs": [],
   "source": [
    "import pandas as pd\n",
    "from mlxtend.frequent_patterns import apriori\n",
    "from mlxtend.preprocessing import TransactionEncoder"
   ]
  },
  {
   "cell_type": "code",
   "execution_count": 2,
   "id": "1108cfbf",
   "metadata": {},
   "outputs": [],
   "source": [
    "def mine_frequent_patterns(\n",
    "    transactions: list[list], support: float\n",
    ") -> pd.DataFrame:\n",
    "    te = TransactionEncoder()\n",
    "    encoding = te.fit(transactions).transform(transactions)\n",
    "    encoding_df = pd.DataFrame(encoding, columns=te.columns_)\n",
    "    frequent_itemsets = apriori(encoding_df, min_support=support, use_colnames=True)\n",
    "    frequent_itemsets[\"length\"] = frequent_itemsets[\"itemsets\"].apply(\n",
    "        lambda x: len(x)\n",
    "    )\n",
    "    return frequent_itemsets"
   ]
  },
  {
   "cell_type": "code",
   "execution_count": 3,
   "id": "3f1915d9",
   "metadata": {},
   "outputs": [],
   "source": [
    "workflows_df = pd.read_pickle(\"../dumps/workflows_df.pkl\")\n",
    "actions_df = pd.read_pickle(\"../dumps/actions_df.pkl\")\n",
    "frequent_actions_df = pd.read_pickle(\"../dumps/frequent_actions_df.pkl\")\n",
    "frequent_actions_noTags_df = pd.read_pickle(\"../dumps/frequent_actions_noTags_df.pkl\")\n",
    "frequent_docker_commands_subsample_df = pd.read_pickle(\"../dumps/frequent_docker_commands_subsample_df.pkl\")"
   ]
  },
  {
   "cell_type": "markdown",
   "id": "2cd14a42",
   "metadata": {},
   "source": [
    "## Descriptive statistics"
   ]
  },
  {
   "cell_type": "markdown",
   "id": "3642553e",
   "metadata": {},
   "source": [
    "### Repo Filtering\n",
    "\n",
    "- Original [RepoReapers dataset](https://reporeapers.github.io/results/1.html): **1,853,195**\n",
    "- Repositories classified as containing an _engineered software project_: **446,511** (not available: **38,742**)\n",
    "- Repositories with _DS-related keywords_ in topics or description: **2516**\n",
    "- Repositories with at least one workflow: **155**\n",
    "\n",
    "### Workflows\n",
    "\n",
    "- Total number of workflows found: **399**\n",
    "- Valid workflows (valid YAML file): **397**\n",
    "- Invalid workflows (invalid YAML file): **2**"
   ]
  },
  {
   "cell_type": "markdown",
   "id": "25abf40a",
   "metadata": {},
   "source": [
    "First of all, let's ensure that all repositories and valid workflows are being analyzed."
   ]
  },
  {
   "cell_type": "code",
   "execution_count": 4,
   "id": "8e3e951b",
   "metadata": {
    "scrolled": true
   },
   "outputs": [
    {
     "data": {
      "text/plain": [
       "(155,)"
      ]
     },
     "execution_count": 4,
     "metadata": {},
     "output_type": "execute_result"
    }
   ],
   "source": [
    "workflows_df[\"repository\"].unique().shape"
   ]
  },
  {
   "cell_type": "code",
   "execution_count": 5,
   "id": "8d40f55a",
   "metadata": {},
   "outputs": [
    {
     "data": {
      "text/plain": [
       "(397,)"
      ]
     },
     "execution_count": 5,
     "metadata": {},
     "output_type": "execute_result"
    }
   ],
   "source": [
    "workflows_df[\"path\"] = workflows_df[\"repository\"] + \"/\" + workflows_df[\"filename\"]\n",
    "workflows_df[\"path\"].unique().shape"
   ]
  },
  {
   "cell_type": "markdown",
   "id": "f8fb47a7",
   "metadata": {},
   "source": [
    "#### Number of workflows per repository"
   ]
  },
  {
   "cell_type": "code",
   "execution_count": 6,
   "id": "55b647b4",
   "metadata": {},
   "outputs": [
    {
     "data": {
      "text/plain": [
       "count    155.000000\n",
       "mean       2.561290\n",
       "std        2.401525\n",
       "min        1.000000\n",
       "25%        1.000000\n",
       "50%        2.000000\n",
       "75%        3.000000\n",
       "max       14.000000\n",
       "Name: path, dtype: float64"
      ]
     },
     "execution_count": 6,
     "metadata": {},
     "output_type": "execute_result"
    }
   ],
   "source": [
    "workflows_df.groupby(\"repository\").count()[\"path\"].describe()"
   ]
  },
  {
   "cell_type": "markdown",
   "id": "18f69255",
   "metadata": {},
   "source": [
    "#### Most common events triggering workflows"
   ]
  },
  {
   "cell_type": "code",
   "execution_count": 7,
   "id": "3629cf1d",
   "metadata": {},
   "outputs": [
    {
     "data": {
      "text/html": [
       "<div>\n",
       "<style scoped>\n",
       "    .dataframe tbody tr th:only-of-type {\n",
       "        vertical-align: middle;\n",
       "    }\n",
       "\n",
       "    .dataframe tbody tr th {\n",
       "        vertical-align: top;\n",
       "    }\n",
       "\n",
       "    .dataframe thead th {\n",
       "        text-align: right;\n",
       "    }\n",
       "</style>\n",
       "<table border=\"1\" class=\"dataframe\">\n",
       "  <thead>\n",
       "    <tr style=\"text-align: right;\">\n",
       "      <th></th>\n",
       "      <th>support</th>\n",
       "      <th>itemsets</th>\n",
       "      <th>length</th>\n",
       "    </tr>\n",
       "  </thead>\n",
       "  <tbody>\n",
       "    <tr>\n",
       "      <th>0</th>\n",
       "      <td>0.612091</td>\n",
       "      <td>(pull_request)</td>\n",
       "      <td>1</td>\n",
       "    </tr>\n",
       "    <tr>\n",
       "      <th>1</th>\n",
       "      <td>0.670025</td>\n",
       "      <td>(push)</td>\n",
       "      <td>1</td>\n",
       "    </tr>\n",
       "    <tr>\n",
       "      <th>2</th>\n",
       "      <td>0.057935</td>\n",
       "      <td>(release)</td>\n",
       "      <td>1</td>\n",
       "    </tr>\n",
       "    <tr>\n",
       "      <th>3</th>\n",
       "      <td>0.136020</td>\n",
       "      <td>(schedule)</td>\n",
       "      <td>1</td>\n",
       "    </tr>\n",
       "    <tr>\n",
       "      <th>4</th>\n",
       "      <td>0.136020</td>\n",
       "      <td>(workflow_dispatch)</td>\n",
       "      <td>1</td>\n",
       "    </tr>\n",
       "    <tr>\n",
       "      <th>5</th>\n",
       "      <td>0.493703</td>\n",
       "      <td>(pull_request, push)</td>\n",
       "      <td>2</td>\n",
       "    </tr>\n",
       "    <tr>\n",
       "      <th>6</th>\n",
       "      <td>0.060453</td>\n",
       "      <td>(schedule, pull_request)</td>\n",
       "      <td>2</td>\n",
       "    </tr>\n",
       "    <tr>\n",
       "      <th>7</th>\n",
       "      <td>0.078086</td>\n",
       "      <td>(pull_request, workflow_dispatch)</td>\n",
       "      <td>2</td>\n",
       "    </tr>\n",
       "    <tr>\n",
       "      <th>8</th>\n",
       "      <td>0.057935</td>\n",
       "      <td>(push, workflow_dispatch)</td>\n",
       "      <td>2</td>\n",
       "    </tr>\n",
       "  </tbody>\n",
       "</table>\n",
       "</div>"
      ],
      "text/plain": [
       "    support                           itemsets  length\n",
       "0  0.612091                     (pull_request)       1\n",
       "1  0.670025                             (push)       1\n",
       "2  0.057935                          (release)       1\n",
       "3  0.136020                         (schedule)       1\n",
       "4  0.136020                (workflow_dispatch)       1\n",
       "5  0.493703               (pull_request, push)       2\n",
       "6  0.060453           (schedule, pull_request)       2\n",
       "7  0.078086  (pull_request, workflow_dispatch)       2\n",
       "8  0.057935          (push, workflow_dispatch)       2"
      ]
     },
     "execution_count": 7,
     "metadata": {},
     "output_type": "execute_result"
    }
   ],
   "source": [
    "transactions = workflows_df['trigger_events'].tolist()\n",
    "mine_frequent_patterns(transactions, support=0.05)"
   ]
  },
  {
   "cell_type": "markdown",
   "id": "4198e02d",
   "metadata": {},
   "source": [
    "## RQ1 -  \"Is GitHub Actions used to automate project deployment?\"\n",
    "\n",
    "- ratio of workflows presenting actions / run commands which relate to Docker\n",
    "- ratio of workflows that upload a container image to Docker-Hub or to GitHub Packages\n",
    "- ratio of workflows that upload any type of software package to GitHub Packages."
   ]
  },
  {
   "cell_type": "markdown",
   "id": "2061b9da",
   "metadata": {},
   "source": [
    "#### Workflows with keyword `deploy` in name or filename"
   ]
  },
  {
   "cell_type": "code",
   "execution_count": 8,
   "id": "d456c4b9",
   "metadata": {},
   "outputs": [
    {
     "name": "stdout",
     "output_type": "stream",
     "text": [
      "Size: 2\n"
     ]
    },
    {
     "data": {
      "text/html": [
       "<div>\n",
       "<style scoped>\n",
       "    .dataframe tbody tr th:only-of-type {\n",
       "        vertical-align: middle;\n",
       "    }\n",
       "\n",
       "    .dataframe tbody tr th {\n",
       "        vertical-align: top;\n",
       "    }\n",
       "\n",
       "    .dataframe thead th {\n",
       "        text-align: right;\n",
       "    }\n",
       "</style>\n",
       "<table border=\"1\" class=\"dataframe\">\n",
       "  <thead>\n",
       "    <tr style=\"text-align: right;\">\n",
       "      <th></th>\n",
       "      <th>repository</th>\n",
       "      <th>filename</th>\n",
       "      <th>name</th>\n",
       "      <th>trigger_events</th>\n",
       "      <th>n_of_actions</th>\n",
       "      <th>docker_related_actions</th>\n",
       "      <th>n_of_run_commands</th>\n",
       "      <th>docker_related_commands</th>\n",
       "      <th>docker_commands</th>\n",
       "      <th>path</th>\n",
       "    </tr>\n",
       "  </thead>\n",
       "  <tbody>\n",
       "    <tr>\n",
       "      <th>54</th>\n",
       "      <td>m09/syllable-counter</td>\n",
       "      <td>deploy.yml</td>\n",
       "      <td>Deploy</td>\n",
       "      <td>[push]</td>\n",
       "      <td>2</td>\n",
       "      <td>False</td>\n",
       "      <td>2</td>\n",
       "      <td>False</td>\n",
       "      <td>[]</td>\n",
       "      <td>m09/syllable-counter/deploy.yml</td>\n",
       "    </tr>\n",
       "    <tr>\n",
       "      <th>295</th>\n",
       "      <td>insideout10/wordlift-plugin</td>\n",
       "      <td>qa.deplyment.yml</td>\n",
       "      <td>docker_build_and_k8s_deployment</td>\n",
       "      <td>[push, workflow_dispatch]</td>\n",
       "      <td>9</td>\n",
       "      <td>True</td>\n",
       "      <td>0</td>\n",
       "      <td>False</td>\n",
       "      <td>[]</td>\n",
       "      <td>insideout10/wordlift-plugin/qa.deplyment.yml</td>\n",
       "    </tr>\n",
       "  </tbody>\n",
       "</table>\n",
       "</div>"
      ],
      "text/plain": [
       "                      repository          filename  \\\n",
       "54          m09/syllable-counter        deploy.yml   \n",
       "295  insideout10/wordlift-plugin  qa.deplyment.yml   \n",
       "\n",
       "                                name             trigger_events  n_of_actions  \\\n",
       "54                            Deploy                     [push]             2   \n",
       "295  docker_build_and_k8s_deployment  [push, workflow_dispatch]             9   \n",
       "\n",
       "     docker_related_actions  n_of_run_commands  docker_related_commands  \\\n",
       "54                    False                  2                    False   \n",
       "295                    True                  0                    False   \n",
       "\n",
       "    docker_commands                                          path  \n",
       "54               []               m09/syllable-counter/deploy.yml  \n",
       "295              []  insideout10/wordlift-plugin/qa.deplyment.yml  "
      ]
     },
     "execution_count": 8,
     "metadata": {},
     "output_type": "execute_result"
    }
   ],
   "source": [
    "temp_df = workflows_df.loc[\n",
    "    workflows_df[\"filename\"].str.contains(\"deploy\") | workflows_df[\"name\"].str.contains(\"deploy\")\n",
    "]\n",
    "print(\"Size:\", temp_df.shape[0])\n",
    "temp_df"
   ]
  },
  {
   "cell_type": "markdown",
   "id": "637a0ab4",
   "metadata": {},
   "source": [
    "#### Actions with keyword `deploy` in the slug"
   ]
  },
  {
   "cell_type": "markdown",
   "id": "4d9165b0-3e47-4e72-9712-1a6af1e07f63",
   "metadata": {},
   "source": [
    "##### Number of distinct actions used in the dataset"
   ]
  },
  {
   "cell_type": "markdown",
   "id": "9b8d8d3a-a1d7-4fa1-a7e5-e4ef2eedfa55",
   "metadata": {},
   "source": [
    "Considering tags"
   ]
  },
  {
   "cell_type": "code",
   "execution_count": 12,
   "id": "5acf7250-7733-42ff-a1b4-e620577a2915",
   "metadata": {},
   "outputs": [
    {
     "data": {
      "text/plain": [
       "(3,)"
      ]
     },
     "execution_count": 12,
     "metadata": {},
     "output_type": "execute_result"
    }
   ],
   "source": [
    "actions_df.loc[actions_df.loc[:,\"action_slug\"].str.contains(\"deploy\"), \"action_slug\"].unique().shape"
   ]
  },
  {
   "cell_type": "markdown",
   "id": "bc3f0f9d-7411-408f-b0f7-92df5a9704d0",
   "metadata": {},
   "source": [
    "Not considering tags"
   ]
  },
  {
   "cell_type": "code",
   "execution_count": 13,
   "id": "64ac713e-1856-46ec-8ebf-962ee34b5ed8",
   "metadata": {
    "scrolled": true
   },
   "outputs": [
    {
     "data": {
      "text/plain": [
       "(3,)"
      ]
     },
     "execution_count": 13,
     "metadata": {},
     "output_type": "execute_result"
    }
   ],
   "source": [
    "actions_df.loc[actions_df.loc[:,\"action_slug\"].str.contains(\"deploy\"), \"action_slug_noTag\"].unique().shape"
   ]
  },
  {
   "cell_type": "markdown",
   "id": "a48f8a5b-5de1-45cc-98aa-9941981998d3",
   "metadata": {},
   "source": [
    "##### Number of workflows using at least one of such actions"
   ]
  },
  {
   "cell_type": "code",
   "execution_count": 14,
   "id": "46b30b43-43eb-40ee-971e-fdc133b17a0e",
   "metadata": {},
   "outputs": [
    {
     "data": {
      "text/plain": [
       "(4,)"
      ]
     },
     "execution_count": 14,
     "metadata": {},
     "output_type": "execute_result"
    }
   ],
   "source": [
    "actions_df.loc[actions_df.loc[:,\"action_slug\"].str.contains(\"deploy\"), \"workflow\"].unique().shape"
   ]
  },
  {
   "cell_type": "markdown",
   "id": "990ea69f-113c-4a57-813c-d9475e59277d",
   "metadata": {},
   "source": [
    "#### Actions of category \"Deployment\""
   ]
  },
  {
   "cell_type": "code",
   "execution_count": 155,
   "id": "156de5d2-9962-44fa-912a-718255a24f95",
   "metadata": {},
   "outputs": [
    {
     "name": "stdout",
     "output_type": "stream",
     "text": [
      "13\n"
     ]
    },
    {
     "data": {
      "text/plain": [
       "['pypa/gh-action-pypi-publish',\n",
       " 'uibcdf/action-build-and-upload-conda-packages',\n",
       " 'larsoner/circleci-artifacts-redirector-action',\n",
       " 'RalfG/python-wheels-manylinux-build',\n",
       " 'JamesIves/github-pages-deploy-action',\n",
       " 'svenstaro/upload-release-action',\n",
       " 'release-drafter/release-drafter',\n",
       " 'hashicorp/setup-terraform',\n",
       " 'shimataro/ssh-key-action',\n",
       " 'steebchen/kubectl',\n",
       " 'Azure/k8s-deploy',\n",
       " 'crazy-max/ghaction-github-pages',\n",
       " 'mad9000/actions-find-and-replace-string']"
      ]
     },
     "execution_count": 155,
     "metadata": {},
     "output_type": "execute_result"
    }
   ],
   "source": [
    "temp_list = actions_df.loc[\n",
    "    (actions_df[\"category_1\"] == \"Deployment\") | (actions_df[\"category_2\"] == \"Deployment\"),\n",
    "    \"action_slug_noTag\"\n",
    "].unique().tolist()\n",
    "print(len(temp_list))\n",
    "temp_list"
   ]
  },
  {
   "cell_type": "markdown",
   "id": "3729c038",
   "metadata": {},
   "source": [
    "#### Run commands containing keyword `deploy`\n",
    "\n",
    "- Number of workflows containing at least one of such commands"
   ]
  },
  {
   "cell_type": "code",
   "execution_count": null,
   "id": "66bc9d1e",
   "metadata": {},
   "outputs": [],
   "source": []
  },
  {
   "cell_type": "markdown",
   "id": "c25725c2",
   "metadata": {},
   "source": [
    "#### Workflows with keyword `publish` in name or filename"
   ]
  },
  {
   "cell_type": "code",
   "execution_count": 10,
   "id": "d64c3d54",
   "metadata": {},
   "outputs": [
    {
     "name": "stdout",
     "output_type": "stream",
     "text": [
      "Size: 17\n"
     ]
    },
    {
     "data": {
      "text/html": [
       "<div>\n",
       "<style scoped>\n",
       "    .dataframe tbody tr th:only-of-type {\n",
       "        vertical-align: middle;\n",
       "    }\n",
       "\n",
       "    .dataframe tbody tr th {\n",
       "        vertical-align: top;\n",
       "    }\n",
       "\n",
       "    .dataframe thead th {\n",
       "        text-align: right;\n",
       "    }\n",
       "</style>\n",
       "<table border=\"1\" class=\"dataframe\">\n",
       "  <thead>\n",
       "    <tr style=\"text-align: right;\">\n",
       "      <th></th>\n",
       "      <th>repository</th>\n",
       "      <th>filename</th>\n",
       "      <th>name</th>\n",
       "      <th>trigger_events</th>\n",
       "      <th>n_of_actions</th>\n",
       "      <th>docker_related_actions</th>\n",
       "      <th>n_of_run_commands</th>\n",
       "      <th>docker_related_commands</th>\n",
       "      <th>docker_commands</th>\n",
       "      <th>path</th>\n",
       "    </tr>\n",
       "  </thead>\n",
       "  <tbody>\n",
       "    <tr>\n",
       "      <th>82</th>\n",
       "      <td>gunthercox/ChatterBot</td>\n",
       "      <td>pythonpublish.yml</td>\n",
       "      <td>Upload Python Package</td>\n",
       "      <td>[release]</td>\n",
       "      <td>2</td>\n",
       "      <td>False</td>\n",
       "      <td>2</td>\n",
       "      <td>False</td>\n",
       "      <td>[]</td>\n",
       "      <td>gunthercox/ChatterBot/pythonpublish.yml</td>\n",
       "    </tr>\n",
       "    <tr>\n",
       "      <th>100</th>\n",
       "      <td>project8/katydid</td>\n",
       "      <td>publish.yaml</td>\n",
       "      <td>Publish</td>\n",
       "      <td>[push, pull_request, release, workflow_dispatc...</td>\n",
       "      <td>9</td>\n",
       "      <td>True</td>\n",
       "      <td>8</td>\n",
       "      <td>True</td>\n",
       "      <td>[build]</td>\n",
       "      <td>project8/katydid/publish.yaml</td>\n",
       "    </tr>\n",
       "    <tr>\n",
       "      <th>102</th>\n",
       "      <td>HIT-SCIR/ltp</td>\n",
       "      <td>python-publish.yml</td>\n",
       "      <td>Upload Python Package</td>\n",
       "      <td>[release]</td>\n",
       "      <td>3</td>\n",
       "      <td>False</td>\n",
       "      <td>2</td>\n",
       "      <td>False</td>\n",
       "      <td>[]</td>\n",
       "      <td>HIT-SCIR/ltp/python-publish.yml</td>\n",
       "    </tr>\n",
       "    <tr>\n",
       "      <th>121</th>\n",
       "      <td>hpcc-systems/HPCC-Platform</td>\n",
       "      <td>nightly-publish.yml</td>\n",
       "      <td>Nightly master build and publish</td>\n",
       "      <td>[schedule]</td>\n",
       "      <td>2</td>\n",
       "      <td>True</td>\n",
       "      <td>1</td>\n",
       "      <td>False</td>\n",
       "      <td>[]</td>\n",
       "      <td>hpcc-systems/HPCC-Platform/nightly-publish.yml</td>\n",
       "    </tr>\n",
       "    <tr>\n",
       "      <th>124</th>\n",
       "      <td>hpcc-systems/HPCC-Platform</td>\n",
       "      <td>build-and-publish.yml</td>\n",
       "      <td>Build and publish</td>\n",
       "      <td>[push]</td>\n",
       "      <td>4</td>\n",
       "      <td>True</td>\n",
       "      <td>0</td>\n",
       "      <td>False</td>\n",
       "      <td>[]</td>\n",
       "      <td>hpcc-systems/HPCC-Platform/build-and-publish.yml</td>\n",
       "    </tr>\n",
       "  </tbody>\n",
       "</table>\n",
       "</div>"
      ],
      "text/plain": [
       "                     repository               filename  \\\n",
       "82        gunthercox/ChatterBot      pythonpublish.yml   \n",
       "100            project8/katydid           publish.yaml   \n",
       "102                HIT-SCIR/ltp     python-publish.yml   \n",
       "121  hpcc-systems/HPCC-Platform    nightly-publish.yml   \n",
       "124  hpcc-systems/HPCC-Platform  build-and-publish.yml   \n",
       "\n",
       "                                 name  \\\n",
       "82              Upload Python Package   \n",
       "100                           Publish   \n",
       "102             Upload Python Package   \n",
       "121  Nightly master build and publish   \n",
       "124                 Build and publish   \n",
       "\n",
       "                                        trigger_events  n_of_actions  \\\n",
       "82                                           [release]             2   \n",
       "100  [push, pull_request, release, workflow_dispatc...             9   \n",
       "102                                          [release]             3   \n",
       "121                                         [schedule]             2   \n",
       "124                                             [push]             4   \n",
       "\n",
       "     docker_related_actions  n_of_run_commands  docker_related_commands  \\\n",
       "82                    False                  2                    False   \n",
       "100                    True                  8                     True   \n",
       "102                   False                  2                    False   \n",
       "121                    True                  1                    False   \n",
       "124                    True                  0                    False   \n",
       "\n",
       "    docker_commands                                              path  \n",
       "82               []           gunthercox/ChatterBot/pythonpublish.yml  \n",
       "100         [build]                     project8/katydid/publish.yaml  \n",
       "102              []                   HIT-SCIR/ltp/python-publish.yml  \n",
       "121              []    hpcc-systems/HPCC-Platform/nightly-publish.yml  \n",
       "124              []  hpcc-systems/HPCC-Platform/build-and-publish.yml  "
      ]
     },
     "execution_count": 10,
     "metadata": {},
     "output_type": "execute_result"
    }
   ],
   "source": [
    "temp_df = workflows_df.loc[\n",
    "    workflows_df[\"filename\"].str.contains(\"publish\") | workflows_df[\"name\"].str.contains(\"publish\")\n",
    "]\n",
    "print(\"Size:\", temp_df.shape[0])\n",
    "temp_df.head()"
   ]
  },
  {
   "cell_type": "markdown",
   "id": "59c8da83",
   "metadata": {},
   "source": [
    "#### Actions with keyword `publish` in the slug"
   ]
  },
  {
   "cell_type": "markdown",
   "id": "567d5c2e-2adf-4071-8199-deef260a4351",
   "metadata": {},
   "source": [
    "##### Number of distinct actions used in the dataset"
   ]
  },
  {
   "cell_type": "markdown",
   "id": "a44c02b2-acb2-4c2d-804c-51781af1539e",
   "metadata": {},
   "source": [
    "Considering tags"
   ]
  },
  {
   "cell_type": "code",
   "execution_count": 15,
   "id": "9cb56b35-5219-400d-9367-a38427605d9f",
   "metadata": {},
   "outputs": [
    {
     "data": {
      "text/plain": [
       "(5,)"
      ]
     },
     "execution_count": 15,
     "metadata": {},
     "output_type": "execute_result"
    }
   ],
   "source": [
    "actions_df.loc[actions_df.loc[:,\"action_slug\"].str.contains(\"publish\"), \"action_slug\"].unique().shape"
   ]
  },
  {
   "cell_type": "markdown",
   "id": "7235240b-84da-4463-a572-8b1449174651",
   "metadata": {},
   "source": [
    "Not considering tags"
   ]
  },
  {
   "cell_type": "code",
   "execution_count": 16,
   "id": "48379503-b473-4cb8-91ca-3472ba63073b",
   "metadata": {
    "scrolled": true
   },
   "outputs": [
    {
     "data": {
      "text/plain": [
       "(3,)"
      ]
     },
     "execution_count": 16,
     "metadata": {},
     "output_type": "execute_result"
    }
   ],
   "source": [
    "actions_df.loc[actions_df.loc[:,\"action_slug\"].str.contains(\"publish\"), \"action_slug_noTag\"].unique().shape"
   ]
  },
  {
   "cell_type": "markdown",
   "id": "ec20d190-185d-4379-bab1-73df11725ea2",
   "metadata": {},
   "source": [
    "##### Number of workflows using at least one of such actions"
   ]
  },
  {
   "cell_type": "code",
   "execution_count": 17,
   "id": "e3951ef2-b3a6-455f-95ac-74c18eb6e4e2",
   "metadata": {},
   "outputs": [
    {
     "data": {
      "text/plain": [
       "(13,)"
      ]
     },
     "execution_count": 17,
     "metadata": {},
     "output_type": "execute_result"
    }
   ],
   "source": [
    "actions_df.loc[actions_df.loc[:,\"action_slug\"].str.contains(\"publish\"), \"workflow\"].unique().shape"
   ]
  },
  {
   "cell_type": "markdown",
   "id": "b46dcd2b",
   "metadata": {},
   "source": [
    "#### Run commands containing keyword `publish`\n",
    "\n",
    "- Number of workflows containing at least one of such commands"
   ]
  },
  {
   "cell_type": "code",
   "execution_count": null,
   "id": "43de4e22",
   "metadata": {},
   "outputs": [],
   "source": []
  },
  {
   "cell_type": "markdown",
   "id": "9c1dc3b4",
   "metadata": {},
   "source": [
    "#### Workflows with keyword `docker` in name or filename"
   ]
  },
  {
   "cell_type": "code",
   "execution_count": 23,
   "id": "3cf23a28",
   "metadata": {},
   "outputs": [
    {
     "name": "stdout",
     "output_type": "stream",
     "text": [
      "Size: 7\n"
     ]
    },
    {
     "data": {
      "text/html": [
       "<div>\n",
       "<style scoped>\n",
       "    .dataframe tbody tr th:only-of-type {\n",
       "        vertical-align: middle;\n",
       "    }\n",
       "\n",
       "    .dataframe tbody tr th {\n",
       "        vertical-align: top;\n",
       "    }\n",
       "\n",
       "    .dataframe thead th {\n",
       "        text-align: right;\n",
       "    }\n",
       "</style>\n",
       "<table border=\"1\" class=\"dataframe\">\n",
       "  <thead>\n",
       "    <tr style=\"text-align: right;\">\n",
       "      <th></th>\n",
       "      <th>repository</th>\n",
       "      <th>filename</th>\n",
       "      <th>name</th>\n",
       "      <th>trigger_events</th>\n",
       "      <th>n_of_actions</th>\n",
       "      <th>docker_related_actions</th>\n",
       "      <th>n_of_run_commands</th>\n",
       "      <th>docker_related_commands</th>\n",
       "      <th>docker_commands</th>\n",
       "      <th>path</th>\n",
       "    </tr>\n",
       "  </thead>\n",
       "  <tbody>\n",
       "    <tr>\n",
       "      <th>295</th>\n",
       "      <td>insideout10/wordlift-plugin</td>\n",
       "      <td>qa.deplyment.yml</td>\n",
       "      <td>docker_build_and_k8s_deployment</td>\n",
       "      <td>[push, workflow_dispatch]</td>\n",
       "      <td>9</td>\n",
       "      <td>True</td>\n",
       "      <td>0</td>\n",
       "      <td>False</td>\n",
       "      <td>[]</td>\n",
       "      <td>insideout10/wordlift-plugin/qa.deplyment.yml</td>\n",
       "    </tr>\n",
       "    <tr>\n",
       "      <th>297</th>\n",
       "      <td>weecology/retriever</td>\n",
       "      <td>docker-publish.yml</td>\n",
       "      <td>Docker</td>\n",
       "      <td>[push, pull_request]</td>\n",
       "      <td>6</td>\n",
       "      <td>True</td>\n",
       "      <td>5</td>\n",
       "      <td>False</td>\n",
       "      <td>[]</td>\n",
       "      <td>weecology/retriever/docker-publish.yml</td>\n",
       "    </tr>\n",
       "    <tr>\n",
       "      <th>323</th>\n",
       "      <td>tiborsimko/invenio-data</td>\n",
       "      <td>docker-build-server.yml</td>\n",
       "      <td>Build CAP server image</td>\n",
       "      <td>[push]</td>\n",
       "      <td>1</td>\n",
       "      <td>False</td>\n",
       "      <td>1</td>\n",
       "      <td>False</td>\n",
       "      <td>[]</td>\n",
       "      <td>tiborsimko/invenio-data/docker-build-server.yml</td>\n",
       "    </tr>\n",
       "    <tr>\n",
       "      <th>324</th>\n",
       "      <td>tiborsimko/invenio-data</td>\n",
       "      <td>docker-build-ui.yml</td>\n",
       "      <td>Build CAP UI image</td>\n",
       "      <td>[push]</td>\n",
       "      <td>1</td>\n",
       "      <td>False</td>\n",
       "      <td>1</td>\n",
       "      <td>False</td>\n",
       "      <td>[]</td>\n",
       "      <td>tiborsimko/invenio-data/docker-build-ui.yml</td>\n",
       "    </tr>\n",
       "    <tr>\n",
       "      <th>328</th>\n",
       "      <td>tiborsimko/data.cern.ch</td>\n",
       "      <td>docker-build-server.yml</td>\n",
       "      <td>Build CAP server image</td>\n",
       "      <td>[push]</td>\n",
       "      <td>1</td>\n",
       "      <td>False</td>\n",
       "      <td>1</td>\n",
       "      <td>False</td>\n",
       "      <td>[]</td>\n",
       "      <td>tiborsimko/data.cern.ch/docker-build-server.yml</td>\n",
       "    </tr>\n",
       "    <tr>\n",
       "      <th>329</th>\n",
       "      <td>tiborsimko/data.cern.ch</td>\n",
       "      <td>docker-build-ui.yml</td>\n",
       "      <td>Build CAP UI image</td>\n",
       "      <td>[push]</td>\n",
       "      <td>1</td>\n",
       "      <td>False</td>\n",
       "      <td>1</td>\n",
       "      <td>False</td>\n",
       "      <td>[]</td>\n",
       "      <td>tiborsimko/data.cern.ch/docker-build-ui.yml</td>\n",
       "    </tr>\n",
       "    <tr>\n",
       "      <th>383</th>\n",
       "      <td>linkedin/gobblin</td>\n",
       "      <td>docker_build_publish.yaml</td>\n",
       "      <td>Build and Publish Docker image</td>\n",
       "      <td>[push, pull_request, release]</td>\n",
       "      <td>4</td>\n",
       "      <td>True</td>\n",
       "      <td>1</td>\n",
       "      <td>False</td>\n",
       "      <td>[]</td>\n",
       "      <td>linkedin/gobblin/docker_build_publish.yaml</td>\n",
       "    </tr>\n",
       "  </tbody>\n",
       "</table>\n",
       "</div>"
      ],
      "text/plain": [
       "                      repository                   filename  \\\n",
       "295  insideout10/wordlift-plugin           qa.deplyment.yml   \n",
       "297          weecology/retriever         docker-publish.yml   \n",
       "323      tiborsimko/invenio-data    docker-build-server.yml   \n",
       "324      tiborsimko/invenio-data        docker-build-ui.yml   \n",
       "328      tiborsimko/data.cern.ch    docker-build-server.yml   \n",
       "329      tiborsimko/data.cern.ch        docker-build-ui.yml   \n",
       "383             linkedin/gobblin  docker_build_publish.yaml   \n",
       "\n",
       "                                name                 trigger_events  \\\n",
       "295  docker_build_and_k8s_deployment      [push, workflow_dispatch]   \n",
       "297                           Docker           [push, pull_request]   \n",
       "323           Build CAP server image                         [push]   \n",
       "324               Build CAP UI image                         [push]   \n",
       "328           Build CAP server image                         [push]   \n",
       "329               Build CAP UI image                         [push]   \n",
       "383   Build and Publish Docker image  [push, pull_request, release]   \n",
       "\n",
       "     n_of_actions  docker_related_actions  n_of_run_commands  \\\n",
       "295             9                    True                  0   \n",
       "297             6                    True                  5   \n",
       "323             1                   False                  1   \n",
       "324             1                   False                  1   \n",
       "328             1                   False                  1   \n",
       "329             1                   False                  1   \n",
       "383             4                    True                  1   \n",
       "\n",
       "     docker_related_commands docker_commands  \\\n",
       "295                    False              []   \n",
       "297                    False              []   \n",
       "323                    False              []   \n",
       "324                    False              []   \n",
       "328                    False              []   \n",
       "329                    False              []   \n",
       "383                    False              []   \n",
       "\n",
       "                                                path  \n",
       "295     insideout10/wordlift-plugin/qa.deplyment.yml  \n",
       "297           weecology/retriever/docker-publish.yml  \n",
       "323  tiborsimko/invenio-data/docker-build-server.yml  \n",
       "324      tiborsimko/invenio-data/docker-build-ui.yml  \n",
       "328  tiborsimko/data.cern.ch/docker-build-server.yml  \n",
       "329      tiborsimko/data.cern.ch/docker-build-ui.yml  \n",
       "383       linkedin/gobblin/docker_build_publish.yaml  "
      ]
     },
     "execution_count": 23,
     "metadata": {},
     "output_type": "execute_result"
    }
   ],
   "source": [
    "temp_df = workflows_df.loc[\n",
    "    workflows_df[\"filename\"].str.contains(\"docker\") | workflows_df[\"name\"].str.contains(\"docker\")\n",
    "]\n",
    "print(\"Size:\", temp_df.shape[0])\n",
    "temp_df"
   ]
  },
  {
   "cell_type": "markdown",
   "id": "194339d6",
   "metadata": {},
   "source": [
    "#### Actions with the keyword `docker` in the slug"
   ]
  },
  {
   "cell_type": "markdown",
   "id": "d10ad7ce-f7cc-4b82-8dab-07abb59d05f6",
   "metadata": {},
   "source": [
    "##### Number of distinct actions used in the dataset"
   ]
  },
  {
   "cell_type": "markdown",
   "id": "c00e8a61",
   "metadata": {},
   "source": [
    "Considering tags"
   ]
  },
  {
   "cell_type": "code",
   "execution_count": 43,
   "id": "3328c707",
   "metadata": {},
   "outputs": [
    {
     "data": {
      "text/plain": [
       "(14,)"
      ]
     },
     "execution_count": 43,
     "metadata": {},
     "output_type": "execute_result"
    }
   ],
   "source": [
    "actions_df.loc[actions_df.loc[:,\"action_slug\"].str.contains(\"docker\"), \"action_slug\"].unique().shape"
   ]
  },
  {
   "cell_type": "markdown",
   "id": "283cea94",
   "metadata": {},
   "source": [
    "Not considering tags"
   ]
  },
  {
   "cell_type": "code",
   "execution_count": 44,
   "id": "797cd6e1",
   "metadata": {
    "scrolled": true
   },
   "outputs": [
    {
     "data": {
      "text/plain": [
       "(10,)"
      ]
     },
     "execution_count": 44,
     "metadata": {},
     "output_type": "execute_result"
    }
   ],
   "source": [
    "actions_df.loc[actions_df.loc[:,\"action_slug\"].str.contains(\"docker\"), \"action_slug_noTag\"].unique().shape"
   ]
  },
  {
   "cell_type": "markdown",
   "id": "c6836d0f",
   "metadata": {},
   "source": [
    "##### Number of workflows using at least one of such actions"
   ]
  },
  {
   "cell_type": "code",
   "execution_count": 48,
   "id": "178b8424",
   "metadata": {},
   "outputs": [
    {
     "data": {
      "text/plain": [
       "(14,)"
      ]
     },
     "execution_count": 48,
     "metadata": {},
     "output_type": "execute_result"
    }
   ],
   "source": [
    "actions_df.loc[actions_df.loc[:,\"action_slug\"].str.contains(\"docker\"), \"workflow\"].unique().shape"
   ]
  },
  {
   "cell_type": "markdown",
   "id": "06d1d056",
   "metadata": {},
   "source": [
    "#### Run commands containing keyword `docker`\n",
    "\n",
    "I.e., number of workflows containing at least one of such commands"
   ]
  },
  {
   "cell_type": "code",
   "execution_count": 45,
   "id": "fc7f56c6-6650-42e0-ba09-811526f43ca9",
   "metadata": {},
   "outputs": [
    {
     "data": {
      "text/plain": [
       "20"
      ]
     },
     "execution_count": 45,
     "metadata": {},
     "output_type": "execute_result"
    }
   ],
   "source": [
    "workflows_df.loc[workflows_df[\"docker_related_commands\"]].shape[0]"
   ]
  },
  {
   "cell_type": "markdown",
   "id": "10af5c4d",
   "metadata": {},
   "source": [
    "#### Docker commands"
   ]
  },
  {
   "cell_type": "code",
   "execution_count": 47,
   "id": "96535651",
   "metadata": {},
   "outputs": [
    {
     "name": "stdout",
     "output_type": "stream",
     "text": [
      "9\n"
     ]
    },
    {
     "data": {
      "text/html": [
       "<div>\n",
       "<style scoped>\n",
       "    .dataframe tbody tr th:only-of-type {\n",
       "        vertical-align: middle;\n",
       "    }\n",
       "\n",
       "    .dataframe tbody tr th {\n",
       "        vertical-align: top;\n",
       "    }\n",
       "\n",
       "    .dataframe thead th {\n",
       "        text-align: right;\n",
       "    }\n",
       "</style>\n",
       "<table border=\"1\" class=\"dataframe\">\n",
       "  <thead>\n",
       "    <tr style=\"text-align: right;\">\n",
       "      <th></th>\n",
       "      <th>repository</th>\n",
       "      <th>filename</th>\n",
       "      <th>name</th>\n",
       "      <th>trigger_events</th>\n",
       "      <th>n_of_actions</th>\n",
       "      <th>docker_related_actions</th>\n",
       "      <th>n_of_run_commands</th>\n",
       "      <th>docker_related_commands</th>\n",
       "      <th>docker_commands</th>\n",
       "      <th>path</th>\n",
       "    </tr>\n",
       "  </thead>\n",
       "  <tbody>\n",
       "    <tr>\n",
       "      <th>76</th>\n",
       "      <td>mgbellemare/Arcade-Learning-Environment</td>\n",
       "      <td>build-ale-py.yml</td>\n",
       "      <td>Build ALE Python</td>\n",
       "      <td>[push]</td>\n",
       "      <td>8</td>\n",
       "      <td>False</td>\n",
       "      <td>4</td>\n",
       "      <td>True</td>\n",
       "      <td>[login]</td>\n",
       "      <td>mgbellemare/Arcade-Learning-Environment/build-...</td>\n",
       "    </tr>\n",
       "    <tr>\n",
       "      <th>100</th>\n",
       "      <td>project8/katydid</td>\n",
       "      <td>publish.yaml</td>\n",
       "      <td>Publish</td>\n",
       "      <td>[push, pull_request, release, workflow_dispatc...</td>\n",
       "      <td>9</td>\n",
       "      <td>True</td>\n",
       "      <td>8</td>\n",
       "      <td>True</td>\n",
       "      <td>[build]</td>\n",
       "      <td>project8/katydid/publish.yaml</td>\n",
       "    </tr>\n",
       "    <tr>\n",
       "      <th>115</th>\n",
       "      <td>hpcc-systems/HPCC-Platform</td>\n",
       "      <td>build-containers-target-branch.yml</td>\n",
       "      <td>Docker target branch build</td>\n",
       "      <td>[push]</td>\n",
       "      <td>6</td>\n",
       "      <td>True</td>\n",
       "      <td>3</td>\n",
       "      <td>True</td>\n",
       "      <td>[manifest]</td>\n",
       "      <td>hpcc-systems/HPCC-Platform/build-containers-ta...</td>\n",
       "    </tr>\n",
       "    <tr>\n",
       "      <th>119</th>\n",
       "      <td>hpcc-systems/HPCC-Platform</td>\n",
       "      <td>build-containers-pr.yml</td>\n",
       "      <td>Docker smoketest build</td>\n",
       "      <td>[pull_request]</td>\n",
       "      <td>6</td>\n",
       "      <td>True</td>\n",
       "      <td>3</td>\n",
       "      <td>True</td>\n",
       "      <td>[manifest]</td>\n",
       "      <td>hpcc-systems/HPCC-Platform/build-containers-pr...</td>\n",
       "    </tr>\n",
       "    <tr>\n",
       "      <th>218</th>\n",
       "      <td>cernopendata/opendata.cern.ch</td>\n",
       "      <td>ci.yml</td>\n",
       "      <td>CI</td>\n",
       "      <td>[push, pull_request]</td>\n",
       "      <td>14</td>\n",
       "      <td>False</td>\n",
       "      <td>10</td>\n",
       "      <td>True</td>\n",
       "      <td>[run]</td>\n",
       "      <td>cernopendata/opendata.cern.ch/ci.yml</td>\n",
       "    </tr>\n",
       "    <tr>\n",
       "      <th>296</th>\n",
       "      <td>insideout10/wordlift-plugin</td>\n",
       "      <td>main.yml</td>\n",
       "      <td>CI</td>\n",
       "      <td>[push, pull_request]</td>\n",
       "      <td>3</td>\n",
       "      <td>False</td>\n",
       "      <td>2</td>\n",
       "      <td>True</td>\n",
       "      <td>[run, network]</td>\n",
       "      <td>insideout10/wordlift-plugin/main.yml</td>\n",
       "    </tr>\n",
       "    <tr>\n",
       "      <th>355</th>\n",
       "      <td>apache/incubator-calcite</td>\n",
       "      <td>main.yml</td>\n",
       "      <td>CI</td>\n",
       "      <td>[push, pull_request]</td>\n",
       "      <td>26</td>\n",
       "      <td>False</td>\n",
       "      <td>7</td>\n",
       "      <td>True</td>\n",
       "      <td>[logs]</td>\n",
       "      <td>apache/incubator-calcite/main.yml</td>\n",
       "    </tr>\n",
       "    <tr>\n",
       "      <th>378</th>\n",
       "      <td>bgruening/docker-galaxy-stable</td>\n",
       "      <td>pull-request.yml</td>\n",
       "      <td>pr-test</td>\n",
       "      <td>[pull_request]</td>\n",
       "      <td>3</td>\n",
       "      <td>False</td>\n",
       "      <td>9</td>\n",
       "      <td>True</td>\n",
       "      <td>[buildx, ps]</td>\n",
       "      <td>bgruening/docker-galaxy-stable/pull-request.yml</td>\n",
       "    </tr>\n",
       "    <tr>\n",
       "      <th>379</th>\n",
       "      <td>bgruening/docker-galaxy-stable</td>\n",
       "      <td>compose.yml</td>\n",
       "      <td>build-and-test</td>\n",
       "      <td>[push]</td>\n",
       "      <td>9</td>\n",
       "      <td>True</td>\n",
       "      <td>18</td>\n",
       "      <td>True</td>\n",
       "      <td>[login, buildx, ps]</td>\n",
       "      <td>bgruening/docker-galaxy-stable/compose.yml</td>\n",
       "    </tr>\n",
       "  </tbody>\n",
       "</table>\n",
       "</div>"
      ],
      "text/plain": [
       "                                  repository  \\\n",
       "76   mgbellemare/Arcade-Learning-Environment   \n",
       "100                         project8/katydid   \n",
       "115               hpcc-systems/HPCC-Platform   \n",
       "119               hpcc-systems/HPCC-Platform   \n",
       "218            cernopendata/opendata.cern.ch   \n",
       "296              insideout10/wordlift-plugin   \n",
       "355                 apache/incubator-calcite   \n",
       "378           bgruening/docker-galaxy-stable   \n",
       "379           bgruening/docker-galaxy-stable   \n",
       "\n",
       "                               filename                        name  \\\n",
       "76                     build-ale-py.yml            Build ALE Python   \n",
       "100                        publish.yaml                     Publish   \n",
       "115  build-containers-target-branch.yml  Docker target branch build   \n",
       "119             build-containers-pr.yml      Docker smoketest build   \n",
       "218                              ci.yml                          CI   \n",
       "296                            main.yml                          CI   \n",
       "355                            main.yml                          CI   \n",
       "378                    pull-request.yml                     pr-test   \n",
       "379                         compose.yml              build-and-test   \n",
       "\n",
       "                                        trigger_events  n_of_actions  \\\n",
       "76                                              [push]             8   \n",
       "100  [push, pull_request, release, workflow_dispatc...             9   \n",
       "115                                             [push]             6   \n",
       "119                                     [pull_request]             6   \n",
       "218                               [push, pull_request]            14   \n",
       "296                               [push, pull_request]             3   \n",
       "355                               [push, pull_request]            26   \n",
       "378                                     [pull_request]             3   \n",
       "379                                             [push]             9   \n",
       "\n",
       "     docker_related_actions  n_of_run_commands  docker_related_commands  \\\n",
       "76                    False                  4                     True   \n",
       "100                    True                  8                     True   \n",
       "115                    True                  3                     True   \n",
       "119                    True                  3                     True   \n",
       "218                   False                 10                     True   \n",
       "296                   False                  2                     True   \n",
       "355                   False                  7                     True   \n",
       "378                   False                  9                     True   \n",
       "379                    True                 18                     True   \n",
       "\n",
       "         docker_commands                                               path  \n",
       "76               [login]  mgbellemare/Arcade-Learning-Environment/build-...  \n",
       "100              [build]                      project8/katydid/publish.yaml  \n",
       "115           [manifest]  hpcc-systems/HPCC-Platform/build-containers-ta...  \n",
       "119           [manifest]  hpcc-systems/HPCC-Platform/build-containers-pr...  \n",
       "218                [run]               cernopendata/opendata.cern.ch/ci.yml  \n",
       "296       [run, network]               insideout10/wordlift-plugin/main.yml  \n",
       "355               [logs]                  apache/incubator-calcite/main.yml  \n",
       "378         [buildx, ps]    bgruening/docker-galaxy-stable/pull-request.yml  \n",
       "379  [login, buildx, ps]         bgruening/docker-galaxy-stable/compose.yml  "
      ]
     },
     "execution_count": 47,
     "metadata": {},
     "output_type": "execute_result"
    }
   ],
   "source": [
    "temp_df = workflows_df.loc[workflows_df[\"docker_commands\"].map(len) > 0]\n",
    "print(temp_df.shape[0])\n",
    "temp_df"
   ]
  },
  {
   "cell_type": "markdown",
   "id": "0d1fe58d",
   "metadata": {},
   "source": [
    "#### Workflows with the keyword `package` in name or filename"
   ]
  },
  {
   "cell_type": "code",
   "execution_count": 11,
   "id": "646c6dfc",
   "metadata": {},
   "outputs": [
    {
     "name": "stdout",
     "output_type": "stream",
     "text": [
      "Size: 9\n"
     ]
    },
    {
     "data": {
      "text/html": [
       "<div>\n",
       "<style scoped>\n",
       "    .dataframe tbody tr th:only-of-type {\n",
       "        vertical-align: middle;\n",
       "    }\n",
       "\n",
       "    .dataframe tbody tr th {\n",
       "        vertical-align: top;\n",
       "    }\n",
       "\n",
       "    .dataframe thead th {\n",
       "        text-align: right;\n",
       "    }\n",
       "</style>\n",
       "<table border=\"1\" class=\"dataframe\">\n",
       "  <thead>\n",
       "    <tr style=\"text-align: right;\">\n",
       "      <th></th>\n",
       "      <th>repository</th>\n",
       "      <th>filename</th>\n",
       "      <th>name</th>\n",
       "      <th>trigger_events</th>\n",
       "      <th>n_of_actions</th>\n",
       "      <th>docker_related_actions</th>\n",
       "      <th>n_of_run_commands</th>\n",
       "      <th>docker_related_commands</th>\n",
       "      <th>docker_commands</th>\n",
       "      <th>path</th>\n",
       "    </tr>\n",
       "  </thead>\n",
       "  <tbody>\n",
       "    <tr>\n",
       "      <th>45</th>\n",
       "      <td>rasbt/mlxtend</td>\n",
       "      <td>python-package-conda.yml</td>\n",
       "      <td>Python Package using Conda</td>\n",
       "      <td>[push]</td>\n",
       "      <td>2</td>\n",
       "      <td>False</td>\n",
       "      <td>4</td>\n",
       "      <td>False</td>\n",
       "      <td>[]</td>\n",
       "      <td>rasbt/mlxtend/python-package-conda.yml</td>\n",
       "    </tr>\n",
       "    <tr>\n",
       "      <th>81</th>\n",
       "      <td>ipython/ipython</td>\n",
       "      <td>python-package.yml</td>\n",
       "      <td>Python package</td>\n",
       "      <td>[push, pull_request]</td>\n",
       "      <td>2</td>\n",
       "      <td>False</td>\n",
       "      <td>2</td>\n",
       "      <td>False</td>\n",
       "      <td>[]</td>\n",
       "      <td>ipython/ipython/python-package.yml</td>\n",
       "    </tr>\n",
       "    <tr>\n",
       "      <th>103</th>\n",
       "      <td>HIT-SCIR/ltp</td>\n",
       "      <td>python-package.yml</td>\n",
       "      <td>Python package</td>\n",
       "      <td>[push, pull_request]</td>\n",
       "      <td>2</td>\n",
       "      <td>False</td>\n",
       "      <td>3</td>\n",
       "      <td>False</td>\n",
       "      <td>[]</td>\n",
       "      <td>HIT-SCIR/ltp/python-package.yml</td>\n",
       "    </tr>\n",
       "    <tr>\n",
       "      <th>275</th>\n",
       "      <td>jmschrei/pomegranate</td>\n",
       "      <td>python-package.yml</td>\n",
       "      <td>build</td>\n",
       "      <td>[push, pull_request]</td>\n",
       "      <td>3</td>\n",
       "      <td>False</td>\n",
       "      <td>3</td>\n",
       "      <td>False</td>\n",
       "      <td>[]</td>\n",
       "      <td>jmschrei/pomegranate/python-package.yml</td>\n",
       "    </tr>\n",
       "    <tr>\n",
       "      <th>298</th>\n",
       "      <td>weecology/retriever</td>\n",
       "      <td>python-package.yml</td>\n",
       "      <td>Python package</td>\n",
       "      <td>[push, pull_request]</td>\n",
       "      <td>3</td>\n",
       "      <td>False</td>\n",
       "      <td>6</td>\n",
       "      <td>False</td>\n",
       "      <td>[]</td>\n",
       "      <td>weecology/retriever/python-package.yml</td>\n",
       "    </tr>\n",
       "    <tr>\n",
       "      <th>301</th>\n",
       "      <td>TheTorProject/ooni-pipeline</td>\n",
       "      <td>build_deb_packages.yml</td>\n",
       "      <td>Build deb packages</td>\n",
       "      <td>[pull_request]</td>\n",
       "      <td>1</td>\n",
       "      <td>False</td>\n",
       "      <td>4</td>\n",
       "      <td>False</td>\n",
       "      <td>[]</td>\n",
       "      <td>TheTorProject/ooni-pipeline/build_deb_packages...</td>\n",
       "    </tr>\n",
       "    <tr>\n",
       "      <th>302</th>\n",
       "      <td>arcturusannamalai/open-tamil</td>\n",
       "      <td>regression.yml</td>\n",
       "      <td>Open-Tamil Python package</td>\n",
       "      <td>[push]</td>\n",
       "      <td>2</td>\n",
       "      <td>False</td>\n",
       "      <td>2</td>\n",
       "      <td>False</td>\n",
       "      <td>[]</td>\n",
       "      <td>arcturusannamalai/open-tamil/regression.yml</td>\n",
       "    </tr>\n",
       "    <tr>\n",
       "      <th>311</th>\n",
       "      <td>nipy/nipype</td>\n",
       "      <td>package.yml</td>\n",
       "      <td>Packaging</td>\n",
       "      <td>[push]</td>\n",
       "      <td>3</td>\n",
       "      <td>False</td>\n",
       "      <td>5</td>\n",
       "      <td>False</td>\n",
       "      <td>[]</td>\n",
       "      <td>nipy/nipype/package.yml</td>\n",
       "    </tr>\n",
       "    <tr>\n",
       "      <th>333</th>\n",
       "      <td>hankcs/HanLP</td>\n",
       "      <td>python-package.yml</td>\n",
       "      <td>Python package</td>\n",
       "      <td>[push, pull_request]</td>\n",
       "      <td>3</td>\n",
       "      <td>False</td>\n",
       "      <td>4</td>\n",
       "      <td>False</td>\n",
       "      <td>[]</td>\n",
       "      <td>hankcs/HanLP/python-package.yml</td>\n",
       "    </tr>\n",
       "  </tbody>\n",
       "</table>\n",
       "</div>"
      ],
      "text/plain": [
       "                       repository                  filename  \\\n",
       "45                  rasbt/mlxtend  python-package-conda.yml   \n",
       "81                ipython/ipython        python-package.yml   \n",
       "103                  HIT-SCIR/ltp        python-package.yml   \n",
       "275          jmschrei/pomegranate        python-package.yml   \n",
       "298           weecology/retriever        python-package.yml   \n",
       "301   TheTorProject/ooni-pipeline    build_deb_packages.yml   \n",
       "302  arcturusannamalai/open-tamil            regression.yml   \n",
       "311                   nipy/nipype               package.yml   \n",
       "333                  hankcs/HanLP        python-package.yml   \n",
       "\n",
       "                           name        trigger_events  n_of_actions  \\\n",
       "45   Python Package using Conda                [push]             2   \n",
       "81               Python package  [push, pull_request]             2   \n",
       "103              Python package  [push, pull_request]             2   \n",
       "275                       build  [push, pull_request]             3   \n",
       "298              Python package  [push, pull_request]             3   \n",
       "301          Build deb packages        [pull_request]             1   \n",
       "302   Open-Tamil Python package                [push]             2   \n",
       "311                   Packaging                [push]             3   \n",
       "333              Python package  [push, pull_request]             3   \n",
       "\n",
       "     docker_related_actions  n_of_run_commands  docker_related_commands  \\\n",
       "45                    False                  4                    False   \n",
       "81                    False                  2                    False   \n",
       "103                   False                  3                    False   \n",
       "275                   False                  3                    False   \n",
       "298                   False                  6                    False   \n",
       "301                   False                  4                    False   \n",
       "302                   False                  2                    False   \n",
       "311                   False                  5                    False   \n",
       "333                   False                  4                    False   \n",
       "\n",
       "    docker_commands                                               path  \n",
       "45               []             rasbt/mlxtend/python-package-conda.yml  \n",
       "81               []                 ipython/ipython/python-package.yml  \n",
       "103              []                    HIT-SCIR/ltp/python-package.yml  \n",
       "275              []            jmschrei/pomegranate/python-package.yml  \n",
       "298              []             weecology/retriever/python-package.yml  \n",
       "301              []  TheTorProject/ooni-pipeline/build_deb_packages...  \n",
       "302              []        arcturusannamalai/open-tamil/regression.yml  \n",
       "311              []                            nipy/nipype/package.yml  \n",
       "333              []                    hankcs/HanLP/python-package.yml  "
      ]
     },
     "execution_count": 11,
     "metadata": {},
     "output_type": "execute_result"
    }
   ],
   "source": [
    "temp_df = workflows_df.loc[\n",
    "    workflows_df[\"filename\"].str.contains(\"package\") | workflows_df[\"name\"].str.contains(\"package\")\n",
    "]\n",
    "print(\"Size:\", temp_df.shape[0])\n",
    "temp_df"
   ]
  },
  {
   "cell_type": "markdown",
   "id": "e0e97bd2",
   "metadata": {},
   "source": [
    "#### Actions with the keyword `package` in the slug"
   ]
  },
  {
   "cell_type": "markdown",
   "id": "f514c94a-4a76-4740-91f2-cc30fc54791f",
   "metadata": {},
   "source": [
    "##### Number of distinct actions used in the dataset"
   ]
  },
  {
   "cell_type": "markdown",
   "id": "5e8793e4-8e74-4766-ae94-2b911d79b148",
   "metadata": {},
   "source": [
    "Considering tags"
   ]
  },
  {
   "cell_type": "code",
   "execution_count": 18,
   "id": "91cad7e7-ee89-44cc-8812-6dbf9d1ea713",
   "metadata": {},
   "outputs": [
    {
     "data": {
      "text/plain": [
       "(1,)"
      ]
     },
     "execution_count": 18,
     "metadata": {},
     "output_type": "execute_result"
    }
   ],
   "source": [
    "actions_df.loc[actions_df.loc[:,\"action_slug\"].str.contains(\"package\"), \"action_slug\"].unique().shape"
   ]
  },
  {
   "cell_type": "markdown",
   "id": "bac95453-8faa-41a3-b7ee-06298091f3f5",
   "metadata": {},
   "source": [
    "Not considering tags"
   ]
  },
  {
   "cell_type": "code",
   "execution_count": 19,
   "id": "11bb9ae8-7f85-4259-aca5-ddf8964db427",
   "metadata": {
    "scrolled": true
   },
   "outputs": [
    {
     "data": {
      "text/plain": [
       "(1,)"
      ]
     },
     "execution_count": 19,
     "metadata": {},
     "output_type": "execute_result"
    }
   ],
   "source": [
    "actions_df.loc[actions_df.loc[:,\"action_slug\"].str.contains(\"package\"), \"action_slug_noTag\"].unique().shape"
   ]
  },
  {
   "cell_type": "markdown",
   "id": "fdf4edb7-18b4-48f0-90de-598881ca40dd",
   "metadata": {},
   "source": [
    "##### Number of workflows using at least one of such actions"
   ]
  },
  {
   "cell_type": "code",
   "execution_count": 20,
   "id": "add8c1ac-5964-4b7e-a22d-fb00cdbf9a6f",
   "metadata": {},
   "outputs": [
    {
     "data": {
      "text/plain": [
       "(1,)"
      ]
     },
     "execution_count": 20,
     "metadata": {},
     "output_type": "execute_result"
    }
   ],
   "source": [
    "actions_df.loc[actions_df.loc[:,\"action_slug\"].str.contains(\"package\"), \"workflow\"].unique().shape"
   ]
  },
  {
   "cell_type": "markdown",
   "id": "42fa8956",
   "metadata": {},
   "source": [
    "#### Run commands containing keyword `package`\n",
    "\n",
    "- Number of workflows containing at least one of such commands"
   ]
  },
  {
   "cell_type": "code",
   "execution_count": null,
   "id": "8f9cdca7-fb15-4545-96f0-70eed3504d38",
   "metadata": {},
   "outputs": [],
   "source": []
  },
  {
   "cell_type": "markdown",
   "id": "3d56c266",
   "metadata": {},
   "source": [
    "## RQ2 - \"What are the most frequently used Actions?\""
   ]
  },
  {
   "cell_type": "markdown",
   "id": "6516214d",
   "metadata": {},
   "source": [
    "#### Total number of actions used in the dataset"
   ]
  },
  {
   "cell_type": "markdown",
   "id": "5b0a331e-4f7d-4784-9c70-e5234eff76f9",
   "metadata": {},
   "source": [
    "Considering slugs"
   ]
  },
  {
   "cell_type": "code",
   "execution_count": 50,
   "id": "b6b710ad-f282-4aae-9734-176d70fbaa8c",
   "metadata": {},
   "outputs": [
    {
     "data": {
      "text/plain": [
       "(203,)"
      ]
     },
     "execution_count": 50,
     "metadata": {},
     "output_type": "execute_result"
    }
   ],
   "source": [
    "actions_df.action_slug.unique().shape"
   ]
  },
  {
   "cell_type": "markdown",
   "id": "15fc88bf-4bc2-46e7-8e1d-0a49c936944d",
   "metadata": {},
   "source": [
    "Not considering slugs"
   ]
  },
  {
   "cell_type": "code",
   "execution_count": 51,
   "id": "ae8bb85e-c134-4cb4-a28f-80b227aaebfd",
   "metadata": {},
   "outputs": [
    {
     "data": {
      "text/plain": [
       "(160,)"
      ]
     },
     "execution_count": 51,
     "metadata": {},
     "output_type": "execute_result"
    }
   ],
   "source": [
    "actions_df.action_slug_noTag.unique().shape"
   ]
  },
  {
   "cell_type": "markdown",
   "id": "1d80398b",
   "metadata": {},
   "source": [
    "#### Average number of actions per workflow"
   ]
  },
  {
   "cell_type": "code",
   "execution_count": 74,
   "id": "800268b0",
   "metadata": {},
   "outputs": [
    {
     "data": {
      "text/html": [
       "<div>\n",
       "<style scoped>\n",
       "    .dataframe tbody tr th:only-of-type {\n",
       "        vertical-align: middle;\n",
       "    }\n",
       "\n",
       "    .dataframe tbody tr th {\n",
       "        vertical-align: top;\n",
       "    }\n",
       "\n",
       "    .dataframe thead th {\n",
       "        text-align: right;\n",
       "    }\n",
       "</style>\n",
       "<table border=\"1\" class=\"dataframe\">\n",
       "  <thead>\n",
       "    <tr style=\"text-align: right;\">\n",
       "      <th></th>\n",
       "      <th>count</th>\n",
       "      <th>unique</th>\n",
       "      <th>top</th>\n",
       "      <th>freq</th>\n",
       "    </tr>\n",
       "    <tr>\n",
       "      <th>workflow</th>\n",
       "      <th></th>\n",
       "      <th></th>\n",
       "      <th></th>\n",
       "      <th></th>\n",
       "    </tr>\n",
       "  </thead>\n",
       "  <tbody>\n",
       "    <tr>\n",
       "      <th>Berico-Technologies/CLAVIN-NERD/develop.yml</th>\n",
       "      <td>2</td>\n",
       "      <td>2</td>\n",
       "      <td>actions/checkout@v2</td>\n",
       "      <td>1</td>\n",
       "    </tr>\n",
       "    <tr>\n",
       "      <th>Berico-Technologies/CLAVIN-NERD/feature.yml</th>\n",
       "      <td>2</td>\n",
       "      <td>2</td>\n",
       "      <td>actions/checkout@v2</td>\n",
       "      <td>1</td>\n",
       "    </tr>\n",
       "    <tr>\n",
       "      <th>Berico-Technologies/CLAVIN-NERD/featureWindows.yml</th>\n",
       "      <td>2</td>\n",
       "      <td>2</td>\n",
       "      <td>actions/checkout@v2</td>\n",
       "      <td>1</td>\n",
       "    </tr>\n",
       "    <tr>\n",
       "      <th>Berico-Technologies/CLAVIN-NERD/master.yml</th>\n",
       "      <td>2</td>\n",
       "      <td>2</td>\n",
       "      <td>actions/checkout@v2</td>\n",
       "      <td>1</td>\n",
       "    </tr>\n",
       "    <tr>\n",
       "      <th>Berico-Technologies/CLAVIN/develop.yml</th>\n",
       "      <td>2</td>\n",
       "      <td>2</td>\n",
       "      <td>actions/checkout@v2</td>\n",
       "      <td>1</td>\n",
       "    </tr>\n",
       "    <tr>\n",
       "      <th>...</th>\n",
       "      <td>...</td>\n",
       "      <td>...</td>\n",
       "      <td>...</td>\n",
       "      <td>...</td>\n",
       "    </tr>\n",
       "    <tr>\n",
       "      <th>xSAVIKx/AndroidScreencast/ci.yaml</th>\n",
       "      <td>3</td>\n",
       "      <td>3</td>\n",
       "      <td>actions/checkout@v2</td>\n",
       "      <td>1</td>\n",
       "    </tr>\n",
       "    <tr>\n",
       "      <th>xraypy/xraylarch/test-ubuntu.yml</th>\n",
       "      <td>2</td>\n",
       "      <td>2</td>\n",
       "      <td>actions/checkout@v2</td>\n",
       "      <td>1</td>\n",
       "    </tr>\n",
       "    <tr>\n",
       "      <th>xraypy/xraylarch/test-windows.yml</th>\n",
       "      <td>2</td>\n",
       "      <td>2</td>\n",
       "      <td>actions/checkout@v2</td>\n",
       "      <td>1</td>\n",
       "    </tr>\n",
       "    <tr>\n",
       "      <th>zblz/naima/examples.yaml</th>\n",
       "      <td>4</td>\n",
       "      <td>2</td>\n",
       "      <td>actions/checkout@v2</td>\n",
       "      <td>2</td>\n",
       "    </tr>\n",
       "    <tr>\n",
       "      <th>zblz/naima/tests.yaml</th>\n",
       "      <td>4</td>\n",
       "      <td>2</td>\n",
       "      <td>actions/checkout@v2</td>\n",
       "      <td>2</td>\n",
       "    </tr>\n",
       "  </tbody>\n",
       "</table>\n",
       "<p>391 rows × 4 columns</p>\n",
       "</div>"
      ],
      "text/plain": [
       "                                                   count unique  \\\n",
       "workflow                                                          \n",
       "Berico-Technologies/CLAVIN-NERD/develop.yml            2      2   \n",
       "Berico-Technologies/CLAVIN-NERD/feature.yml            2      2   \n",
       "Berico-Technologies/CLAVIN-NERD/featureWindows.yml     2      2   \n",
       "Berico-Technologies/CLAVIN-NERD/master.yml             2      2   \n",
       "Berico-Technologies/CLAVIN/develop.yml                 2      2   \n",
       "...                                                  ...    ...   \n",
       "xSAVIKx/AndroidScreencast/ci.yaml                      3      3   \n",
       "xraypy/xraylarch/test-ubuntu.yml                       2      2   \n",
       "xraypy/xraylarch/test-windows.yml                      2      2   \n",
       "zblz/naima/examples.yaml                               4      2   \n",
       "zblz/naima/tests.yaml                                  4      2   \n",
       "\n",
       "                                                                    top freq  \n",
       "workflow                                                                      \n",
       "Berico-Technologies/CLAVIN-NERD/develop.yml         actions/checkout@v2    1  \n",
       "Berico-Technologies/CLAVIN-NERD/feature.yml         actions/checkout@v2    1  \n",
       "Berico-Technologies/CLAVIN-NERD/featureWindows.yml  actions/checkout@v2    1  \n",
       "Berico-Technologies/CLAVIN-NERD/master.yml          actions/checkout@v2    1  \n",
       "Berico-Technologies/CLAVIN/develop.yml              actions/checkout@v2    1  \n",
       "...                                                                 ...  ...  \n",
       "xSAVIKx/AndroidScreencast/ci.yaml                   actions/checkout@v2    1  \n",
       "xraypy/xraylarch/test-ubuntu.yml                    actions/checkout@v2    1  \n",
       "xraypy/xraylarch/test-windows.yml                   actions/checkout@v2    1  \n",
       "zblz/naima/examples.yaml                            actions/checkout@v2    2  \n",
       "zblz/naima/tests.yaml                               actions/checkout@v2    2  \n",
       "\n",
       "[391 rows x 4 columns]"
      ]
     },
     "execution_count": 74,
     "metadata": {},
     "output_type": "execute_result"
    }
   ],
   "source": [
    "actions_df.groupby(\"workflow\")['action_slug'].describe()"
   ]
  },
  {
   "cell_type": "markdown",
   "id": "60f6d5a6-a225-4fc7-814c-5d30ac730709",
   "metadata": {},
   "source": [
    "Total number of actions"
   ]
  },
  {
   "cell_type": "code",
   "execution_count": 73,
   "id": "6efb504f-1ea3-4e35-b6ca-aab3bc215e8b",
   "metadata": {},
   "outputs": [
    {
     "data": {
      "text/plain": [
       "count    391.000000\n",
       "mean       3.976982\n",
       "std        4.287966\n",
       "min        1.000000\n",
       "25%        2.000000\n",
       "50%        3.000000\n",
       "75%        4.000000\n",
       "max       42.000000\n",
       "Name: count, dtype: float64"
      ]
     },
     "execution_count": 73,
     "metadata": {},
     "output_type": "execute_result"
    }
   ],
   "source": [
    "temp_df = actions_df.groupby(\"workflow\")['action_slug'].describe()\n",
    "temp_df[\"count\"].astype(\"int\").describe()"
   ]
  },
  {
   "cell_type": "markdown",
   "id": "ca487646-b0ba-4d1a-8d30-9982b429ac96",
   "metadata": {},
   "source": [
    "Total unique actions"
   ]
  },
  {
   "cell_type": "code",
   "execution_count": 75,
   "id": "852b778c-ade7-4044-adb5-9492ae9272b7",
   "metadata": {},
   "outputs": [
    {
     "data": {
      "text/plain": [
       "count    391.000000\n",
       "mean       2.820972\n",
       "std        1.612029\n",
       "min        1.000000\n",
       "25%        2.000000\n",
       "50%        3.000000\n",
       "75%        4.000000\n",
       "max       13.000000\n",
       "Name: unique, dtype: float64"
      ]
     },
     "execution_count": 75,
     "metadata": {},
     "output_type": "execute_result"
    }
   ],
   "source": [
    "temp_df[\"unique\"].astype(\"int\").describe()"
   ]
  },
  {
   "cell_type": "markdown",
   "id": "a6a2b726",
   "metadata": {},
   "source": [
    "#### Actions / Run Commands"
   ]
  },
  {
   "cell_type": "code",
   "execution_count": 85,
   "id": "afe04d22",
   "metadata": {},
   "outputs": [
    {
     "data": {
      "text/plain": [
       "count    397.000000\n",
       "mean       0.543910\n",
       "std        0.258788\n",
       "min        0.000000\n",
       "25%        0.333333\n",
       "50%        0.500000\n",
       "75%        0.727273\n",
       "max        1.000000\n",
       "dtype: float64"
      ]
     },
     "execution_count": 85,
     "metadata": {},
     "output_type": "execute_result"
    }
   ],
   "source": [
    "(workflows_df[\"n_of_actions\"] / (workflows_df[\"n_of_actions\"] + workflows_df[\"n_of_run_commands\"])).describe()"
   ]
  },
  {
   "cell_type": "markdown",
   "id": "5d78d6b3",
   "metadata": {},
   "source": [
    "#### Number of actions available on the GitHub Marketplace\n",
    "Ratio of actions available in the Marketplace vs custom actions not registered in the marketplace"
   ]
  },
  {
   "cell_type": "code",
   "execution_count": 101,
   "id": "53cbced6",
   "metadata": {},
   "outputs": [
    {
     "data": {
      "text/plain": [
       "160"
      ]
     },
     "execution_count": 101,
     "metadata": {},
     "output_type": "execute_result"
    }
   ],
   "source": [
    "total_distinct_actions_noSlug = actions_df.loc[\n",
    "    :, [\"action_slug_noTag\", \"available_in_marketplace\"]\n",
    "].drop_duplicates().shape[0]\n",
    "total_distinct_actions_noSlug"
   ]
  },
  {
   "cell_type": "code",
   "execution_count": 102,
   "id": "afb872cf-5571-44ad-b587-a22ca6ee3d90",
   "metadata": {},
   "outputs": [
    {
     "data": {
      "text/plain": [
       "104"
      ]
     },
     "execution_count": 102,
     "metadata": {},
     "output_type": "execute_result"
    }
   ],
   "source": [
    "available_in_marketplace = actions_df.loc[\n",
    "    actions_df[\"available_in_marketplace\"], [\"action_slug_noTag\", \"available_in_marketplace\"]\n",
    "].drop_duplicates().shape[0]\n",
    "available_in_marketplace"
   ]
  },
  {
   "cell_type": "code",
   "execution_count": 104,
   "id": "1941b4b3-4592-4907-b3b1-d404f3ac7cb8",
   "metadata": {},
   "outputs": [
    {
     "data": {
      "text/plain": [
       "0.65"
      ]
     },
     "execution_count": 104,
     "metadata": {},
     "output_type": "execute_result"
    }
   ],
   "source": [
    "available_in_marketplace / total_distinct_actions_noSlug"
   ]
  },
  {
   "cell_type": "markdown",
   "id": "01255619",
   "metadata": {},
   "source": [
    "#### Number of actions by verified creators"
   ]
  },
  {
   "cell_type": "code",
   "execution_count": 109,
   "id": "df70d7e7",
   "metadata": {},
   "outputs": [
    {
     "data": {
      "text/plain": [
       "30"
      ]
     },
     "execution_count": 109,
     "metadata": {},
     "output_type": "execute_result"
    }
   ],
   "source": [
    "by_verified_creator = actions_df.loc[\n",
    "    actions_df[\"from_verified_creator\"], [\"action_slug_noTag\", \"from_verified_creator\"]\n",
    "].drop_duplicates().shape[0]\n",
    "by_verified_creator"
   ]
  },
  {
   "cell_type": "markdown",
   "id": "aa8717c4",
   "metadata": {},
   "source": [
    "#### Distribution of action categories"
   ]
  },
  {
   "cell_type": "markdown",
   "id": "8c0b4d0d-c6ab-4f22-84a4-bc81293f6206",
   "metadata": {},
   "source": [
    "Distinct predefined (i.e., available in marketplace) actions"
   ]
  },
  {
   "cell_type": "code",
   "execution_count": 170,
   "id": "5aed8875-3fb5-483f-a056-a5b8976deb15",
   "metadata": {},
   "outputs": [
    {
     "name": "stdout",
     "output_type": "stream",
     "text": [
      "Count: 104\n",
      "\n"
     ]
    },
    {
     "data": {
      "text/html": [
       "<div>\n",
       "<style scoped>\n",
       "    .dataframe tbody tr th:only-of-type {\n",
       "        vertical-align: middle;\n",
       "    }\n",
       "\n",
       "    .dataframe tbody tr th {\n",
       "        vertical-align: top;\n",
       "    }\n",
       "\n",
       "    .dataframe thead th {\n",
       "        text-align: right;\n",
       "    }\n",
       "</style>\n",
       "<table border=\"1\" class=\"dataframe\">\n",
       "  <thead>\n",
       "    <tr style=\"text-align: right;\">\n",
       "      <th></th>\n",
       "      <th>action_slug_noTag</th>\n",
       "      <th>category_1</th>\n",
       "      <th>category_2</th>\n",
       "    </tr>\n",
       "  </thead>\n",
       "  <tbody>\n",
       "    <tr>\n",
       "      <th>0</th>\n",
       "      <td>actions/checkout</td>\n",
       "      <td>Utilities</td>\n",
       "      <td>None</td>\n",
       "    </tr>\n",
       "    <tr>\n",
       "      <th>1</th>\n",
       "      <td>actions/setup-python</td>\n",
       "      <td>Utilities</td>\n",
       "      <td>None</td>\n",
       "    </tr>\n",
       "    <tr>\n",
       "      <th>3</th>\n",
       "      <td>actions/cache</td>\n",
       "      <td>Utilities</td>\n",
       "      <td>Dependency management</td>\n",
       "    </tr>\n",
       "    <tr>\n",
       "      <th>4</th>\n",
       "      <td>actions/setup-java</td>\n",
       "      <td>Utilities</td>\n",
       "      <td>None</td>\n",
       "    </tr>\n",
       "    <tr>\n",
       "      <th>6</th>\n",
       "      <td>actions/setup-node</td>\n",
       "      <td>Utilities</td>\n",
       "      <td>None</td>\n",
       "    </tr>\n",
       "  </tbody>\n",
       "</table>\n",
       "</div>"
      ],
      "text/plain": [
       "      action_slug_noTag category_1             category_2\n",
       "0      actions/checkout  Utilities                   None\n",
       "1  actions/setup-python  Utilities                   None\n",
       "3         actions/cache  Utilities  Dependency management\n",
       "4    actions/setup-java  Utilities                   None\n",
       "6    actions/setup-node  Utilities                   None"
      ]
     },
     "execution_count": 170,
     "metadata": {},
     "output_type": "execute_result"
    }
   ],
   "source": [
    "distinct_predef_actions = actions_df.loc[\n",
    "    actions_df[\"available_in_marketplace\"], [\"action_slug_noTag\", \"category_1\", \"category_2\"]\n",
    "].drop_duplicates()\n",
    "distinct_predef_actions_count = distinct_predef_actions.shape[0]\n",
    "print(\"Count:\", distinct_predef_actions_count, end=\"\\n\\n\")\n",
    "distinct_predef_actions.head()"
   ]
  },
  {
   "cell_type": "markdown",
   "id": "eda25440-77ba-46c0-b2ca-a5b2edbf18c4",
   "metadata": {},
   "source": [
    "Uncategorized"
   ]
  },
  {
   "cell_type": "code",
   "execution_count": 187,
   "id": "bf1f086a-0620-4e2a-b6a3-98314711aa08",
   "metadata": {},
   "outputs": [
    {
     "data": {
      "text/html": [
       "<div>\n",
       "<style scoped>\n",
       "    .dataframe tbody tr th:only-of-type {\n",
       "        vertical-align: middle;\n",
       "    }\n",
       "\n",
       "    .dataframe tbody tr th {\n",
       "        vertical-align: top;\n",
       "    }\n",
       "\n",
       "    .dataframe thead th {\n",
       "        text-align: right;\n",
       "    }\n",
       "</style>\n",
       "<table border=\"1\" class=\"dataframe\">\n",
       "  <thead>\n",
       "    <tr style=\"text-align: right;\">\n",
       "      <th></th>\n",
       "      <th>action_slug_noTag</th>\n",
       "      <th>category_1</th>\n",
       "      <th>category_2</th>\n",
       "    </tr>\n",
       "  </thead>\n",
       "  <tbody>\n",
       "    <tr>\n",
       "      <th>1168</th>\n",
       "      <td>ts-graphviz/setup-graphviz</td>\n",
       "      <td>None</td>\n",
       "      <td>None</td>\n",
       "    </tr>\n",
       "  </tbody>\n",
       "</table>\n",
       "</div>"
      ],
      "text/plain": [
       "               action_slug_noTag category_1 category_2\n",
       "1168  ts-graphviz/setup-graphviz       None       None"
      ]
     },
     "execution_count": 187,
     "metadata": {},
     "output_type": "execute_result"
    }
   ],
   "source": [
    "uncategorized = distinct_predef_actions.loc[\n",
    "    distinct_predef_actions[\"category_1\"].isnull() & distinct_predef_actions[\"category_2\"].isnull()\n",
    "]\n",
    "uncategorized"
   ]
  },
  {
   "cell_type": "code",
   "execution_count": 190,
   "id": "f5ff687f-24cc-4613-8325-2600e580eba5",
   "metadata": {},
   "outputs": [
    {
     "data": {
      "text/plain": [
       "Uncategorized    1\n",
       "dtype: int64"
      ]
     },
     "execution_count": 190,
     "metadata": {},
     "output_type": "execute_result"
    }
   ],
   "source": [
    "uncategorized_series = pd.Series([1], index=[\"Uncategorized\"])\n",
    "uncategorized_series"
   ]
  },
  {
   "cell_type": "code",
   "execution_count": 167,
   "id": "964d90d8",
   "metadata": {},
   "outputs": [
    {
     "data": {
      "text/plain": [
       "Utilities                 30\n",
       "Continuous integration    21\n",
       "Code quality               7\n",
       "Dependency management      7\n",
       "Deployment                 7\n",
       "Container CI               6\n",
       "Publishing                 5\n",
       "Testing                    5\n",
       "Code review                5\n",
       "Reporting                  2\n",
       "Security                   2\n",
       "Chat                       2\n",
       "Project management         1\n",
       "Support                    1\n",
       "Open Source management     1\n",
       "Localization               1\n",
       "Name: category_1, dtype: int64"
      ]
     },
     "execution_count": 167,
     "metadata": {},
     "output_type": "execute_result"
    }
   ],
   "source": [
    "cat_1 = distinct_predef_actions[\"category_1\"].value_counts()\n",
    "cat_1"
   ]
  },
  {
   "cell_type": "code",
   "execution_count": 168,
   "id": "cac89883-983c-4a42-a65f-fc568b64dc3a",
   "metadata": {},
   "outputs": [
    {
     "data": {
      "text/plain": [
       "Continuous integration    19\n",
       "Utilities                 18\n",
       "Deployment                 6\n",
       "Publishing                 6\n",
       "Testing                    6\n",
       "Reporting                  4\n",
       "Container CI               4\n",
       "Code quality               4\n",
       "Dependency management      3\n",
       "Code review                3\n",
       "Project management         2\n",
       "Community                  1\n",
       "Desktop tools              1\n",
       "Chat                       1\n",
       "Open Source management     1\n",
       "Name: category_2, dtype: int64"
      ]
     },
     "execution_count": 168,
     "metadata": {},
     "output_type": "execute_result"
    }
   ],
   "source": [
    "cat_2 = distinct_predef_actions[\"category_2\"].value_counts()\n",
    "cat_2"
   ]
  },
  {
   "cell_type": "code",
   "execution_count": 193,
   "id": "5dcbdc59-f51a-4aaf-80f0-f4448a664f7b",
   "metadata": {},
   "outputs": [
    {
     "data": {
      "text/plain": [
       "Utilities                 48.0\n",
       "Continuous integration    40.0\n",
       "Deployment                13.0\n",
       "Testing                   11.0\n",
       "Code quality              11.0\n",
       "Publishing                11.0\n",
       "Container CI              10.0\n",
       "Dependency management     10.0\n",
       "Code review                8.0\n",
       "Reporting                  6.0\n",
       "Project management         3.0\n",
       "Chat                       3.0\n",
       "Open Source management     2.0\n",
       "Security                   2.0\n",
       "Desktop tools              1.0\n",
       "Support                    1.0\n",
       "Community                  1.0\n",
       "Localization               1.0\n",
       "Uncategorized              1.0\n",
       "dtype: float64"
      ]
     },
     "execution_count": 193,
     "metadata": {},
     "output_type": "execute_result"
    }
   ],
   "source": [
    "value_counts_sum = cat_1.add(cat_2, fill_value=0).sort_values(ascending=False)\n",
    "value_counts_sum = value_counts_sum.append(uncategorized_series)\n",
    "value_counts_sum"
   ]
  },
  {
   "cell_type": "markdown",
   "id": "55ec9440-0de1-4e33-adbd-bc2b0ab99817",
   "metadata": {},
   "source": [
    "Replication of Table 1 of *\"How Do Software Developers Use GitHub Actions to Automate Their Workflows?\"*"
   ]
  },
  {
   "cell_type": "code",
   "execution_count": 194,
   "id": "a0645bac-3227-4272-a15f-738044c9043a",
   "metadata": {},
   "outputs": [
    {
     "data": {
      "text/html": [
       "<div>\n",
       "<style scoped>\n",
       "    .dataframe tbody tr th:only-of-type {\n",
       "        vertical-align: middle;\n",
       "    }\n",
       "\n",
       "    .dataframe tbody tr th {\n",
       "        vertical-align: top;\n",
       "    }\n",
       "\n",
       "    .dataframe thead th {\n",
       "        text-align: right;\n",
       "    }\n",
       "</style>\n",
       "<table border=\"1\" class=\"dataframe\">\n",
       "  <thead>\n",
       "    <tr style=\"text-align: right;\">\n",
       "      <th></th>\n",
       "      <th># of Actions</th>\n",
       "      <th>%</th>\n",
       "    </tr>\n",
       "  </thead>\n",
       "  <tbody>\n",
       "    <tr>\n",
       "      <th>0</th>\n",
       "      <td>48.0</td>\n",
       "      <td>46.15</td>\n",
       "    </tr>\n",
       "    <tr>\n",
       "      <th>1</th>\n",
       "      <td>40.0</td>\n",
       "      <td>38.46</td>\n",
       "    </tr>\n",
       "    <tr>\n",
       "      <th>2</th>\n",
       "      <td>13.0</td>\n",
       "      <td>12.50</td>\n",
       "    </tr>\n",
       "    <tr>\n",
       "      <th>3</th>\n",
       "      <td>11.0</td>\n",
       "      <td>10.58</td>\n",
       "    </tr>\n",
       "    <tr>\n",
       "      <th>4</th>\n",
       "      <td>11.0</td>\n",
       "      <td>10.58</td>\n",
       "    </tr>\n",
       "    <tr>\n",
       "      <th>5</th>\n",
       "      <td>11.0</td>\n",
       "      <td>10.58</td>\n",
       "    </tr>\n",
       "    <tr>\n",
       "      <th>6</th>\n",
       "      <td>10.0</td>\n",
       "      <td>9.62</td>\n",
       "    </tr>\n",
       "    <tr>\n",
       "      <th>7</th>\n",
       "      <td>10.0</td>\n",
       "      <td>9.62</td>\n",
       "    </tr>\n",
       "    <tr>\n",
       "      <th>8</th>\n",
       "      <td>8.0</td>\n",
       "      <td>7.69</td>\n",
       "    </tr>\n",
       "    <tr>\n",
       "      <th>9</th>\n",
       "      <td>6.0</td>\n",
       "      <td>5.77</td>\n",
       "    </tr>\n",
       "    <tr>\n",
       "      <th>10</th>\n",
       "      <td>3.0</td>\n",
       "      <td>2.88</td>\n",
       "    </tr>\n",
       "    <tr>\n",
       "      <th>11</th>\n",
       "      <td>3.0</td>\n",
       "      <td>2.88</td>\n",
       "    </tr>\n",
       "    <tr>\n",
       "      <th>12</th>\n",
       "      <td>2.0</td>\n",
       "      <td>1.92</td>\n",
       "    </tr>\n",
       "    <tr>\n",
       "      <th>13</th>\n",
       "      <td>2.0</td>\n",
       "      <td>1.92</td>\n",
       "    </tr>\n",
       "    <tr>\n",
       "      <th>14</th>\n",
       "      <td>1.0</td>\n",
       "      <td>0.96</td>\n",
       "    </tr>\n",
       "    <tr>\n",
       "      <th>15</th>\n",
       "      <td>1.0</td>\n",
       "      <td>0.96</td>\n",
       "    </tr>\n",
       "    <tr>\n",
       "      <th>16</th>\n",
       "      <td>1.0</td>\n",
       "      <td>0.96</td>\n",
       "    </tr>\n",
       "    <tr>\n",
       "      <th>17</th>\n",
       "      <td>1.0</td>\n",
       "      <td>0.96</td>\n",
       "    </tr>\n",
       "    <tr>\n",
       "      <th>18</th>\n",
       "      <td>1.0</td>\n",
       "      <td>0.96</td>\n",
       "    </tr>\n",
       "    <tr>\n",
       "      <th>19</th>\n",
       "      <td>183.0</td>\n",
       "      <td>175.95</td>\n",
       "    </tr>\n",
       "  </tbody>\n",
       "</table>\n",
       "</div>"
      ],
      "text/plain": [
       "    # of Actions       %\n",
       "0           48.0   46.15\n",
       "1           40.0   38.46\n",
       "2           13.0   12.50\n",
       "3           11.0   10.58\n",
       "4           11.0   10.58\n",
       "5           11.0   10.58\n",
       "6           10.0    9.62\n",
       "7           10.0    9.62\n",
       "8            8.0    7.69\n",
       "9            6.0    5.77\n",
       "10           3.0    2.88\n",
       "11           3.0    2.88\n",
       "12           2.0    1.92\n",
       "13           2.0    1.92\n",
       "14           1.0    0.96\n",
       "15           1.0    0.96\n",
       "16           1.0    0.96\n",
       "17           1.0    0.96\n",
       "18           1.0    0.96\n",
       "19         183.0  175.95"
      ]
     },
     "execution_count": 194,
     "metadata": {},
     "output_type": "execute_result"
    }
   ],
   "source": [
    "df_temp = pd.DataFrame({\"# of Actions\": value_counts_sum, \"%\": ((value_counts_sum / distinct_predef_actions_count)*100).round(2)})\n",
    "df_temp.append(df_temp.sum(), ignore_index=True)"
   ]
  },
  {
   "cell_type": "markdown",
   "id": "1b217da6",
   "metadata": {},
   "source": [
    "#### 10 most popular actions"
   ]
  },
  {
   "cell_type": "code",
   "execution_count": 113,
   "id": "7c27a6f7",
   "metadata": {},
   "outputs": [
    {
     "data": {
      "text/plain": [
       "actions/checkout                   526\n",
       "actions/setup-python               171\n",
       "actions/cache                      123\n",
       "actions/upload-artifact            117\n",
       "actions/setup-java                 100\n",
       "codecov/codecov-action              27\n",
       "conda-incubator/setup-miniconda     25\n",
       "svenstaro/upload-release-action     22\n",
       "Gottox/irc-message-action           22\n",
       "jurplel/install-qt-action           21\n",
       "Name: action_slug_noTag, dtype: int64"
      ]
     },
     "execution_count": 113,
     "metadata": {},
     "output_type": "execute_result"
    }
   ],
   "source": [
    "actions_df.loc[:, \"action_slug_noTag\"].value_counts().head(10)"
   ]
  },
  {
   "cell_type": "markdown",
   "id": "20906ac6",
   "metadata": {},
   "source": [
    "#### 10 most popular actions available on the GitHub Marketplace"
   ]
  },
  {
   "cell_type": "code",
   "execution_count": 116,
   "id": "26344536",
   "metadata": {},
   "outputs": [
    {
     "data": {
      "text/plain": [
       "actions/checkout                   526\n",
       "actions/setup-python               171\n",
       "actions/cache                      123\n",
       "actions/upload-artifact            117\n",
       "actions/setup-java                 100\n",
       "codecov/codecov-action              27\n",
       "conda-incubator/setup-miniconda     25\n",
       "svenstaro/upload-release-action     22\n",
       "Gottox/irc-message-action           22\n",
       "jurplel/install-qt-action           21\n",
       "Name: action_slug_noTag, dtype: int64"
      ]
     },
     "execution_count": 116,
     "metadata": {},
     "output_type": "execute_result"
    }
   ],
   "source": [
    "actions_df.loc[actions_df[\"available_in_marketplace\"], \"action_slug_noTag\"].value_counts().head(10)"
   ]
  },
  {
   "cell_type": "markdown",
   "id": "c694a339",
   "metadata": {},
   "source": [
    "## RQ3 - \"What are the sets of actions that typically co-occur in workflows\""
   ]
  },
  {
   "cell_type": "markdown",
   "id": "70e337e6",
   "metadata": {},
   "source": [
    "#### Frequent 2-item sets of Actions"
   ]
  },
  {
   "cell_type": "markdown",
   "id": "cf70c393",
   "metadata": {},
   "source": [
    "##### With tags"
   ]
  },
  {
   "cell_type": "code",
   "execution_count": 119,
   "id": "6abc9cd2",
   "metadata": {},
   "outputs": [
    {
     "data": {
      "text/html": [
       "<div>\n",
       "<style scoped>\n",
       "    .dataframe tbody tr th:only-of-type {\n",
       "        vertical-align: middle;\n",
       "    }\n",
       "\n",
       "    .dataframe tbody tr th {\n",
       "        vertical-align: top;\n",
       "    }\n",
       "\n",
       "    .dataframe thead th {\n",
       "        text-align: right;\n",
       "    }\n",
       "</style>\n",
       "<table border=\"1\" class=\"dataframe\">\n",
       "  <thead>\n",
       "    <tr style=\"text-align: right;\">\n",
       "      <th></th>\n",
       "      <th>support</th>\n",
       "      <th>itemsets</th>\n",
       "      <th>length</th>\n",
       "    </tr>\n",
       "  </thead>\n",
       "  <tbody>\n",
       "    <tr>\n",
       "      <th>7</th>\n",
       "      <td>0.161209</td>\n",
       "      <td>(actions/checkout@v2, actions/cache@v2)</td>\n",
       "      <td>2</td>\n",
       "    </tr>\n",
       "    <tr>\n",
       "      <th>8</th>\n",
       "      <td>0.050378</td>\n",
       "      <td>(actions/upload-artifact@v2, actions/cache@v2)</td>\n",
       "      <td>2</td>\n",
       "    </tr>\n",
       "    <tr>\n",
       "      <th>9</th>\n",
       "      <td>0.118388</td>\n",
       "      <td>(actions/setup-java@v1, actions/checkout@v2)</td>\n",
       "      <td>2</td>\n",
       "    </tr>\n",
       "    <tr>\n",
       "      <th>10</th>\n",
       "      <td>0.050378</td>\n",
       "      <td>(actions/checkout@v2, actions/setup-python@v1)</td>\n",
       "      <td>2</td>\n",
       "    </tr>\n",
       "    <tr>\n",
       "      <th>11</th>\n",
       "      <td>0.226700</td>\n",
       "      <td>(actions/setup-python@v2, actions/checkout@v2)</td>\n",
       "      <td>2</td>\n",
       "    </tr>\n",
       "    <tr>\n",
       "      <th>12</th>\n",
       "      <td>0.123426</td>\n",
       "      <td>(actions/upload-artifact@v2, actions/checkout@v2)</td>\n",
       "      <td>2</td>\n",
       "    </tr>\n",
       "    <tr>\n",
       "      <th>13</th>\n",
       "      <td>0.052897</td>\n",
       "      <td>(actions/upload-artifact@v2, actions/setup-pyt...</td>\n",
       "      <td>2</td>\n",
       "    </tr>\n",
       "  </tbody>\n",
       "</table>\n",
       "</div>"
      ],
      "text/plain": [
       "     support                                           itemsets  length\n",
       "7   0.161209            (actions/checkout@v2, actions/cache@v2)       2\n",
       "8   0.050378     (actions/upload-artifact@v2, actions/cache@v2)       2\n",
       "9   0.118388       (actions/setup-java@v1, actions/checkout@v2)       2\n",
       "10  0.050378     (actions/checkout@v2, actions/setup-python@v1)       2\n",
       "11  0.226700     (actions/setup-python@v2, actions/checkout@v2)       2\n",
       "12  0.123426  (actions/upload-artifact@v2, actions/checkout@v2)       2\n",
       "13  0.052897  (actions/upload-artifact@v2, actions/setup-pyt...       2"
      ]
     },
     "execution_count": 119,
     "metadata": {},
     "output_type": "execute_result"
    }
   ],
   "source": [
    "frequent_actions_df.loc[frequent_actions_df[\"length\"] == 2]"
   ]
  },
  {
   "cell_type": "markdown",
   "id": "7da1bdc4",
   "metadata": {},
   "source": [
    "##### Without tags"
   ]
  },
  {
   "cell_type": "code",
   "execution_count": 121,
   "id": "d924edb3",
   "metadata": {},
   "outputs": [
    {
     "data": {
      "text/html": [
       "<div>\n",
       "<style scoped>\n",
       "    .dataframe tbody tr th:only-of-type {\n",
       "        vertical-align: middle;\n",
       "    }\n",
       "\n",
       "    .dataframe tbody tr th {\n",
       "        vertical-align: top;\n",
       "    }\n",
       "\n",
       "    .dataframe thead th {\n",
       "        text-align: right;\n",
       "    }\n",
       "</style>\n",
       "<table border=\"1\" class=\"dataframe\">\n",
       "  <thead>\n",
       "    <tr style=\"text-align: right;\">\n",
       "      <th></th>\n",
       "      <th>support</th>\n",
       "      <th>itemsets</th>\n",
       "      <th>length</th>\n",
       "    </tr>\n",
       "  </thead>\n",
       "  <tbody>\n",
       "    <tr>\n",
       "      <th>7</th>\n",
       "      <td>0.191436</td>\n",
       "      <td>(actions/cache, actions/checkout)</td>\n",
       "      <td>2</td>\n",
       "    </tr>\n",
       "    <tr>\n",
       "      <th>8</th>\n",
       "      <td>0.083123</td>\n",
       "      <td>(actions/cache, actions/setup-java)</td>\n",
       "      <td>2</td>\n",
       "    </tr>\n",
       "    <tr>\n",
       "      <th>9</th>\n",
       "      <td>0.065491</td>\n",
       "      <td>(actions/cache, actions/upload-artifact)</td>\n",
       "      <td>2</td>\n",
       "    </tr>\n",
       "    <tr>\n",
       "      <th>10</th>\n",
       "      <td>0.183879</td>\n",
       "      <td>(actions/setup-java, actions/checkout)</td>\n",
       "      <td>2</td>\n",
       "    </tr>\n",
       "    <tr>\n",
       "      <th>11</th>\n",
       "      <td>0.292191</td>\n",
       "      <td>(actions/setup-python, actions/checkout)</td>\n",
       "      <td>2</td>\n",
       "    </tr>\n",
       "    <tr>\n",
       "      <th>12</th>\n",
       "      <td>0.156171</td>\n",
       "      <td>(actions/checkout, actions/upload-artifact)</td>\n",
       "      <td>2</td>\n",
       "    </tr>\n",
       "    <tr>\n",
       "      <th>13</th>\n",
       "      <td>0.062972</td>\n",
       "      <td>(actions/checkout, codecov/codecov-action)</td>\n",
       "      <td>2</td>\n",
       "    </tr>\n",
       "    <tr>\n",
       "      <th>14</th>\n",
       "      <td>0.052897</td>\n",
       "      <td>(conda-incubator/setup-miniconda, actions/chec...</td>\n",
       "      <td>2</td>\n",
       "    </tr>\n",
       "    <tr>\n",
       "      <th>15</th>\n",
       "      <td>0.062972</td>\n",
       "      <td>(actions/setup-python, actions/upload-artifact)</td>\n",
       "      <td>2</td>\n",
       "    </tr>\n",
       "  </tbody>\n",
       "</table>\n",
       "</div>"
      ],
      "text/plain": [
       "     support                                           itemsets  length\n",
       "7   0.191436                  (actions/cache, actions/checkout)       2\n",
       "8   0.083123                (actions/cache, actions/setup-java)       2\n",
       "9   0.065491           (actions/cache, actions/upload-artifact)       2\n",
       "10  0.183879             (actions/setup-java, actions/checkout)       2\n",
       "11  0.292191           (actions/setup-python, actions/checkout)       2\n",
       "12  0.156171        (actions/checkout, actions/upload-artifact)       2\n",
       "13  0.062972         (actions/checkout, codecov/codecov-action)       2\n",
       "14  0.052897  (conda-incubator/setup-miniconda, actions/chec...       2\n",
       "15  0.062972    (actions/setup-python, actions/upload-artifact)       2"
      ]
     },
     "execution_count": 121,
     "metadata": {},
     "output_type": "execute_result"
    }
   ],
   "source": [
    "frequent_actions_noTags_df.loc[frequent_actions_noTags_df[\"length\"] == 2]"
   ]
  },
  {
   "cell_type": "code",
   "execution_count": 132,
   "id": "6b9dcbfc-129f-4caa-8f4c-c56b93b8cd9b",
   "metadata": {},
   "outputs": [
    {
     "data": {
      "text/plain": [
       "frozenset({'actions/checkout', 'conda-incubator/setup-miniconda'})"
      ]
     },
     "execution_count": 132,
     "metadata": {},
     "output_type": "execute_result"
    }
   ],
   "source": [
    "frequent_actions_noTags_df.loc[frequent_actions_noTags_df[\"length\"] == 2].loc[14,'itemsets']"
   ]
  },
  {
   "cell_type": "markdown",
   "id": "3dae74f5",
   "metadata": {},
   "source": [
    "#### Frequent 3-item sets of Actions"
   ]
  },
  {
   "cell_type": "markdown",
   "id": "30b18255",
   "metadata": {},
   "source": [
    "##### With tags"
   ]
  },
  {
   "cell_type": "code",
   "execution_count": 124,
   "id": "ebe7bc41",
   "metadata": {},
   "outputs": [
    {
     "data": {
      "text/html": [
       "<div>\n",
       "<style scoped>\n",
       "    .dataframe tbody tr th:only-of-type {\n",
       "        vertical-align: middle;\n",
       "    }\n",
       "\n",
       "    .dataframe tbody tr th {\n",
       "        vertical-align: top;\n",
       "    }\n",
       "\n",
       "    .dataframe thead th {\n",
       "        text-align: right;\n",
       "    }\n",
       "</style>\n",
       "<table border=\"1\" class=\"dataframe\">\n",
       "  <thead>\n",
       "    <tr style=\"text-align: right;\">\n",
       "      <th></th>\n",
       "      <th>support</th>\n",
       "      <th>itemsets</th>\n",
       "      <th>length</th>\n",
       "    </tr>\n",
       "  </thead>\n",
       "  <tbody>\n",
       "    <tr>\n",
       "      <th>14</th>\n",
       "      <td>0.050378</td>\n",
       "      <td>(actions/upload-artifact@v2, actions/setup-pyt...</td>\n",
       "      <td>3</td>\n",
       "    </tr>\n",
       "  </tbody>\n",
       "</table>\n",
       "</div>"
      ],
      "text/plain": [
       "     support                                           itemsets  length\n",
       "14  0.050378  (actions/upload-artifact@v2, actions/setup-pyt...       3"
      ]
     },
     "execution_count": 124,
     "metadata": {},
     "output_type": "execute_result"
    }
   ],
   "source": [
    "frequent_actions_df.loc[frequent_actions_df[\"length\"] == 3]"
   ]
  },
  {
   "cell_type": "markdown",
   "id": "e131c0ad-4ffa-4d44-8b90-1c0ada9ee163",
   "metadata": {},
   "source": [
    "Readable version"
   ]
  },
  {
   "cell_type": "code",
   "execution_count": 131,
   "id": "deeac872-9c1f-45a6-8559-84395d3e5f48",
   "metadata": {},
   "outputs": [
    {
     "data": {
      "text/plain": [
       "[frozenset({'actions/checkout@v2',\n",
       "            'actions/setup-python@v2',\n",
       "            'actions/upload-artifact@v2'})]"
      ]
     },
     "execution_count": 131,
     "metadata": {},
     "output_type": "execute_result"
    }
   ],
   "source": [
    "frequent_actions_df.loc[frequent_actions_df[\"length\"] == 3]['itemsets'].tolist()"
   ]
  },
  {
   "cell_type": "markdown",
   "id": "b726f410",
   "metadata": {},
   "source": [
    "##### Without tags"
   ]
  },
  {
   "cell_type": "code",
   "execution_count": 126,
   "id": "3ef81695",
   "metadata": {},
   "outputs": [
    {
     "data": {
      "text/html": [
       "<div>\n",
       "<style scoped>\n",
       "    .dataframe tbody tr th:only-of-type {\n",
       "        vertical-align: middle;\n",
       "    }\n",
       "\n",
       "    .dataframe tbody tr th {\n",
       "        vertical-align: top;\n",
       "    }\n",
       "\n",
       "    .dataframe thead th {\n",
       "        text-align: right;\n",
       "    }\n",
       "</style>\n",
       "<table border=\"1\" class=\"dataframe\">\n",
       "  <thead>\n",
       "    <tr style=\"text-align: right;\">\n",
       "      <th></th>\n",
       "      <th>support</th>\n",
       "      <th>itemsets</th>\n",
       "      <th>length</th>\n",
       "    </tr>\n",
       "  </thead>\n",
       "  <tbody>\n",
       "    <tr>\n",
       "      <th>16</th>\n",
       "      <td>0.083123</td>\n",
       "      <td>(actions/setup-java, actions/cache, actions/ch...</td>\n",
       "      <td>3</td>\n",
       "    </tr>\n",
       "    <tr>\n",
       "      <th>17</th>\n",
       "      <td>0.062972</td>\n",
       "      <td>(actions/cache, actions/checkout, actions/uplo...</td>\n",
       "      <td>3</td>\n",
       "    </tr>\n",
       "    <tr>\n",
       "      <th>18</th>\n",
       "      <td>0.062972</td>\n",
       "      <td>(actions/setup-python, actions/checkout, actio...</td>\n",
       "      <td>3</td>\n",
       "    </tr>\n",
       "  </tbody>\n",
       "</table>\n",
       "</div>"
      ],
      "text/plain": [
       "     support                                           itemsets  length\n",
       "16  0.083123  (actions/setup-java, actions/cache, actions/ch...       3\n",
       "17  0.062972  (actions/cache, actions/checkout, actions/uplo...       3\n",
       "18  0.062972  (actions/setup-python, actions/checkout, actio...       3"
      ]
     },
     "execution_count": 126,
     "metadata": {},
     "output_type": "execute_result"
    }
   ],
   "source": [
    "frequent_actions_noTags_df.loc[frequent_actions_noTags_df[\"length\"] == 3]"
   ]
  },
  {
   "cell_type": "markdown",
   "id": "52bac5e8-6553-4587-8f7b-76a0efa8ed43",
   "metadata": {},
   "source": [
    "Readable version"
   ]
  },
  {
   "cell_type": "code",
   "execution_count": 129,
   "id": "833c676e-146f-4c7e-8e46-ef03759c07cb",
   "metadata": {},
   "outputs": [
    {
     "data": {
      "text/plain": [
       "[frozenset({'actions/cache', 'actions/checkout', 'actions/setup-java'}),\n",
       " frozenset({'actions/cache', 'actions/checkout', 'actions/upload-artifact'}),\n",
       " frozenset({'actions/checkout',\n",
       "            'actions/setup-python',\n",
       "            'actions/upload-artifact'})]"
      ]
     },
     "execution_count": 129,
     "metadata": {},
     "output_type": "execute_result"
    }
   ],
   "source": [
    "frequent_actions_noTags_df.loc[frequent_actions_noTags_df[\"length\"] == 3]['itemsets'].tolist()"
   ]
  }
 ],
 "metadata": {
  "kernelspec": {
   "display_name": "GithubActions4DS",
   "language": "python",
   "name": "githubactions4ds"
  },
  "language_info": {
   "codemirror_mode": {
    "name": "ipython",
    "version": 3
   },
   "file_extension": ".py",
   "mimetype": "text/x-python",
   "name": "python",
   "nbconvert_exporter": "python",
   "pygments_lexer": "ipython3",
   "version": "3.9.9"
  },
  "toc": {
   "base_numbering": 1,
   "nav_menu": {},
   "number_sections": false,
   "sideBar": true,
   "skip_h1_title": true,
   "title_cell": "Table of Contents",
   "title_sidebar": "Contents",
   "toc_cell": false,
   "toc_position": {},
   "toc_section_display": true,
   "toc_window_display": false
  },
  "varInspector": {
   "cols": {
    "lenName": 16,
    "lenType": 16,
    "lenVar": 40
   },
   "kernels_config": {
    "python": {
     "delete_cmd_postfix": "",
     "delete_cmd_prefix": "del ",
     "library": "var_list.py",
     "varRefreshCmd": "print(var_dic_list())"
    },
    "r": {
     "delete_cmd_postfix": ") ",
     "delete_cmd_prefix": "rm(",
     "library": "var_list.r",
     "varRefreshCmd": "cat(var_dic_list()) "
    }
   },
   "types_to_exclude": [
    "module",
    "function",
    "builtin_function_or_method",
    "instance",
    "_Feature"
   ],
   "window_display": false
  }
 },
 "nbformat": 4,
 "nbformat_minor": 5
}
