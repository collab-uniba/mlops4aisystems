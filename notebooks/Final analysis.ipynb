{
 "cells": [
  {
   "cell_type": "markdown",
   "id": "2246aa15",
   "metadata": {},
   "source": [
    "# Data Analysis"
   ]
  },
  {
   "cell_type": "code",
   "execution_count": 1,
   "id": "66b41646",
   "metadata": {},
   "outputs": [],
   "source": [
    "import pandas as pd\n",
    "from mlxtend.frequent_patterns import apriori\n",
    "from mlxtend.preprocessing import TransactionEncoder"
   ]
  },
  {
   "cell_type": "code",
   "execution_count": 2,
   "id": "1108cfbf",
   "metadata": {},
   "outputs": [],
   "source": [
    "def mine_frequent_patterns(\n",
    "    transactions: list[list], support: float\n",
    ") -> pd.DataFrame:\n",
    "    te = TransactionEncoder()\n",
    "    encoding = te.fit(transactions).transform(transactions)\n",
    "    encoding_df = pd.DataFrame(encoding, columns=te.columns_)\n",
    "    frequent_itemsets = apriori(encoding_df, min_support=support, use_colnames=True)\n",
    "    frequent_itemsets[\"length\"] = frequent_itemsets[\"itemsets\"].apply(\n",
    "        lambda x: len(x)\n",
    "    )\n",
    "    return frequent_itemsets"
   ]
  },
  {
   "cell_type": "code",
   "execution_count": 3,
   "id": "3f1915d9",
   "metadata": {},
   "outputs": [],
   "source": [
    "workflows_df = pd.read_pickle(\"../dumps/workflows_df.pkl\")\n",
    "actions_df = pd.read_pickle(\"../dumps/actions_df.pkl\")\n",
    "frequent_actions_df = pd.read_pickle(\"../dumps/frequent_actions_df.pkl\")\n",
    "frequent_actions_noTags_df = pd.read_pickle(\"../dumps/frequent_actions_noTags_df.pkl\")\n",
    "frequent_docker_commands_subsample_df = pd.read_pickle(\"../dumps/frequent_docker_commands_subsample_df.pkl\")"
   ]
  },
  {
   "cell_type": "markdown",
   "id": "2cd14a42",
   "metadata": {},
   "source": [
    "## Descriptive statistics"
   ]
  },
  {
   "cell_type": "markdown",
   "id": "3642553e",
   "metadata": {},
   "source": [
    "### Repo Filtering\n",
    "\n",
    "- Original [RepoReapers dataset](https://reporeapers.github.io/results/1.html): **1,853,195**\n",
    "- Repositories classified as containing an _engineered software project_: **446,511** (not available: **38,742**)\n",
    "- Repositories with _DS-related keywords_ in topics or description: **2516**\n",
    "- Repositories with at least one workflow: **155**\n",
    "\n",
    "### Workflows\n",
    "\n",
    "- Total number of workflows found: **399**\n",
    "- Valid workflows (valid YAML file): **397**\n",
    "- Invalid workflows (invalid YAML file): **2**"
   ]
  },
  {
   "cell_type": "markdown",
   "id": "25abf40a",
   "metadata": {},
   "source": [
    "First of all, let's ensure that all repositories and valid workflows are being analyzed."
   ]
  },
  {
   "cell_type": "code",
   "execution_count": 4,
   "id": "8e3e951b",
   "metadata": {
    "scrolled": true
   },
   "outputs": [
    {
     "data": {
      "text/plain": [
       "(155,)"
      ]
     },
     "execution_count": 4,
     "metadata": {},
     "output_type": "execute_result"
    }
   ],
   "source": [
    "workflows_df[\"repository\"].unique().shape"
   ]
  },
  {
   "cell_type": "code",
   "execution_count": 5,
   "id": "8d40f55a",
   "metadata": {},
   "outputs": [
    {
     "data": {
      "text/plain": [
       "(397,)"
      ]
     },
     "execution_count": 5,
     "metadata": {},
     "output_type": "execute_result"
    }
   ],
   "source": [
    "workflows_df[\"path\"] = workflows_df[\"repository\"] + \"/\" + workflows_df[\"filename\"]\n",
    "workflows_df[\"path\"].unique().shape"
   ]
  },
  {
   "cell_type": "markdown",
   "id": "f8fb47a7",
   "metadata": {},
   "source": [
    "#### Number of workflows per repository"
   ]
  },
  {
   "cell_type": "code",
   "execution_count": 6,
   "id": "55b647b4",
   "metadata": {},
   "outputs": [
    {
     "data": {
      "text/plain": [
       "count    155.000000\n",
       "mean       2.561290\n",
       "std        2.401525\n",
       "min        1.000000\n",
       "25%        1.000000\n",
       "50%        2.000000\n",
       "75%        3.000000\n",
       "max       14.000000\n",
       "Name: path, dtype: float64"
      ]
     },
     "execution_count": 6,
     "metadata": {},
     "output_type": "execute_result"
    }
   ],
   "source": [
    "workflows_df.groupby(\"repository\").count()[\"path\"].describe()"
   ]
  },
  {
   "cell_type": "markdown",
   "id": "18f69255",
   "metadata": {},
   "source": [
    "#### Most common events triggering workflows"
   ]
  },
  {
   "cell_type": "code",
   "execution_count": 9,
   "id": "3629cf1d",
   "metadata": {},
   "outputs": [
    {
     "data": {
      "text/html": [
       "<div>\n",
       "<style scoped>\n",
       "    .dataframe tbody tr th:only-of-type {\n",
       "        vertical-align: middle;\n",
       "    }\n",
       "\n",
       "    .dataframe tbody tr th {\n",
       "        vertical-align: top;\n",
       "    }\n",
       "\n",
       "    .dataframe thead th {\n",
       "        text-align: right;\n",
       "    }\n",
       "</style>\n",
       "<table border=\"1\" class=\"dataframe\">\n",
       "  <thead>\n",
       "    <tr style=\"text-align: right;\">\n",
       "      <th></th>\n",
       "      <th>support</th>\n",
       "      <th>itemsets</th>\n",
       "      <th>length</th>\n",
       "    </tr>\n",
       "  </thead>\n",
       "  <tbody>\n",
       "    <tr>\n",
       "      <th>0</th>\n",
       "      <td>0.612091</td>\n",
       "      <td>(pull_request)</td>\n",
       "      <td>1</td>\n",
       "    </tr>\n",
       "    <tr>\n",
       "      <th>1</th>\n",
       "      <td>0.670025</td>\n",
       "      <td>(push)</td>\n",
       "      <td>1</td>\n",
       "    </tr>\n",
       "    <tr>\n",
       "      <th>2</th>\n",
       "      <td>0.057935</td>\n",
       "      <td>(release)</td>\n",
       "      <td>1</td>\n",
       "    </tr>\n",
       "    <tr>\n",
       "      <th>3</th>\n",
       "      <td>0.136020</td>\n",
       "      <td>(schedule)</td>\n",
       "      <td>1</td>\n",
       "    </tr>\n",
       "    <tr>\n",
       "      <th>4</th>\n",
       "      <td>0.136020</td>\n",
       "      <td>(workflow_dispatch)</td>\n",
       "      <td>1</td>\n",
       "    </tr>\n",
       "    <tr>\n",
       "      <th>5</th>\n",
       "      <td>0.493703</td>\n",
       "      <td>(pull_request, push)</td>\n",
       "      <td>2</td>\n",
       "    </tr>\n",
       "    <tr>\n",
       "      <th>6</th>\n",
       "      <td>0.060453</td>\n",
       "      <td>(pull_request, schedule)</td>\n",
       "      <td>2</td>\n",
       "    </tr>\n",
       "    <tr>\n",
       "      <th>7</th>\n",
       "      <td>0.078086</td>\n",
       "      <td>(pull_request, workflow_dispatch)</td>\n",
       "      <td>2</td>\n",
       "    </tr>\n",
       "    <tr>\n",
       "      <th>8</th>\n",
       "      <td>0.057935</td>\n",
       "      <td>(push, workflow_dispatch)</td>\n",
       "      <td>2</td>\n",
       "    </tr>\n",
       "  </tbody>\n",
       "</table>\n",
       "</div>"
      ],
      "text/plain": [
       "    support                           itemsets  length\n",
       "0  0.612091                     (pull_request)       1\n",
       "1  0.670025                             (push)       1\n",
       "2  0.057935                          (release)       1\n",
       "3  0.136020                         (schedule)       1\n",
       "4  0.136020                (workflow_dispatch)       1\n",
       "5  0.493703               (pull_request, push)       2\n",
       "6  0.060453           (pull_request, schedule)       2\n",
       "7  0.078086  (pull_request, workflow_dispatch)       2\n",
       "8  0.057935          (push, workflow_dispatch)       2"
      ]
     },
     "execution_count": 9,
     "metadata": {},
     "output_type": "execute_result"
    }
   ],
   "source": [
    "transactions = workflows_df['trigger_events'].tolist()\n",
    "mine_frequent_patterns(transactions, support=0.05)"
   ]
  },
  {
   "cell_type": "markdown",
   "id": "4198e02d",
   "metadata": {},
   "source": [
    "## RQ1 -  \"Is GitHub Actions used to automate project deployment?\"\n",
    "\n",
    "- ratio of workflows presenting actions / run commands which relate to Docker\n",
    "- ratio of workflows that upload a container image to Docker-Hub or to GitHub Packages\n",
    "- ratio of workflows that upload any type of software package to GitHub Packages."
   ]
  },
  {
   "cell_type": "markdown",
   "id": "2061b9da",
   "metadata": {},
   "source": [
    "#### Workflows with keyword `deploy` in name or filename"
   ]
  },
  {
   "cell_type": "code",
   "execution_count": null,
   "id": "d456c4b9",
   "metadata": {},
   "outputs": [],
   "source": []
  },
  {
   "cell_type": "markdown",
   "id": "637a0ab4",
   "metadata": {},
   "source": [
    "#### Actions with keyword `deploy` in the slug\n",
    "\n",
    "- Number of distinct actions used in the dataset\n",
    "- Number of workflows using at least one of such actions"
   ]
  },
  {
   "cell_type": "code",
   "execution_count": null,
   "id": "1f8ac18a",
   "metadata": {},
   "outputs": [],
   "source": []
  },
  {
   "cell_type": "markdown",
   "id": "3729c038",
   "metadata": {},
   "source": [
    "#### Run commands containing keyword `deploy`\n",
    "\n",
    "- Number of workflows containing at least one of such commands"
   ]
  },
  {
   "cell_type": "code",
   "execution_count": null,
   "id": "66bc9d1e",
   "metadata": {},
   "outputs": [],
   "source": []
  },
  {
   "cell_type": "markdown",
   "id": "c25725c2",
   "metadata": {},
   "source": [
    "#### Workflows with keyword `publish` in name or filename"
   ]
  },
  {
   "cell_type": "code",
   "execution_count": null,
   "id": "d64c3d54",
   "metadata": {},
   "outputs": [],
   "source": []
  },
  {
   "cell_type": "markdown",
   "id": "59c8da83",
   "metadata": {},
   "source": [
    "#### Actions with keyword `publish` in the slug\n",
    "\n",
    "- Number of distinct actions used in the dataset\n",
    "- Number of workflows using at least one of such actions"
   ]
  },
  {
   "cell_type": "code",
   "execution_count": null,
   "id": "6aaae8e9",
   "metadata": {},
   "outputs": [],
   "source": []
  },
  {
   "cell_type": "markdown",
   "id": "b46dcd2b",
   "metadata": {},
   "source": [
    "#### Run commands containing keyword `publish`\n",
    "\n",
    "- Number of workflows containing at least one of such commands"
   ]
  },
  {
   "cell_type": "code",
   "execution_count": null,
   "id": "43de4e22",
   "metadata": {},
   "outputs": [],
   "source": []
  },
  {
   "cell_type": "markdown",
   "id": "9c1dc3b4",
   "metadata": {},
   "source": [
    "#### Workflows with keyword `docker` in name or filename"
   ]
  },
  {
   "cell_type": "code",
   "execution_count": 23,
   "id": "3cf23a28",
   "metadata": {},
   "outputs": [
    {
     "name": "stdout",
     "output_type": "stream",
     "text": [
      "Size: 7\n"
     ]
    },
    {
     "data": {
      "text/html": [
       "<div>\n",
       "<style scoped>\n",
       "    .dataframe tbody tr th:only-of-type {\n",
       "        vertical-align: middle;\n",
       "    }\n",
       "\n",
       "    .dataframe tbody tr th {\n",
       "        vertical-align: top;\n",
       "    }\n",
       "\n",
       "    .dataframe thead th {\n",
       "        text-align: right;\n",
       "    }\n",
       "</style>\n",
       "<table border=\"1\" class=\"dataframe\">\n",
       "  <thead>\n",
       "    <tr style=\"text-align: right;\">\n",
       "      <th></th>\n",
       "      <th>repository</th>\n",
       "      <th>filename</th>\n",
       "      <th>name</th>\n",
       "      <th>trigger_events</th>\n",
       "      <th>n_of_actions</th>\n",
       "      <th>docker_related_actions</th>\n",
       "      <th>n_of_run_commands</th>\n",
       "      <th>docker_related_commands</th>\n",
       "      <th>docker_commands</th>\n",
       "      <th>path</th>\n",
       "    </tr>\n",
       "  </thead>\n",
       "  <tbody>\n",
       "    <tr>\n",
       "      <th>295</th>\n",
       "      <td>insideout10/wordlift-plugin</td>\n",
       "      <td>qa.deplyment.yml</td>\n",
       "      <td>docker_build_and_k8s_deployment</td>\n",
       "      <td>[push, workflow_dispatch]</td>\n",
       "      <td>9</td>\n",
       "      <td>True</td>\n",
       "      <td>0</td>\n",
       "      <td>False</td>\n",
       "      <td>[]</td>\n",
       "      <td>insideout10/wordlift-plugin/qa.deplyment.yml</td>\n",
       "    </tr>\n",
       "    <tr>\n",
       "      <th>297</th>\n",
       "      <td>weecology/retriever</td>\n",
       "      <td>docker-publish.yml</td>\n",
       "      <td>Docker</td>\n",
       "      <td>[push, pull_request]</td>\n",
       "      <td>6</td>\n",
       "      <td>True</td>\n",
       "      <td>5</td>\n",
       "      <td>False</td>\n",
       "      <td>[]</td>\n",
       "      <td>weecology/retriever/docker-publish.yml</td>\n",
       "    </tr>\n",
       "    <tr>\n",
       "      <th>323</th>\n",
       "      <td>tiborsimko/invenio-data</td>\n",
       "      <td>docker-build-server.yml</td>\n",
       "      <td>Build CAP server image</td>\n",
       "      <td>[push]</td>\n",
       "      <td>1</td>\n",
       "      <td>False</td>\n",
       "      <td>1</td>\n",
       "      <td>False</td>\n",
       "      <td>[]</td>\n",
       "      <td>tiborsimko/invenio-data/docker-build-server.yml</td>\n",
       "    </tr>\n",
       "    <tr>\n",
       "      <th>324</th>\n",
       "      <td>tiborsimko/invenio-data</td>\n",
       "      <td>docker-build-ui.yml</td>\n",
       "      <td>Build CAP UI image</td>\n",
       "      <td>[push]</td>\n",
       "      <td>1</td>\n",
       "      <td>False</td>\n",
       "      <td>1</td>\n",
       "      <td>False</td>\n",
       "      <td>[]</td>\n",
       "      <td>tiborsimko/invenio-data/docker-build-ui.yml</td>\n",
       "    </tr>\n",
       "    <tr>\n",
       "      <th>328</th>\n",
       "      <td>tiborsimko/data.cern.ch</td>\n",
       "      <td>docker-build-server.yml</td>\n",
       "      <td>Build CAP server image</td>\n",
       "      <td>[push]</td>\n",
       "      <td>1</td>\n",
       "      <td>False</td>\n",
       "      <td>1</td>\n",
       "      <td>False</td>\n",
       "      <td>[]</td>\n",
       "      <td>tiborsimko/data.cern.ch/docker-build-server.yml</td>\n",
       "    </tr>\n",
       "    <tr>\n",
       "      <th>329</th>\n",
       "      <td>tiborsimko/data.cern.ch</td>\n",
       "      <td>docker-build-ui.yml</td>\n",
       "      <td>Build CAP UI image</td>\n",
       "      <td>[push]</td>\n",
       "      <td>1</td>\n",
       "      <td>False</td>\n",
       "      <td>1</td>\n",
       "      <td>False</td>\n",
       "      <td>[]</td>\n",
       "      <td>tiborsimko/data.cern.ch/docker-build-ui.yml</td>\n",
       "    </tr>\n",
       "    <tr>\n",
       "      <th>383</th>\n",
       "      <td>linkedin/gobblin</td>\n",
       "      <td>docker_build_publish.yaml</td>\n",
       "      <td>Build and Publish Docker image</td>\n",
       "      <td>[push, pull_request, release]</td>\n",
       "      <td>4</td>\n",
       "      <td>True</td>\n",
       "      <td>1</td>\n",
       "      <td>False</td>\n",
       "      <td>[]</td>\n",
       "      <td>linkedin/gobblin/docker_build_publish.yaml</td>\n",
       "    </tr>\n",
       "  </tbody>\n",
       "</table>\n",
       "</div>"
      ],
      "text/plain": [
       "                      repository                   filename  \\\n",
       "295  insideout10/wordlift-plugin           qa.deplyment.yml   \n",
       "297          weecology/retriever         docker-publish.yml   \n",
       "323      tiborsimko/invenio-data    docker-build-server.yml   \n",
       "324      tiborsimko/invenio-data        docker-build-ui.yml   \n",
       "328      tiborsimko/data.cern.ch    docker-build-server.yml   \n",
       "329      tiborsimko/data.cern.ch        docker-build-ui.yml   \n",
       "383             linkedin/gobblin  docker_build_publish.yaml   \n",
       "\n",
       "                                name                 trigger_events  \\\n",
       "295  docker_build_and_k8s_deployment      [push, workflow_dispatch]   \n",
       "297                           Docker           [push, pull_request]   \n",
       "323           Build CAP server image                         [push]   \n",
       "324               Build CAP UI image                         [push]   \n",
       "328           Build CAP server image                         [push]   \n",
       "329               Build CAP UI image                         [push]   \n",
       "383   Build and Publish Docker image  [push, pull_request, release]   \n",
       "\n",
       "     n_of_actions  docker_related_actions  n_of_run_commands  \\\n",
       "295             9                    True                  0   \n",
       "297             6                    True                  5   \n",
       "323             1                   False                  1   \n",
       "324             1                   False                  1   \n",
       "328             1                   False                  1   \n",
       "329             1                   False                  1   \n",
       "383             4                    True                  1   \n",
       "\n",
       "     docker_related_commands docker_commands  \\\n",
       "295                    False              []   \n",
       "297                    False              []   \n",
       "323                    False              []   \n",
       "324                    False              []   \n",
       "328                    False              []   \n",
       "329                    False              []   \n",
       "383                    False              []   \n",
       "\n",
       "                                                path  \n",
       "295     insideout10/wordlift-plugin/qa.deplyment.yml  \n",
       "297           weecology/retriever/docker-publish.yml  \n",
       "323  tiborsimko/invenio-data/docker-build-server.yml  \n",
       "324      tiborsimko/invenio-data/docker-build-ui.yml  \n",
       "328  tiborsimko/data.cern.ch/docker-build-server.yml  \n",
       "329      tiborsimko/data.cern.ch/docker-build-ui.yml  \n",
       "383       linkedin/gobblin/docker_build_publish.yaml  "
      ]
     },
     "execution_count": 23,
     "metadata": {},
     "output_type": "execute_result"
    }
   ],
   "source": [
    "temp_df = workflows_df.loc[\n",
    "    workflows_df[\"filename\"].str.contains(\"docker\") | workflows_df[\"name\"].str.contains(\"docker\")\n",
    "]\n",
    "print(\"Size:\", temp_df.shape[0])\n",
    "temp_df"
   ]
  },
  {
   "cell_type": "markdown",
   "id": "194339d6",
   "metadata": {},
   "source": [
    "#### Actions with the keyword `docker` in the slug\n",
    "\n",
    "##### Number of distinct actions used in the dataset"
   ]
  },
  {
   "cell_type": "markdown",
   "id": "c00e8a61",
   "metadata": {},
   "source": [
    "Considering tags"
   ]
  },
  {
   "cell_type": "code",
   "execution_count": 43,
   "id": "3328c707",
   "metadata": {},
   "outputs": [
    {
     "data": {
      "text/plain": [
       "(14,)"
      ]
     },
     "execution_count": 43,
     "metadata": {},
     "output_type": "execute_result"
    }
   ],
   "source": [
    "actions_df.loc[actions_df.loc[:,\"action_slug\"].str.contains(\"docker\"), \"action_slug\"].unique().shape"
   ]
  },
  {
   "cell_type": "markdown",
   "id": "283cea94",
   "metadata": {},
   "source": [
    "Not considering tags"
   ]
  },
  {
   "cell_type": "code",
   "execution_count": 44,
   "id": "797cd6e1",
   "metadata": {
    "scrolled": true
   },
   "outputs": [
    {
     "data": {
      "text/plain": [
       "(10,)"
      ]
     },
     "execution_count": 44,
     "metadata": {},
     "output_type": "execute_result"
    }
   ],
   "source": [
    "actions_df.loc[actions_df.loc[:,\"action_slug\"].str.contains(\"docker\"), \"action_slug_noTag\"].unique().shape"
   ]
  },
  {
   "cell_type": "markdown",
   "id": "c6836d0f",
   "metadata": {
    "scrolled": true
   },
   "source": [
    "##### Number of workflows using at least one of such actions"
   ]
  },
  {
   "cell_type": "code",
   "execution_count": 48,
   "id": "178b8424",
   "metadata": {},
   "outputs": [
    {
     "data": {
      "text/plain": [
       "(14,)"
      ]
     },
     "execution_count": 48,
     "metadata": {},
     "output_type": "execute_result"
    }
   ],
   "source": [
    "actions_df.loc[actions_df.loc[:,\"action_slug\"].str.contains(\"docker\"), \"workflow\"].unique().shape"
   ]
  },
  {
   "cell_type": "markdown",
   "id": "06d1d056",
   "metadata": {},
   "source": [
    "#### Run commands containing keyword `docker`\n",
    "\n",
    "- Number of workflows containing at least one of such commands"
   ]
  },
  {
   "cell_type": "code",
   "execution_count": null,
   "id": "0fa36c4e",
   "metadata": {},
   "outputs": [],
   "source": []
  },
  {
   "cell_type": "markdown",
   "id": "10af5c4d",
   "metadata": {},
   "source": [
    "#### Most common docker commands"
   ]
  },
  {
   "cell_type": "code",
   "execution_count": null,
   "id": "96535651",
   "metadata": {},
   "outputs": [],
   "source": []
  },
  {
   "cell_type": "markdown",
   "id": "0d1fe58d",
   "metadata": {},
   "source": [
    "#### Workflows with the keyword `package` in name or filename"
   ]
  },
  {
   "cell_type": "code",
   "execution_count": null,
   "id": "646c6dfc",
   "metadata": {},
   "outputs": [],
   "source": []
  },
  {
   "cell_type": "markdown",
   "id": "e0e97bd2",
   "metadata": {},
   "source": [
    "#### Actions with the keyword `package` in the slug\n",
    "\n",
    "- Number of distinct actions used in the dataset\n",
    "- Number of workflows using at least one of such actions"
   ]
  },
  {
   "cell_type": "code",
   "execution_count": null,
   "id": "a4172436",
   "metadata": {},
   "outputs": [],
   "source": []
  },
  {
   "cell_type": "markdown",
   "id": "42fa8956",
   "metadata": {},
   "source": [
    "#### Run commands containing keyword `package`\n",
    "\n",
    "- Number of workflows containing at least one of such commands"
   ]
  },
  {
   "cell_type": "markdown",
   "id": "3d56c266",
   "metadata": {},
   "source": [
    "## RQ2 - \"What are the most frequently used Actions?\""
   ]
  },
  {
   "cell_type": "markdown",
   "id": "6516214d",
   "metadata": {},
   "source": [
    "#### Total number of actions used in the dataset"
   ]
  },
  {
   "cell_type": "code",
   "execution_count": null,
   "id": "048bc217",
   "metadata": {},
   "outputs": [],
   "source": []
  },
  {
   "cell_type": "markdown",
   "id": "1d80398b",
   "metadata": {},
   "source": [
    "#### Average number of actions per workflow"
   ]
  },
  {
   "cell_type": "code",
   "execution_count": null,
   "id": "800268b0",
   "metadata": {},
   "outputs": [],
   "source": []
  },
  {
   "cell_type": "markdown",
   "id": "a6a2b726",
   "metadata": {},
   "source": [
    "#### Actions / Run Commands"
   ]
  },
  {
   "cell_type": "code",
   "execution_count": null,
   "id": "afe04d22",
   "metadata": {},
   "outputs": [],
   "source": []
  },
  {
   "cell_type": "markdown",
   "id": "5d78d6b3",
   "metadata": {},
   "source": [
    "#### Number of actions available on the GitHub Marketplace\n",
    "Ratio of actions available in the Marketplace vs custom actions not registered in the marketplace"
   ]
  },
  {
   "cell_type": "code",
   "execution_count": null,
   "id": "53cbced6",
   "metadata": {},
   "outputs": [],
   "source": []
  },
  {
   "cell_type": "markdown",
   "id": "01255619",
   "metadata": {},
   "source": [
    "#### Number of actions by verified creators"
   ]
  },
  {
   "cell_type": "code",
   "execution_count": null,
   "id": "df70d7e7",
   "metadata": {},
   "outputs": [],
   "source": []
  },
  {
   "cell_type": "markdown",
   "id": "aa8717c4",
   "metadata": {},
   "source": [
    "#### Distribution of action categories"
   ]
  },
  {
   "cell_type": "code",
   "execution_count": null,
   "id": "964d90d8",
   "metadata": {},
   "outputs": [],
   "source": []
  },
  {
   "cell_type": "markdown",
   "id": "1b217da6",
   "metadata": {},
   "source": [
    "#### 10 most popular actions"
   ]
  },
  {
   "cell_type": "code",
   "execution_count": null,
   "id": "7c27a6f7",
   "metadata": {},
   "outputs": [],
   "source": []
  },
  {
   "cell_type": "markdown",
   "id": "20906ac6",
   "metadata": {},
   "source": [
    "#### 10 most popular actions available on the GitHub Marketplace"
   ]
  },
  {
   "cell_type": "code",
   "execution_count": null,
   "id": "26344536",
   "metadata": {},
   "outputs": [],
   "source": []
  },
  {
   "cell_type": "markdown",
   "id": "c694a339",
   "metadata": {},
   "source": [
    "## RQ3 - \"What are the sets of actions that typically co-occur in workflows\""
   ]
  },
  {
   "cell_type": "markdown",
   "id": "70e337e6",
   "metadata": {},
   "source": [
    "#### Frequent 2-item sets of Actions"
   ]
  },
  {
   "cell_type": "markdown",
   "id": "cf70c393",
   "metadata": {},
   "source": [
    "##### With tags"
   ]
  },
  {
   "cell_type": "code",
   "execution_count": null,
   "id": "6abc9cd2",
   "metadata": {},
   "outputs": [],
   "source": []
  },
  {
   "cell_type": "markdown",
   "id": "7da1bdc4",
   "metadata": {},
   "source": [
    "##### Without tags"
   ]
  },
  {
   "cell_type": "code",
   "execution_count": null,
   "id": "d924edb3",
   "metadata": {},
   "outputs": [],
   "source": []
  },
  {
   "cell_type": "markdown",
   "id": "3dae74f5",
   "metadata": {},
   "source": [
    "#### Frequent 3-item sets of Actions"
   ]
  },
  {
   "cell_type": "markdown",
   "id": "30b18255",
   "metadata": {},
   "source": [
    "##### With tags"
   ]
  },
  {
   "cell_type": "code",
   "execution_count": null,
   "id": "ebe7bc41",
   "metadata": {},
   "outputs": [],
   "source": []
  },
  {
   "cell_type": "markdown",
   "id": "b726f410",
   "metadata": {},
   "source": [
    "##### Without tags"
   ]
  },
  {
   "cell_type": "code",
   "execution_count": null,
   "id": "3ef81695",
   "metadata": {},
   "outputs": [],
   "source": []
  }
 ],
 "metadata": {
  "kernelspec": {
   "display_name": "GithubActions4DS",
   "language": "python",
   "name": "githubactions4ds"
  },
  "language_info": {
   "codemirror_mode": {
    "name": "ipython",
    "version": 3
   },
   "file_extension": ".py",
   "mimetype": "text/x-python",
   "name": "python",
   "nbconvert_exporter": "python",
   "pygments_lexer": "ipython3",
   "version": "3.9.9"
  },
  "toc": {
   "base_numbering": 1,
   "nav_menu": {},
   "number_sections": false,
   "sideBar": true,
   "skip_h1_title": true,
   "title_cell": "Table of Contents",
   "title_sidebar": "Contents",
   "toc_cell": false,
   "toc_position": {},
   "toc_section_display": true,
   "toc_window_display": false
  },
  "varInspector": {
   "cols": {
    "lenName": 16,
    "lenType": 16,
    "lenVar": 40
   },
   "kernels_config": {
    "python": {
     "delete_cmd_postfix": "",
     "delete_cmd_prefix": "del ",
     "library": "var_list.py",
     "varRefreshCmd": "print(var_dic_list())"
    },
    "r": {
     "delete_cmd_postfix": ") ",
     "delete_cmd_prefix": "rm(",
     "library": "var_list.r",
     "varRefreshCmd": "cat(var_dic_list()) "
    }
   },
   "types_to_exclude": [
    "module",
    "function",
    "builtin_function_or_method",
    "instance",
    "_Feature"
   ],
   "window_display": false
  }
 },
 "nbformat": 4,
 "nbformat_minor": 5
}
