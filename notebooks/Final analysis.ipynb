{
 "cells": [
  {
   "cell_type": "markdown",
   "id": "2246aa15",
   "metadata": {},
   "source": [
    "# Data Analysis"
   ]
  },
  {
   "cell_type": "code",
   "execution_count": 1,
   "id": "66b41646",
   "metadata": {},
   "outputs": [],
   "source": [
    "import pandas as pd"
   ]
  },
  {
   "cell_type": "code",
   "execution_count": 2,
   "id": "3f1915d9",
   "metadata": {},
   "outputs": [],
   "source": [
    "workflows_df = pd.read_pickle(\"../dumps/workflows_df.pkl\")\n",
    "actions_df = pd.read_pickle(\"../dumps/actions_df.pkl\")\n",
    "frequent_actions_df = pd.read_pickle(\"../dumps/frequent_actions_df.pkl\")\n",
    "frequent_actions_noTags_df = pd.read_pickle(\"../dumps/frequent_actions_noTags_df.pkl\")\n",
    "frequent_docker_commands_subsample_df = pd.read_pickle(\"../dumps/frequent_docker_commands_subsample_df.pkl\")"
   ]
  },
  {
   "cell_type": "markdown",
   "id": "2cd14a42",
   "metadata": {},
   "source": [
    "## Descriptive statistics"
   ]
  },
  {
   "cell_type": "markdown",
   "id": "3642553e",
   "metadata": {},
   "source": [
    "### Repo Filtering\n",
    "\n",
    "- Original [RepoReapers dataset](https://reporeapers.github.io/results/1.html): **1,853,195**\n",
    "- Repositories classified as containing an _engineered software project_: **446,511** (not available: **38,742**)\n",
    "- Repositories with _DS-related keywords_ in topics or description: **2516**\n",
    "- Repositories with at least one workflow: **155**\n",
    "\n",
    "### Workflows\n",
    "\n",
    "- Total number of workflows found: **399**\n",
    "- Valid workflows (valid YAML file): **398**\n",
    "- Invalid workflows (invalid YAML file): **1**"
   ]
  },
  {
   "cell_type": "markdown",
   "id": "f8fb47a7",
   "metadata": {},
   "source": [
    "#### Number of workflows per repository"
   ]
  },
  {
   "cell_type": "code",
   "execution_count": 14,
   "id": "2b6bb326",
   "metadata": {},
   "outputs": [
    {
     "data": {
      "text/plain": [
       "count    109.000000\n",
       "mean       3.064220\n",
       "std        3.567537\n",
       "min        1.000000\n",
       "25%        1.000000\n",
       "50%        2.000000\n",
       "75%        4.000000\n",
       "max       26.000000\n",
       "Name: filename, dtype: float64"
      ]
     },
     "execution_count": 14,
     "metadata": {},
     "output_type": "execute_result"
    }
   ],
   "source": [
    "workflows_df.groupby(\"repository\").count()[\"filename\"].describe()"
   ]
  },
  {
   "cell_type": "markdown",
   "id": "18f69255",
   "metadata": {},
   "source": [
    "#### Most common events triggering workflows"
   ]
  },
  {
   "cell_type": "code",
   "execution_count": null,
   "id": "ab852b34",
   "metadata": {},
   "outputs": [],
   "source": []
  },
  {
   "cell_type": "markdown",
   "id": "4198e02d",
   "metadata": {},
   "source": [
    "## RQ1 -  \"Is GitHub Actions used to automate project deployment?\"\n",
    "\n",
    "- ratio of workflows presenting actions / run commands which relate to Docker\n",
    "- ratio of workflows that upload a container image to Docker-Hub or to GitHub Packages\n",
    "- ratio of workflows that upload any type of software package to GitHub Packages."
   ]
  },
  {
   "cell_type": "markdown",
   "id": "2061b9da",
   "metadata": {},
   "source": [
    "#### Workflows with keyword `deploy` in name or filename"
   ]
  },
  {
   "cell_type": "code",
   "execution_count": null,
   "id": "d456c4b9",
   "metadata": {},
   "outputs": [],
   "source": []
  },
  {
   "cell_type": "markdown",
   "id": "637a0ab4",
   "metadata": {},
   "source": [
    "#### Actions with keyword `deploy` in the slug\n",
    "\n",
    "- Number of distinct actions used in the dataset\n",
    "- Number of workflows using at least one of such actions"
   ]
  },
  {
   "cell_type": "code",
   "execution_count": null,
   "id": "1f8ac18a",
   "metadata": {},
   "outputs": [],
   "source": []
  },
  {
   "cell_type": "markdown",
   "id": "3729c038",
   "metadata": {},
   "source": [
    "#### Run commands containing keyword `deploy`\n",
    "\n",
    "- Number of workflows containing at least one of such commands"
   ]
  },
  {
   "cell_type": "code",
   "execution_count": null,
   "id": "66bc9d1e",
   "metadata": {},
   "outputs": [],
   "source": []
  },
  {
   "cell_type": "markdown",
   "id": "9c1dc3b4",
   "metadata": {},
   "source": [
    "#### Workflows with keyword `docker` in name or filename"
   ]
  },
  {
   "cell_type": "code",
   "execution_count": null,
   "id": "3cf23a28",
   "metadata": {},
   "outputs": [],
   "source": []
  },
  {
   "cell_type": "markdown",
   "id": "194339d6",
   "metadata": {},
   "source": [
    "#### Actions with the keyword `docker` in the slug\n",
    "\n",
    "- Number of distinct actions used in the dataset\n",
    "- Number of workflows using at least one of such actions"
   ]
  },
  {
   "cell_type": "code",
   "execution_count": null,
   "id": "3328c707",
   "metadata": {},
   "outputs": [],
   "source": []
  },
  {
   "cell_type": "markdown",
   "id": "06d1d056",
   "metadata": {},
   "source": [
    "#### Run commands containing keyword `docker`\n",
    "\n",
    "- Number of workflows containing at least one of such commands"
   ]
  },
  {
   "cell_type": "code",
   "execution_count": null,
   "id": "0fa36c4e",
   "metadata": {},
   "outputs": [],
   "source": []
  },
  {
   "cell_type": "markdown",
   "id": "10af5c4d",
   "metadata": {},
   "source": [
    "#### Most common docker commands"
   ]
  },
  {
   "cell_type": "code",
   "execution_count": null,
   "id": "96535651",
   "metadata": {},
   "outputs": [],
   "source": []
  },
  {
   "cell_type": "markdown",
   "id": "0d1fe58d",
   "metadata": {},
   "source": [
    "#### Workflows with the keyword `package` in name or filename"
   ]
  },
  {
   "cell_type": "code",
   "execution_count": null,
   "id": "646c6dfc",
   "metadata": {},
   "outputs": [],
   "source": []
  },
  {
   "cell_type": "markdown",
   "id": "e0e97bd2",
   "metadata": {},
   "source": [
    "#### Actions with the keyword `package` in the slug\n",
    "\n",
    "- Number of distinct actions used in the dataset\n",
    "- Number of workflows using at least one of such actions"
   ]
  },
  {
   "cell_type": "code",
   "execution_count": null,
   "id": "a4172436",
   "metadata": {},
   "outputs": [],
   "source": []
  },
  {
   "cell_type": "markdown",
   "id": "42fa8956",
   "metadata": {},
   "source": [
    "#### Run commands containing keyword `package`\n",
    "\n",
    "- Number of workflows containing at least one of such commands"
   ]
  },
  {
   "cell_type": "markdown",
   "id": "3d56c266",
   "metadata": {},
   "source": [
    "## RQ2 - \"What are the most frequently used Actions?\""
   ]
  },
  {
   "cell_type": "markdown",
   "id": "6516214d",
   "metadata": {},
   "source": [
    "#### Total number of actions used in the dataset"
   ]
  },
  {
   "cell_type": "code",
   "execution_count": null,
   "id": "048bc217",
   "metadata": {},
   "outputs": [],
   "source": []
  },
  {
   "cell_type": "markdown",
   "id": "1d80398b",
   "metadata": {},
   "source": [
    "#### Average number of actions per workflow"
   ]
  },
  {
   "cell_type": "code",
   "execution_count": null,
   "id": "800268b0",
   "metadata": {},
   "outputs": [],
   "source": []
  },
  {
   "cell_type": "markdown",
   "id": "a6a2b726",
   "metadata": {},
   "source": [
    "#### Actions / Run Commands"
   ]
  },
  {
   "cell_type": "code",
   "execution_count": null,
   "id": "afe04d22",
   "metadata": {},
   "outputs": [],
   "source": []
  },
  {
   "cell_type": "markdown",
   "id": "5d78d6b3",
   "metadata": {},
   "source": [
    "#### Number of actions available on the GitHub Marketplace\n",
    "Ratio of actions available in the Marketplace vs custom actions not registered in the marketplace"
   ]
  },
  {
   "cell_type": "code",
   "execution_count": null,
   "id": "53cbced6",
   "metadata": {},
   "outputs": [],
   "source": []
  },
  {
   "cell_type": "markdown",
   "id": "01255619",
   "metadata": {},
   "source": [
    "#### Number of actions by verified creators"
   ]
  },
  {
   "cell_type": "code",
   "execution_count": null,
   "id": "df70d7e7",
   "metadata": {},
   "outputs": [],
   "source": []
  },
  {
   "cell_type": "markdown",
   "id": "aa8717c4",
   "metadata": {},
   "source": [
    "#### Distribution of action categories"
   ]
  },
  {
   "cell_type": "code",
   "execution_count": null,
   "id": "964d90d8",
   "metadata": {},
   "outputs": [],
   "source": []
  },
  {
   "cell_type": "markdown",
   "id": "1b217da6",
   "metadata": {},
   "source": [
    "#### 10 most popular actions"
   ]
  },
  {
   "cell_type": "code",
   "execution_count": null,
   "id": "7c27a6f7",
   "metadata": {},
   "outputs": [],
   "source": []
  },
  {
   "cell_type": "markdown",
   "id": "20906ac6",
   "metadata": {},
   "source": [
    "#### 10 most popular actions available on the GitHub Marketplace"
   ]
  },
  {
   "cell_type": "code",
   "execution_count": null,
   "id": "26344536",
   "metadata": {},
   "outputs": [],
   "source": []
  },
  {
   "cell_type": "markdown",
   "id": "c694a339",
   "metadata": {},
   "source": [
    "## RQ3 - \"What are the sets of actions that typically co-occur in workflows\""
   ]
  },
  {
   "cell_type": "markdown",
   "id": "70e337e6",
   "metadata": {},
   "source": [
    "#### Frequent 2-item sets of Actions"
   ]
  },
  {
   "cell_type": "markdown",
   "id": "cf70c393",
   "metadata": {},
   "source": [
    "##### With tags"
   ]
  },
  {
   "cell_type": "code",
   "execution_count": null,
   "id": "6abc9cd2",
   "metadata": {},
   "outputs": [],
   "source": []
  },
  {
   "cell_type": "markdown",
   "id": "7da1bdc4",
   "metadata": {},
   "source": [
    "##### Without tags"
   ]
  },
  {
   "cell_type": "code",
   "execution_count": null,
   "id": "d924edb3",
   "metadata": {},
   "outputs": [],
   "source": []
  },
  {
   "cell_type": "markdown",
   "id": "3dae74f5",
   "metadata": {},
   "source": [
    "#### Frequent 3-item sets of Actions"
   ]
  },
  {
   "cell_type": "markdown",
   "id": "30b18255",
   "metadata": {},
   "source": [
    "##### With tags"
   ]
  },
  {
   "cell_type": "code",
   "execution_count": null,
   "id": "ebe7bc41",
   "metadata": {},
   "outputs": [],
   "source": []
  },
  {
   "cell_type": "markdown",
   "id": "b726f410",
   "metadata": {},
   "source": [
    "##### Without tags"
   ]
  },
  {
   "cell_type": "code",
   "execution_count": null,
   "id": "3ef81695",
   "metadata": {},
   "outputs": [],
   "source": []
  }
 ],
 "metadata": {
  "kernelspec": {
   "display_name": "GithubActions4DS",
   "language": "python",
   "name": "githubactions4ds"
  },
  "language_info": {
   "codemirror_mode": {
    "name": "ipython",
    "version": 3
   },
   "file_extension": ".py",
   "mimetype": "text/x-python",
   "name": "python",
   "nbconvert_exporter": "python",
   "pygments_lexer": "ipython3",
   "version": "3.9.9"
  },
  "toc": {
   "base_numbering": 1,
   "nav_menu": {},
   "number_sections": false,
   "sideBar": true,
   "skip_h1_title": true,
   "title_cell": "Table of Contents",
   "title_sidebar": "Contents",
   "toc_cell": false,
   "toc_position": {},
   "toc_section_display": true,
   "toc_window_display": false
  },
  "varInspector": {
   "cols": {
    "lenName": 16,
    "lenType": 16,
    "lenVar": 40
   },
   "kernels_config": {
    "python": {
     "delete_cmd_postfix": "",
     "delete_cmd_prefix": "del ",
     "library": "var_list.py",
     "varRefreshCmd": "print(var_dic_list())"
    },
    "r": {
     "delete_cmd_postfix": ") ",
     "delete_cmd_prefix": "rm(",
     "library": "var_list.r",
     "varRefreshCmd": "cat(var_dic_list()) "
    }
   },
   "types_to_exclude": [
    "module",
    "function",
    "builtin_function_or_method",
    "instance",
    "_Feature"
   ],
   "window_display": false
  }
 },
 "nbformat": 4,
 "nbformat_minor": 5
}
