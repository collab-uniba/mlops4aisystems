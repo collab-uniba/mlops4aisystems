{
 "cells": [
  {
   "cell_type": "markdown",
   "id": "2246aa15",
   "metadata": {},
   "source": [
    "# Data Analysis"
   ]
  },
  {
   "cell_type": "code",
   "execution_count": 1,
   "id": "66b41646",
   "metadata": {},
   "outputs": [],
   "source": [
    "import pandas as pd\n",
    "from mlxtend.frequent_patterns import apriori\n",
    "from mlxtend.preprocessing import TransactionEncoder"
   ]
  },
  {
   "cell_type": "code",
   "execution_count": 2,
   "id": "1108cfbf",
   "metadata": {},
   "outputs": [],
   "source": [
    "def mine_frequent_patterns(\n",
    "    transactions: list[list], support: float\n",
    ") -> pd.DataFrame:\n",
    "    te = TransactionEncoder()\n",
    "    encoding = te.fit(transactions).transform(transactions)\n",
    "    encoding_df = pd.DataFrame(encoding, columns=te.columns_)\n",
    "    frequent_itemsets = apriori(encoding_df, min_support=support, use_colnames=True)\n",
    "    frequent_itemsets[\"length\"] = frequent_itemsets[\"itemsets\"].apply(\n",
    "        lambda x: len(x)\n",
    "    )\n",
    "    return frequent_itemsets"
   ]
  },
  {
   "cell_type": "code",
   "execution_count": 88,
   "id": "3f1915d9",
   "metadata": {},
   "outputs": [],
   "source": [
    "workflows_df = pd.read_pickle(\"../dumps/workflows_df.pkl\")\n",
    "actions_df = pd.read_pickle(\"../dumps/actions_df.pkl\")\n",
    "frequent_actions_df = pd.read_pickle(\"../dumps/frequent_actions_df.pkl\")\n",
    "frequent_actions_noTags_df = pd.read_pickle(\"../dumps/frequent_actions_noTags_df.pkl\")\n",
    "frequent_docker_commands_subsample_df = pd.read_pickle(\"../dumps/frequent_docker_commands_subsample_df.pkl\")\n",
    "frequent_cml_commands_subsample_df = pd.read_pickle(\"../dumps/frequent_cml_commands_subsample_df.pkl\")"
   ]
  },
  {
   "cell_type": "markdown",
   "id": "2cd14a42",
   "metadata": {},
   "source": [
    "## Descriptive statistics"
   ]
  },
  {
   "cell_type": "markdown",
   "id": "25abf40a",
   "metadata": {},
   "source": [
    "First of all, let's ensure that all repositories and valid workflows are being analyzed."
   ]
  },
  {
   "cell_type": "code",
   "execution_count": 4,
   "id": "8e3e951b",
   "metadata": {
    "scrolled": true
   },
   "outputs": [
    {
     "data": {
      "text/plain": [
       "(29,)"
      ]
     },
     "execution_count": 4,
     "metadata": {},
     "output_type": "execute_result"
    }
   ],
   "source": [
    "workflows_df[\"repository\"].unique().shape"
   ]
  },
  {
   "cell_type": "code",
   "execution_count": 5,
   "id": "8d40f55a",
   "metadata": {},
   "outputs": [
    {
     "data": {
      "text/plain": [
       "(38,)"
      ]
     },
     "execution_count": 5,
     "metadata": {},
     "output_type": "execute_result"
    }
   ],
   "source": [
    "workflows_df[\"path\"] = workflows_df[\"repository\"] + \"/\" + workflows_df[\"filename\"]\n",
    "workflows_df[\"path\"].unique().shape"
   ]
  },
  {
   "cell_type": "markdown",
   "id": "f8fb47a7",
   "metadata": {},
   "source": [
    "#### Number of workflows per repository"
   ]
  },
  {
   "cell_type": "code",
   "execution_count": 6,
   "id": "55b647b4",
   "metadata": {},
   "outputs": [
    {
     "data": {
      "text/plain": [
       "count    29.000000\n",
       "mean      1.310345\n",
       "std       0.806379\n",
       "min       1.000000\n",
       "25%       1.000000\n",
       "50%       1.000000\n",
       "75%       1.000000\n",
       "max       4.000000\n",
       "Name: path, dtype: float64"
      ]
     },
     "execution_count": 6,
     "metadata": {},
     "output_type": "execute_result"
    }
   ],
   "source": [
    "workflows_df.groupby(\"repository\").count()[\"path\"].describe()"
   ]
  },
  {
   "cell_type": "markdown",
   "id": "18f69255",
   "metadata": {},
   "source": [
    "#### Most common events triggering workflows"
   ]
  },
  {
   "cell_type": "code",
   "execution_count": 7,
   "id": "3629cf1d",
   "metadata": {},
   "outputs": [
    {
     "data": {
      "text/html": [
       "<div>\n",
       "<style scoped>\n",
       "    .dataframe tbody tr th:only-of-type {\n",
       "        vertical-align: middle;\n",
       "    }\n",
       "\n",
       "    .dataframe tbody tr th {\n",
       "        vertical-align: top;\n",
       "    }\n",
       "\n",
       "    .dataframe thead th {\n",
       "        text-align: right;\n",
       "    }\n",
       "</style>\n",
       "<table border=\"1\" class=\"dataframe\">\n",
       "  <thead>\n",
       "    <tr style=\"text-align: right;\">\n",
       "      <th></th>\n",
       "      <th>support</th>\n",
       "      <th>itemsets</th>\n",
       "      <th>length</th>\n",
       "    </tr>\n",
       "  </thead>\n",
       "  <tbody>\n",
       "    <tr>\n",
       "      <th>0</th>\n",
       "      <td>0.078947</td>\n",
       "      <td>(issue_comment)</td>\n",
       "      <td>1</td>\n",
       "    </tr>\n",
       "    <tr>\n",
       "      <th>1</th>\n",
       "      <td>0.184211</td>\n",
       "      <td>(pull_request)</td>\n",
       "      <td>1</td>\n",
       "    </tr>\n",
       "    <tr>\n",
       "      <th>2</th>\n",
       "      <td>0.789474</td>\n",
       "      <td>(push)</td>\n",
       "      <td>1</td>\n",
       "    </tr>\n",
       "    <tr>\n",
       "      <th>3</th>\n",
       "      <td>0.052632</td>\n",
       "      <td>(release)</td>\n",
       "      <td>1</td>\n",
       "    </tr>\n",
       "    <tr>\n",
       "      <th>4</th>\n",
       "      <td>0.052632</td>\n",
       "      <td>(schedule)</td>\n",
       "      <td>1</td>\n",
       "    </tr>\n",
       "    <tr>\n",
       "      <th>5</th>\n",
       "      <td>0.131579</td>\n",
       "      <td>(push, pull_request)</td>\n",
       "      <td>2</td>\n",
       "    </tr>\n",
       "  </tbody>\n",
       "</table>\n",
       "</div>"
      ],
      "text/plain": [
       "    support              itemsets  length\n",
       "0  0.078947       (issue_comment)       1\n",
       "1  0.184211        (pull_request)       1\n",
       "2  0.789474                (push)       1\n",
       "3  0.052632             (release)       1\n",
       "4  0.052632            (schedule)       1\n",
       "5  0.131579  (push, pull_request)       2"
      ]
     },
     "execution_count": 7,
     "metadata": {},
     "output_type": "execute_result"
    }
   ],
   "source": [
    "transactions = workflows_df['trigger_events'].tolist()\n",
    "mine_frequent_patterns(transactions, support=0.05)"
   ]
  },
  {
   "cell_type": "markdown",
   "id": "9c1dc3b4",
   "metadata": {},
   "source": [
    "#### Workflows with keyword `docker` in name or filename"
   ]
  },
  {
   "cell_type": "code",
   "execution_count": 8,
   "id": "3cf23a28",
   "metadata": {},
   "outputs": [
    {
     "name": "stdout",
     "output_type": "stream",
     "text": [
      "Size: 2\n"
     ]
    },
    {
     "data": {
      "text/html": [
       "<div>\n",
       "<style scoped>\n",
       "    .dataframe tbody tr th:only-of-type {\n",
       "        vertical-align: middle;\n",
       "    }\n",
       "\n",
       "    .dataframe tbody tr th {\n",
       "        vertical-align: top;\n",
       "    }\n",
       "\n",
       "    .dataframe thead th {\n",
       "        text-align: right;\n",
       "    }\n",
       "</style>\n",
       "<table border=\"1\" class=\"dataframe\">\n",
       "  <thead>\n",
       "    <tr style=\"text-align: right;\">\n",
       "      <th></th>\n",
       "      <th>repository</th>\n",
       "      <th>filename</th>\n",
       "      <th>name</th>\n",
       "      <th>trigger_events</th>\n",
       "      <th>n_of_actions</th>\n",
       "      <th>cml_related_actions</th>\n",
       "      <th>docker_related_actions</th>\n",
       "      <th>n_of_run_commands</th>\n",
       "      <th>cml_related_commands</th>\n",
       "      <th>cml_commands</th>\n",
       "      <th>docker_related_commands</th>\n",
       "      <th>docker_commands</th>\n",
       "      <th>path</th>\n",
       "    </tr>\n",
       "  </thead>\n",
       "  <tbody>\n",
       "    <tr>\n",
       "      <th>5</th>\n",
       "      <td>2796gaurav/automate</td>\n",
       "      <td>docker_destroy.yml</td>\n",
       "      <td>Docker Image destroy</td>\n",
       "      <td>[issue_comment]</td>\n",
       "      <td>2</td>\n",
       "      <td>False</td>\n",
       "      <td>False</td>\n",
       "      <td>4</td>\n",
       "      <td>False</td>\n",
       "      <td>[]</td>\n",
       "      <td>False</td>\n",
       "      <td>[]</td>\n",
       "      <td>2796gaurav/automate/docker_destroy.yml</td>\n",
       "    </tr>\n",
       "    <tr>\n",
       "      <th>7</th>\n",
       "      <td>2796gaurav/automate</td>\n",
       "      <td>dockerize.yml</td>\n",
       "      <td>Docker Image CI</td>\n",
       "      <td>[issue_comment]</td>\n",
       "      <td>3</td>\n",
       "      <td>False</td>\n",
       "      <td>False</td>\n",
       "      <td>5</td>\n",
       "      <td>False</td>\n",
       "      <td>[]</td>\n",
       "      <td>True</td>\n",
       "      <td>[build, push]</td>\n",
       "      <td>2796gaurav/automate/dockerize.yml</td>\n",
       "    </tr>\n",
       "  </tbody>\n",
       "</table>\n",
       "</div>"
      ],
      "text/plain": [
       "            repository            filename                  name  \\\n",
       "5  2796gaurav/automate  docker_destroy.yml  Docker Image destroy   \n",
       "7  2796gaurav/automate       dockerize.yml       Docker Image CI   \n",
       "\n",
       "    trigger_events  n_of_actions  cml_related_actions  docker_related_actions  \\\n",
       "5  [issue_comment]             2                False                   False   \n",
       "7  [issue_comment]             3                False                   False   \n",
       "\n",
       "   n_of_run_commands  cml_related_commands cml_commands  \\\n",
       "5                  4                 False           []   \n",
       "7                  5                 False           []   \n",
       "\n",
       "   docker_related_commands docker_commands  \\\n",
       "5                    False              []   \n",
       "7                     True   [build, push]   \n",
       "\n",
       "                                     path  \n",
       "5  2796gaurav/automate/docker_destroy.yml  \n",
       "7       2796gaurav/automate/dockerize.yml  "
      ]
     },
     "execution_count": 8,
     "metadata": {},
     "output_type": "execute_result"
    }
   ],
   "source": [
    "temp_df = workflows_df.loc[\n",
    "    workflows_df[\"filename\"].str.contains(\"docker\") | workflows_df[\"name\"].str.contains(\"docker\")\n",
    "]\n",
    "print(\"Size:\", temp_df.shape[0])\n",
    "temp_df"
   ]
  },
  {
   "cell_type": "markdown",
   "id": "194339d6",
   "metadata": {},
   "source": [
    "#### Actions with the keyword `docker` in the slug"
   ]
  },
  {
   "cell_type": "markdown",
   "id": "d10ad7ce-f7cc-4b82-8dab-07abb59d05f6",
   "metadata": {},
   "source": [
    "##### Number of distinct actions used in the dataset"
   ]
  },
  {
   "cell_type": "markdown",
   "id": "c00e8a61",
   "metadata": {},
   "source": [
    "Considering tags"
   ]
  },
  {
   "cell_type": "code",
   "execution_count": 9,
   "id": "3328c707",
   "metadata": {},
   "outputs": [
    {
     "data": {
      "text/plain": [
       "(0,)"
      ]
     },
     "execution_count": 9,
     "metadata": {},
     "output_type": "execute_result"
    }
   ],
   "source": [
    "actions_df.loc[actions_df.loc[:,\"action_slug\"].str.contains(\"docker\"), \"action_slug\"].unique().shape"
   ]
  },
  {
   "cell_type": "markdown",
   "id": "283cea94",
   "metadata": {},
   "source": [
    "Not considering tags"
   ]
  },
  {
   "cell_type": "code",
   "execution_count": 59,
   "id": "797cd6e1",
   "metadata": {
    "scrolled": true
   },
   "outputs": [
    {
     "data": {
      "text/plain": [
       "(0,)"
      ]
     },
     "execution_count": 59,
     "metadata": {},
     "output_type": "execute_result"
    }
   ],
   "source": [
    "actions_df.loc[actions_df.loc[:,\"action_slug\"].str.contains(\"docker\"), \"action_slug_noTag\"].unique().shape"
   ]
  },
  {
   "cell_type": "markdown",
   "id": "c6836d0f",
   "metadata": {},
   "source": [
    "##### Number of workflows using at least one of such actions"
   ]
  },
  {
   "cell_type": "code",
   "execution_count": 11,
   "id": "178b8424",
   "metadata": {},
   "outputs": [
    {
     "data": {
      "text/plain": [
       "(0,)"
      ]
     },
     "execution_count": 11,
     "metadata": {},
     "output_type": "execute_result"
    }
   ],
   "source": [
    "actions_df.loc[actions_df.loc[:,\"action_slug\"].str.contains(\"docker\"), \"workflow\"].unique().shape"
   ]
  },
  {
   "cell_type": "markdown",
   "id": "06d1d056",
   "metadata": {},
   "source": [
    "#### Run commands containing keyword `docker`\n",
    "\n",
    "I.e., number of workflows containing at least one of such commands"
   ]
  },
  {
   "cell_type": "code",
   "execution_count": 12,
   "id": "fc7f56c6-6650-42e0-ba09-811526f43ca9",
   "metadata": {},
   "outputs": [
    {
     "data": {
      "text/plain": [
       "1"
      ]
     },
     "execution_count": 12,
     "metadata": {},
     "output_type": "execute_result"
    }
   ],
   "source": [
    "workflows_df.loc[workflows_df[\"docker_related_commands\"]].shape[0]"
   ]
  },
  {
   "cell_type": "markdown",
   "id": "10af5c4d",
   "metadata": {},
   "source": [
    "#### Docker commands"
   ]
  },
  {
   "cell_type": "code",
   "execution_count": 13,
   "id": "96535651",
   "metadata": {},
   "outputs": [
    {
     "name": "stdout",
     "output_type": "stream",
     "text": [
      "1\n"
     ]
    },
    {
     "data": {
      "text/html": [
       "<div>\n",
       "<style scoped>\n",
       "    .dataframe tbody tr th:only-of-type {\n",
       "        vertical-align: middle;\n",
       "    }\n",
       "\n",
       "    .dataframe tbody tr th {\n",
       "        vertical-align: top;\n",
       "    }\n",
       "\n",
       "    .dataframe thead th {\n",
       "        text-align: right;\n",
       "    }\n",
       "</style>\n",
       "<table border=\"1\" class=\"dataframe\">\n",
       "  <thead>\n",
       "    <tr style=\"text-align: right;\">\n",
       "      <th></th>\n",
       "      <th>repository</th>\n",
       "      <th>filename</th>\n",
       "      <th>name</th>\n",
       "      <th>trigger_events</th>\n",
       "      <th>n_of_actions</th>\n",
       "      <th>cml_related_actions</th>\n",
       "      <th>docker_related_actions</th>\n",
       "      <th>n_of_run_commands</th>\n",
       "      <th>cml_related_commands</th>\n",
       "      <th>cml_commands</th>\n",
       "      <th>docker_related_commands</th>\n",
       "      <th>docker_commands</th>\n",
       "      <th>path</th>\n",
       "    </tr>\n",
       "  </thead>\n",
       "  <tbody>\n",
       "    <tr>\n",
       "      <th>7</th>\n",
       "      <td>2796gaurav/automate</td>\n",
       "      <td>dockerize.yml</td>\n",
       "      <td>Docker Image CI</td>\n",
       "      <td>[issue_comment]</td>\n",
       "      <td>3</td>\n",
       "      <td>False</td>\n",
       "      <td>False</td>\n",
       "      <td>5</td>\n",
       "      <td>False</td>\n",
       "      <td>[]</td>\n",
       "      <td>True</td>\n",
       "      <td>[build, push]</td>\n",
       "      <td>2796gaurav/automate/dockerize.yml</td>\n",
       "    </tr>\n",
       "  </tbody>\n",
       "</table>\n",
       "</div>"
      ],
      "text/plain": [
       "            repository       filename             name   trigger_events  \\\n",
       "7  2796gaurav/automate  dockerize.yml  Docker Image CI  [issue_comment]   \n",
       "\n",
       "   n_of_actions  cml_related_actions  docker_related_actions  \\\n",
       "7             3                False                   False   \n",
       "\n",
       "   n_of_run_commands  cml_related_commands cml_commands  \\\n",
       "7                  5                 False           []   \n",
       "\n",
       "   docker_related_commands docker_commands                               path  \n",
       "7                     True   [build, push]  2796gaurav/automate/dockerize.yml  "
      ]
     },
     "execution_count": 13,
     "metadata": {},
     "output_type": "execute_result"
    }
   ],
   "source": [
    "temp_df = workflows_df.loc[workflows_df[\"docker_commands\"].map(len) > 0]\n",
    "print(temp_df.shape[0])\n",
    "temp_df"
   ]
  },
  {
   "cell_type": "markdown",
   "id": "8e991ac8",
   "metadata": {},
   "source": [
    "## Workflows containing commands with the substring `cml`"
   ]
  },
  {
   "cell_type": "code",
   "execution_count": 85,
   "id": "89303762",
   "metadata": {},
   "outputs": [
    {
     "data": {
      "text/plain": [
       "28"
      ]
     },
     "execution_count": 85,
     "metadata": {},
     "output_type": "execute_result"
    }
   ],
   "source": [
    "workflows_df.loc[workflows_df[\"cml_related_commands\"]].shape[0]"
   ]
  },
  {
   "cell_type": "markdown",
   "id": "d77eada4",
   "metadata": {},
   "source": [
    "### cml commands"
   ]
  },
  {
   "cell_type": "code",
   "execution_count": 86,
   "id": "534bf8fa",
   "metadata": {},
   "outputs": [
    {
     "name": "stdout",
     "output_type": "stream",
     "text": [
      "27\n"
     ]
    },
    {
     "data": {
      "text/html": [
       "<div>\n",
       "<style scoped>\n",
       "    .dataframe tbody tr th:only-of-type {\n",
       "        vertical-align: middle;\n",
       "    }\n",
       "\n",
       "    .dataframe tbody tr th {\n",
       "        vertical-align: top;\n",
       "    }\n",
       "\n",
       "    .dataframe thead th {\n",
       "        text-align: right;\n",
       "    }\n",
       "</style>\n",
       "<table border=\"1\" class=\"dataframe\">\n",
       "  <thead>\n",
       "    <tr style=\"text-align: right;\">\n",
       "      <th></th>\n",
       "      <th>repository</th>\n",
       "      <th>filename</th>\n",
       "      <th>name</th>\n",
       "      <th>trigger_events</th>\n",
       "      <th>n_of_actions</th>\n",
       "      <th>cml_related_actions</th>\n",
       "      <th>docker_related_actions</th>\n",
       "      <th>n_of_run_commands</th>\n",
       "      <th>cml_related_commands</th>\n",
       "      <th>cml_commands</th>\n",
       "      <th>docker_related_commands</th>\n",
       "      <th>docker_commands</th>\n",
       "      <th>path</th>\n",
       "    </tr>\n",
       "  </thead>\n",
       "  <tbody>\n",
       "    <tr>\n",
       "      <th>2</th>\n",
       "      <td>YannickLecroart/pmr</td>\n",
       "      <td>cml.yml</td>\n",
       "      <td>model-CHD</td>\n",
       "      <td>[push]</td>\n",
       "      <td>1</td>\n",
       "      <td>False</td>\n",
       "      <td>False</td>\n",
       "      <td>1</td>\n",
       "      <td>True</td>\n",
       "      <td>[publish, send-comment]</td>\n",
       "      <td>False</td>\n",
       "      <td>[]</td>\n",
       "      <td>YannickLecroart/pmr/cml.yml</td>\n",
       "    </tr>\n",
       "    <tr>\n",
       "      <th>3</th>\n",
       "      <td>YannickLecroart/pmr_dvc_demo</td>\n",
       "      <td>cml.yml</td>\n",
       "      <td>model-CHD</td>\n",
       "      <td>[push]</td>\n",
       "      <td>1</td>\n",
       "      <td>False</td>\n",
       "      <td>False</td>\n",
       "      <td>1</td>\n",
       "      <td>True</td>\n",
       "      <td>[send-comment]</td>\n",
       "      <td>False</td>\n",
       "      <td>[]</td>\n",
       "      <td>YannickLecroart/pmr_dvc_demo/cml.yml</td>\n",
       "    </tr>\n",
       "    <tr>\n",
       "      <th>4</th>\n",
       "      <td>YannickLecroart/pmr_cml_pipeline</td>\n",
       "      <td>cml.yml</td>\n",
       "      <td>PMR-CML-DVC-Pipeline</td>\n",
       "      <td>[push]</td>\n",
       "      <td>1</td>\n",
       "      <td>False</td>\n",
       "      <td>False</td>\n",
       "      <td>1</td>\n",
       "      <td>True</td>\n",
       "      <td>[publish, send-comment]</td>\n",
       "      <td>False</td>\n",
       "      <td>[]</td>\n",
       "      <td>YannickLecroart/pmr_cml_pipeline/cml.yml</td>\n",
       "    </tr>\n",
       "    <tr>\n",
       "      <th>6</th>\n",
       "      <td>2796gaurav/automate</td>\n",
       "      <td>cml_report.yml</td>\n",
       "      <td>cml-report</td>\n",
       "      <td>[push]</td>\n",
       "      <td>4</td>\n",
       "      <td>True</td>\n",
       "      <td>False</td>\n",
       "      <td>1</td>\n",
       "      <td>True</td>\n",
       "      <td>[publish, send-comment]</td>\n",
       "      <td>False</td>\n",
       "      <td>[]</td>\n",
       "      <td>2796gaurav/automate/cml_report.yml</td>\n",
       "    </tr>\n",
       "    <tr>\n",
       "      <th>9</th>\n",
       "      <td>akdsingh/cml</td>\n",
       "      <td>cml.yml</td>\n",
       "      <td>Model Selection</td>\n",
       "      <td>[push]</td>\n",
       "      <td>3</td>\n",
       "      <td>True</td>\n",
       "      <td>False</td>\n",
       "      <td>1</td>\n",
       "      <td>True</td>\n",
       "      <td>[publish, send-comment]</td>\n",
       "      <td>False</td>\n",
       "      <td>[]</td>\n",
       "      <td>akdsingh/cml/cml.yml</td>\n",
       "    </tr>\n",
       "    <tr>\n",
       "      <th>10</th>\n",
       "      <td>akdsingh/cml_data</td>\n",
       "      <td>cml.yml</td>\n",
       "      <td>Model Selection</td>\n",
       "      <td>[push]</td>\n",
       "      <td>3</td>\n",
       "      <td>True</td>\n",
       "      <td>False</td>\n",
       "      <td>1</td>\n",
       "      <td>True</td>\n",
       "      <td>[publish, send-comment]</td>\n",
       "      <td>False</td>\n",
       "      <td>[]</td>\n",
       "      <td>akdsingh/cml_data/cml.yml</td>\n",
       "    </tr>\n",
       "    <tr>\n",
       "      <th>11</th>\n",
       "      <td>tue-5ARA0/mlops-demo-live</td>\n",
       "      <td>cml.yml</td>\n",
       "      <td>train-my-model</td>\n",
       "      <td>[push, pull_request, workflow_dispatch]</td>\n",
       "      <td>4</td>\n",
       "      <td>True</td>\n",
       "      <td>False</td>\n",
       "      <td>1</td>\n",
       "      <td>True</td>\n",
       "      <td>[send-comment]</td>\n",
       "      <td>False</td>\n",
       "      <td>[]</td>\n",
       "      <td>tue-5ARA0/mlops-demo-live/cml.yml</td>\n",
       "    </tr>\n",
       "    <tr>\n",
       "      <th>12</th>\n",
       "      <td>hacheemaster/wine</td>\n",
       "      <td>cml.yml</td>\n",
       "      <td>model-wine-quality</td>\n",
       "      <td>[push]</td>\n",
       "      <td>1</td>\n",
       "      <td>False</td>\n",
       "      <td>False</td>\n",
       "      <td>1</td>\n",
       "      <td>True</td>\n",
       "      <td>[publish, send-comment]</td>\n",
       "      <td>False</td>\n",
       "      <td>[]</td>\n",
       "      <td>hacheemaster/wine/cml.yml</td>\n",
       "    </tr>\n",
       "    <tr>\n",
       "      <th>13</th>\n",
       "      <td>hurshd0/train_ml_with_github_actions</td>\n",
       "      <td>cml.yml</td>\n",
       "      <td>Titanic Model - train &amp; test</td>\n",
       "      <td>[pull_request]</td>\n",
       "      <td>2</td>\n",
       "      <td>False</td>\n",
       "      <td>False</td>\n",
       "      <td>2</td>\n",
       "      <td>True</td>\n",
       "      <td>[publish, send-comment]</td>\n",
       "      <td>False</td>\n",
       "      <td>[]</td>\n",
       "      <td>hurshd0/train_ml_with_github_actions/cml.yml</td>\n",
       "    </tr>\n",
       "    <tr>\n",
       "      <th>14</th>\n",
       "      <td>cheesama/morphine</td>\n",
       "      <td>cml.yml</td>\n",
       "      <td>Model Train</td>\n",
       "      <td>[push]</td>\n",
       "      <td>1</td>\n",
       "      <td>False</td>\n",
       "      <td>False</td>\n",
       "      <td>1</td>\n",
       "      <td>True</td>\n",
       "      <td>[tensorboard-dev, send-comment]</td>\n",
       "      <td>False</td>\n",
       "      <td>[]</td>\n",
       "      <td>cheesama/morphine/cml.yml</td>\n",
       "    </tr>\n",
       "    <tr>\n",
       "      <th>15</th>\n",
       "      <td>MaSobkowiak/IUM</td>\n",
       "      <td>cml.yml</td>\n",
       "      <td>train_eval</td>\n",
       "      <td>[push]</td>\n",
       "      <td>3</td>\n",
       "      <td>True</td>\n",
       "      <td>False</td>\n",
       "      <td>1</td>\n",
       "      <td>True</td>\n",
       "      <td>[publish, send-comment]</td>\n",
       "      <td>False</td>\n",
       "      <td>[]</td>\n",
       "      <td>MaSobkowiak/IUM/cml.yml</td>\n",
       "    </tr>\n",
       "    <tr>\n",
       "      <th>16</th>\n",
       "      <td>amitvkulkarni/Bring-DevOps-to-Machine-Learning...</td>\n",
       "      <td>cml.yml</td>\n",
       "      <td>model-CHD</td>\n",
       "      <td>[push]</td>\n",
       "      <td>1</td>\n",
       "      <td>False</td>\n",
       "      <td>False</td>\n",
       "      <td>1</td>\n",
       "      <td>True</td>\n",
       "      <td>[publish, send-comment]</td>\n",
       "      <td>False</td>\n",
       "      <td>[]</td>\n",
       "      <td>amitvkulkarni/Bring-DevOps-to-Machine-Learning...</td>\n",
       "    </tr>\n",
       "    <tr>\n",
       "      <th>17</th>\n",
       "      <td>j-cunanan/git-action-examples</td>\n",
       "      <td>cml.yml</td>\n",
       "      <td>model-training</td>\n",
       "      <td>[pull_request]</td>\n",
       "      <td>3</td>\n",
       "      <td>True</td>\n",
       "      <td>False</td>\n",
       "      <td>1</td>\n",
       "      <td>True</td>\n",
       "      <td>[send-comment]</td>\n",
       "      <td>False</td>\n",
       "      <td>[]</td>\n",
       "      <td>j-cunanan/git-action-examples/cml.yml</td>\n",
       "    </tr>\n",
       "    <tr>\n",
       "      <th>18</th>\n",
       "      <td>CasualModel/CancerCausality</td>\n",
       "      <td>cml.yml</td>\n",
       "      <td>CancerCausality</td>\n",
       "      <td>[push]</td>\n",
       "      <td>2</td>\n",
       "      <td>True</td>\n",
       "      <td>False</td>\n",
       "      <td>1</td>\n",
       "      <td>True</td>\n",
       "      <td>[send-comment]</td>\n",
       "      <td>False</td>\n",
       "      <td>[]</td>\n",
       "      <td>CasualModel/CancerCausality/cml.yml</td>\n",
       "    </tr>\n",
       "    <tr>\n",
       "      <th>19</th>\n",
       "      <td>CasualModel/CancerCausality</td>\n",
       "      <td>tests.yml</td>\n",
       "      <td>CancerCausality</td>\n",
       "      <td>[push]</td>\n",
       "      <td>2</td>\n",
       "      <td>True</td>\n",
       "      <td>False</td>\n",
       "      <td>3</td>\n",
       "      <td>True</td>\n",
       "      <td>[send-comment]</td>\n",
       "      <td>False</td>\n",
       "      <td>[]</td>\n",
       "      <td>CasualModel/CancerCausality/tests.yml</td>\n",
       "    </tr>\n",
       "    <tr>\n",
       "      <th>22</th>\n",
       "      <td>RakeshKumar045/MLOPS-Github-CI-CD-ML-Model</td>\n",
       "      <td>raka-cml.yml</td>\n",
       "      <td>Docker Image CI</td>\n",
       "      <td>[push, pull_request]</td>\n",
       "      <td>1</td>\n",
       "      <td>False</td>\n",
       "      <td>False</td>\n",
       "      <td>1</td>\n",
       "      <td>True</td>\n",
       "      <td>[publish, send-comment]</td>\n",
       "      <td>False</td>\n",
       "      <td>[]</td>\n",
       "      <td>RakeshKumar045/MLOPS-Github-CI-CD-ML-Model/rak...</td>\n",
       "    </tr>\n",
       "    <tr>\n",
       "      <th>23</th>\n",
       "      <td>faithccd/github-actions-cml</td>\n",
       "      <td>cml.yml</td>\n",
       "      <td>model-training</td>\n",
       "      <td>[push]</td>\n",
       "      <td>3</td>\n",
       "      <td>True</td>\n",
       "      <td>False</td>\n",
       "      <td>1</td>\n",
       "      <td>True</td>\n",
       "      <td>[publish, send-comment]</td>\n",
       "      <td>False</td>\n",
       "      <td>[]</td>\n",
       "      <td>faithccd/github-actions-cml/cml.yml</td>\n",
       "    </tr>\n",
       "    <tr>\n",
       "      <th>24</th>\n",
       "      <td>luelhagos/Pharmaceutical-Sales-prediction-acro...</td>\n",
       "      <td>cml.yml</td>\n",
       "      <td>None</td>\n",
       "      <td>[push]</td>\n",
       "      <td>2</td>\n",
       "      <td>True</td>\n",
       "      <td>False</td>\n",
       "      <td>2</td>\n",
       "      <td>True</td>\n",
       "      <td>[send-comment]</td>\n",
       "      <td>False</td>\n",
       "      <td>[]</td>\n",
       "      <td>luelhagos/Pharmaceutical-Sales-prediction-acro...</td>\n",
       "    </tr>\n",
       "    <tr>\n",
       "      <th>25</th>\n",
       "      <td>luelhagos/abtest-mlops</td>\n",
       "      <td>cml.yml</td>\n",
       "      <td>None</td>\n",
       "      <td>[push]</td>\n",
       "      <td>2</td>\n",
       "      <td>True</td>\n",
       "      <td>False</td>\n",
       "      <td>2</td>\n",
       "      <td>True</td>\n",
       "      <td>[send-comment]</td>\n",
       "      <td>False</td>\n",
       "      <td>[]</td>\n",
       "      <td>luelhagos/abtest-mlops/cml.yml</td>\n",
       "    </tr>\n",
       "    <tr>\n",
       "      <th>26</th>\n",
       "      <td>drforester/mlops_666</td>\n",
       "      <td>cml.yml</td>\n",
       "      <td>train-my-model</td>\n",
       "      <td>[push]</td>\n",
       "      <td>3</td>\n",
       "      <td>True</td>\n",
       "      <td>False</td>\n",
       "      <td>1</td>\n",
       "      <td>True</td>\n",
       "      <td>[publish, send-comment]</td>\n",
       "      <td>False</td>\n",
       "      <td>[]</td>\n",
       "      <td>drforester/mlops_666/cml.yml</td>\n",
       "    </tr>\n",
       "    <tr>\n",
       "      <th>27</th>\n",
       "      <td>ArilessTir/MLOPS_wine</td>\n",
       "      <td>cml.yml</td>\n",
       "      <td>model-wine-quality</td>\n",
       "      <td>[push]</td>\n",
       "      <td>1</td>\n",
       "      <td>False</td>\n",
       "      <td>False</td>\n",
       "      <td>1</td>\n",
       "      <td>True</td>\n",
       "      <td>[publish, send-comment]</td>\n",
       "      <td>False</td>\n",
       "      <td>[]</td>\n",
       "      <td>ArilessTir/MLOPS_wine/cml.yml</td>\n",
       "    </tr>\n",
       "    <tr>\n",
       "      <th>32</th>\n",
       "      <td>daheek9/github-actions-cml-2</td>\n",
       "      <td>cml.yml</td>\n",
       "      <td>model-training</td>\n",
       "      <td>[push]</td>\n",
       "      <td>3</td>\n",
       "      <td>True</td>\n",
       "      <td>False</td>\n",
       "      <td>1</td>\n",
       "      <td>True</td>\n",
       "      <td>[publish, send-comment]</td>\n",
       "      <td>False</td>\n",
       "      <td>[]</td>\n",
       "      <td>daheek9/github-actions-cml-2/cml.yml</td>\n",
       "    </tr>\n",
       "    <tr>\n",
       "      <th>33</th>\n",
       "      <td>mozartofmath/AmharicSpeechToText</td>\n",
       "      <td>cml.yml</td>\n",
       "      <td>None</td>\n",
       "      <td>[push]</td>\n",
       "      <td>2</td>\n",
       "      <td>True</td>\n",
       "      <td>False</td>\n",
       "      <td>2</td>\n",
       "      <td>True</td>\n",
       "      <td>[send-comment]</td>\n",
       "      <td>False</td>\n",
       "      <td>[]</td>\n",
       "      <td>mozartofmath/AmharicSpeechToText/cml.yml</td>\n",
       "    </tr>\n",
       "    <tr>\n",
       "      <th>34</th>\n",
       "      <td>ibrahimkaratas88/cml_base_case</td>\n",
       "      <td>cml.yml</td>\n",
       "      <td>train-my-model</td>\n",
       "      <td>[push]</td>\n",
       "      <td>3</td>\n",
       "      <td>True</td>\n",
       "      <td>False</td>\n",
       "      <td>1</td>\n",
       "      <td>True</td>\n",
       "      <td>[publish, send-comment]</td>\n",
       "      <td>False</td>\n",
       "      <td>[]</td>\n",
       "      <td>ibrahimkaratas88/cml_base_case/cml.yml</td>\n",
       "    </tr>\n",
       "    <tr>\n",
       "      <th>35</th>\n",
       "      <td>ibrahimkaratas88/cml_cloud_try</td>\n",
       "      <td>cml.yml</td>\n",
       "      <td>train-my-model</td>\n",
       "      <td>[push]</td>\n",
       "      <td>4</td>\n",
       "      <td>True</td>\n",
       "      <td>False</td>\n",
       "      <td>2</td>\n",
       "      <td>True</td>\n",
       "      <td>[runner, publish, send-comment]</td>\n",
       "      <td>False</td>\n",
       "      <td>[]</td>\n",
       "      <td>ibrahimkaratas88/cml_cloud_try/cml.yml</td>\n",
       "    </tr>\n",
       "    <tr>\n",
       "      <th>36</th>\n",
       "      <td>SungminKo-smko/github-actions-cml</td>\n",
       "      <td>cml.yml</td>\n",
       "      <td>model-training</td>\n",
       "      <td>[push]</td>\n",
       "      <td>3</td>\n",
       "      <td>True</td>\n",
       "      <td>False</td>\n",
       "      <td>1</td>\n",
       "      <td>True</td>\n",
       "      <td>[publish, send-comment]</td>\n",
       "      <td>False</td>\n",
       "      <td>[]</td>\n",
       "      <td>SungminKo-smko/github-actions-cml/cml.yml</td>\n",
       "    </tr>\n",
       "    <tr>\n",
       "      <th>37</th>\n",
       "      <td>Theehawau/Sales-Prediction</td>\n",
       "      <td>cml.yml</td>\n",
       "      <td>model-training</td>\n",
       "      <td>[push]</td>\n",
       "      <td>3</td>\n",
       "      <td>True</td>\n",
       "      <td>False</td>\n",
       "      <td>1</td>\n",
       "      <td>True</td>\n",
       "      <td>[send-comment]</td>\n",
       "      <td>False</td>\n",
       "      <td>[]</td>\n",
       "      <td>Theehawau/Sales-Prediction/cml.yml</td>\n",
       "    </tr>\n",
       "  </tbody>\n",
       "</table>\n",
       "</div>"
      ],
      "text/plain": [
       "                                           repository        filename  \\\n",
       "2                                 YannickLecroart/pmr         cml.yml   \n",
       "3                        YannickLecroart/pmr_dvc_demo         cml.yml   \n",
       "4                    YannickLecroart/pmr_cml_pipeline         cml.yml   \n",
       "6                                 2796gaurav/automate  cml_report.yml   \n",
       "9                                        akdsingh/cml         cml.yml   \n",
       "10                                  akdsingh/cml_data         cml.yml   \n",
       "11                          tue-5ARA0/mlops-demo-live         cml.yml   \n",
       "12                                  hacheemaster/wine         cml.yml   \n",
       "13               hurshd0/train_ml_with_github_actions         cml.yml   \n",
       "14                                  cheesama/morphine         cml.yml   \n",
       "15                                    MaSobkowiak/IUM         cml.yml   \n",
       "16  amitvkulkarni/Bring-DevOps-to-Machine-Learning...         cml.yml   \n",
       "17                      j-cunanan/git-action-examples         cml.yml   \n",
       "18                        CasualModel/CancerCausality         cml.yml   \n",
       "19                        CasualModel/CancerCausality       tests.yml   \n",
       "22         RakeshKumar045/MLOPS-Github-CI-CD-ML-Model    raka-cml.yml   \n",
       "23                        faithccd/github-actions-cml         cml.yml   \n",
       "24  luelhagos/Pharmaceutical-Sales-prediction-acro...         cml.yml   \n",
       "25                             luelhagos/abtest-mlops         cml.yml   \n",
       "26                               drforester/mlops_666         cml.yml   \n",
       "27                              ArilessTir/MLOPS_wine         cml.yml   \n",
       "32                       daheek9/github-actions-cml-2         cml.yml   \n",
       "33                   mozartofmath/AmharicSpeechToText         cml.yml   \n",
       "34                     ibrahimkaratas88/cml_base_case         cml.yml   \n",
       "35                     ibrahimkaratas88/cml_cloud_try         cml.yml   \n",
       "36                  SungminKo-smko/github-actions-cml         cml.yml   \n",
       "37                         Theehawau/Sales-Prediction         cml.yml   \n",
       "\n",
       "                            name                           trigger_events  \\\n",
       "2                      model-CHD                                   [push]   \n",
       "3                      model-CHD                                   [push]   \n",
       "4           PMR-CML-DVC-Pipeline                                   [push]   \n",
       "6                     cml-report                                   [push]   \n",
       "9                Model Selection                                   [push]   \n",
       "10               Model Selection                                   [push]   \n",
       "11                train-my-model  [push, pull_request, workflow_dispatch]   \n",
       "12            model-wine-quality                                   [push]   \n",
       "13  Titanic Model - train & test                           [pull_request]   \n",
       "14                   Model Train                                   [push]   \n",
       "15                    train_eval                                   [push]   \n",
       "16                     model-CHD                                   [push]   \n",
       "17                model-training                           [pull_request]   \n",
       "18               CancerCausality                                   [push]   \n",
       "19               CancerCausality                                   [push]   \n",
       "22               Docker Image CI                     [push, pull_request]   \n",
       "23                model-training                                   [push]   \n",
       "24                          None                                   [push]   \n",
       "25                          None                                   [push]   \n",
       "26                train-my-model                                   [push]   \n",
       "27            model-wine-quality                                   [push]   \n",
       "32                model-training                                   [push]   \n",
       "33                          None                                   [push]   \n",
       "34                train-my-model                                   [push]   \n",
       "35                train-my-model                                   [push]   \n",
       "36                model-training                                   [push]   \n",
       "37                model-training                                   [push]   \n",
       "\n",
       "    n_of_actions  cml_related_actions  docker_related_actions  \\\n",
       "2              1                False                   False   \n",
       "3              1                False                   False   \n",
       "4              1                False                   False   \n",
       "6              4                 True                   False   \n",
       "9              3                 True                   False   \n",
       "10             3                 True                   False   \n",
       "11             4                 True                   False   \n",
       "12             1                False                   False   \n",
       "13             2                False                   False   \n",
       "14             1                False                   False   \n",
       "15             3                 True                   False   \n",
       "16             1                False                   False   \n",
       "17             3                 True                   False   \n",
       "18             2                 True                   False   \n",
       "19             2                 True                   False   \n",
       "22             1                False                   False   \n",
       "23             3                 True                   False   \n",
       "24             2                 True                   False   \n",
       "25             2                 True                   False   \n",
       "26             3                 True                   False   \n",
       "27             1                False                   False   \n",
       "32             3                 True                   False   \n",
       "33             2                 True                   False   \n",
       "34             3                 True                   False   \n",
       "35             4                 True                   False   \n",
       "36             3                 True                   False   \n",
       "37             3                 True                   False   \n",
       "\n",
       "    n_of_run_commands  cml_related_commands                     cml_commands  \\\n",
       "2                   1                  True          [publish, send-comment]   \n",
       "3                   1                  True                   [send-comment]   \n",
       "4                   1                  True          [publish, send-comment]   \n",
       "6                   1                  True          [publish, send-comment]   \n",
       "9                   1                  True          [publish, send-comment]   \n",
       "10                  1                  True          [publish, send-comment]   \n",
       "11                  1                  True                   [send-comment]   \n",
       "12                  1                  True          [publish, send-comment]   \n",
       "13                  2                  True          [publish, send-comment]   \n",
       "14                  1                  True  [tensorboard-dev, send-comment]   \n",
       "15                  1                  True          [publish, send-comment]   \n",
       "16                  1                  True          [publish, send-comment]   \n",
       "17                  1                  True                   [send-comment]   \n",
       "18                  1                  True                   [send-comment]   \n",
       "19                  3                  True                   [send-comment]   \n",
       "22                  1                  True          [publish, send-comment]   \n",
       "23                  1                  True          [publish, send-comment]   \n",
       "24                  2                  True                   [send-comment]   \n",
       "25                  2                  True                   [send-comment]   \n",
       "26                  1                  True          [publish, send-comment]   \n",
       "27                  1                  True          [publish, send-comment]   \n",
       "32                  1                  True          [publish, send-comment]   \n",
       "33                  2                  True                   [send-comment]   \n",
       "34                  1                  True          [publish, send-comment]   \n",
       "35                  2                  True  [runner, publish, send-comment]   \n",
       "36                  1                  True          [publish, send-comment]   \n",
       "37                  1                  True                   [send-comment]   \n",
       "\n",
       "    docker_related_commands docker_commands  \\\n",
       "2                     False              []   \n",
       "3                     False              []   \n",
       "4                     False              []   \n",
       "6                     False              []   \n",
       "9                     False              []   \n",
       "10                    False              []   \n",
       "11                    False              []   \n",
       "12                    False              []   \n",
       "13                    False              []   \n",
       "14                    False              []   \n",
       "15                    False              []   \n",
       "16                    False              []   \n",
       "17                    False              []   \n",
       "18                    False              []   \n",
       "19                    False              []   \n",
       "22                    False              []   \n",
       "23                    False              []   \n",
       "24                    False              []   \n",
       "25                    False              []   \n",
       "26                    False              []   \n",
       "27                    False              []   \n",
       "32                    False              []   \n",
       "33                    False              []   \n",
       "34                    False              []   \n",
       "35                    False              []   \n",
       "36                    False              []   \n",
       "37                    False              []   \n",
       "\n",
       "                                                 path  \n",
       "2                         YannickLecroart/pmr/cml.yml  \n",
       "3                YannickLecroart/pmr_dvc_demo/cml.yml  \n",
       "4            YannickLecroart/pmr_cml_pipeline/cml.yml  \n",
       "6                  2796gaurav/automate/cml_report.yml  \n",
       "9                                akdsingh/cml/cml.yml  \n",
       "10                          akdsingh/cml_data/cml.yml  \n",
       "11                  tue-5ARA0/mlops-demo-live/cml.yml  \n",
       "12                          hacheemaster/wine/cml.yml  \n",
       "13       hurshd0/train_ml_with_github_actions/cml.yml  \n",
       "14                          cheesama/morphine/cml.yml  \n",
       "15                            MaSobkowiak/IUM/cml.yml  \n",
       "16  amitvkulkarni/Bring-DevOps-to-Machine-Learning...  \n",
       "17              j-cunanan/git-action-examples/cml.yml  \n",
       "18                CasualModel/CancerCausality/cml.yml  \n",
       "19              CasualModel/CancerCausality/tests.yml  \n",
       "22  RakeshKumar045/MLOPS-Github-CI-CD-ML-Model/rak...  \n",
       "23                faithccd/github-actions-cml/cml.yml  \n",
       "24  luelhagos/Pharmaceutical-Sales-prediction-acro...  \n",
       "25                     luelhagos/abtest-mlops/cml.yml  \n",
       "26                       drforester/mlops_666/cml.yml  \n",
       "27                      ArilessTir/MLOPS_wine/cml.yml  \n",
       "32               daheek9/github-actions-cml-2/cml.yml  \n",
       "33           mozartofmath/AmharicSpeechToText/cml.yml  \n",
       "34             ibrahimkaratas88/cml_base_case/cml.yml  \n",
       "35             ibrahimkaratas88/cml_cloud_try/cml.yml  \n",
       "36          SungminKo-smko/github-actions-cml/cml.yml  \n",
       "37                 Theehawau/Sales-Prediction/cml.yml  "
      ]
     },
     "execution_count": 86,
     "metadata": {},
     "output_type": "execute_result"
    }
   ],
   "source": [
    "temp_df = workflows_df.loc[workflows_df[\"cml_commands\"].map(len) > 0]\n",
    "print(temp_df.shape[0])\n",
    "temp_df"
   ]
  },
  {
   "cell_type": "code",
   "execution_count": 94,
   "id": "aa6f6d3d",
   "metadata": {},
   "outputs": [
    {
     "data": {
      "text/html": [
       "<div>\n",
       "<style scoped>\n",
       "    .dataframe tbody tr th:only-of-type {\n",
       "        vertical-align: middle;\n",
       "    }\n",
       "\n",
       "    .dataframe tbody tr th {\n",
       "        vertical-align: top;\n",
       "    }\n",
       "\n",
       "    .dataframe thead th {\n",
       "        text-align: right;\n",
       "    }\n",
       "</style>\n",
       "<table border=\"1\" class=\"dataframe\">\n",
       "  <thead>\n",
       "    <tr style=\"text-align: right;\">\n",
       "      <th></th>\n",
       "      <th>cml_commands</th>\n",
       "    </tr>\n",
       "  </thead>\n",
       "  <tbody>\n",
       "    <tr>\n",
       "      <th>2</th>\n",
       "      <td>[publish, send-comment]</td>\n",
       "    </tr>\n",
       "    <tr>\n",
       "      <th>3</th>\n",
       "      <td>[send-comment]</td>\n",
       "    </tr>\n",
       "    <tr>\n",
       "      <th>4</th>\n",
       "      <td>[publish, send-comment]</td>\n",
       "    </tr>\n",
       "    <tr>\n",
       "      <th>6</th>\n",
       "      <td>[publish, send-comment]</td>\n",
       "    </tr>\n",
       "    <tr>\n",
       "      <th>9</th>\n",
       "      <td>[publish, send-comment]</td>\n",
       "    </tr>\n",
       "    <tr>\n",
       "      <th>10</th>\n",
       "      <td>[publish, send-comment]</td>\n",
       "    </tr>\n",
       "    <tr>\n",
       "      <th>11</th>\n",
       "      <td>[send-comment]</td>\n",
       "    </tr>\n",
       "    <tr>\n",
       "      <th>12</th>\n",
       "      <td>[publish, send-comment]</td>\n",
       "    </tr>\n",
       "    <tr>\n",
       "      <th>13</th>\n",
       "      <td>[publish, send-comment]</td>\n",
       "    </tr>\n",
       "    <tr>\n",
       "      <th>14</th>\n",
       "      <td>[tensorboard-dev, send-comment]</td>\n",
       "    </tr>\n",
       "    <tr>\n",
       "      <th>15</th>\n",
       "      <td>[publish, send-comment]</td>\n",
       "    </tr>\n",
       "    <tr>\n",
       "      <th>16</th>\n",
       "      <td>[publish, send-comment]</td>\n",
       "    </tr>\n",
       "    <tr>\n",
       "      <th>17</th>\n",
       "      <td>[send-comment]</td>\n",
       "    </tr>\n",
       "    <tr>\n",
       "      <th>18</th>\n",
       "      <td>[send-comment]</td>\n",
       "    </tr>\n",
       "    <tr>\n",
       "      <th>19</th>\n",
       "      <td>[send-comment]</td>\n",
       "    </tr>\n",
       "    <tr>\n",
       "      <th>22</th>\n",
       "      <td>[publish, send-comment]</td>\n",
       "    </tr>\n",
       "    <tr>\n",
       "      <th>23</th>\n",
       "      <td>[publish, send-comment]</td>\n",
       "    </tr>\n",
       "    <tr>\n",
       "      <th>24</th>\n",
       "      <td>[send-comment]</td>\n",
       "    </tr>\n",
       "    <tr>\n",
       "      <th>25</th>\n",
       "      <td>[send-comment]</td>\n",
       "    </tr>\n",
       "    <tr>\n",
       "      <th>26</th>\n",
       "      <td>[publish, send-comment]</td>\n",
       "    </tr>\n",
       "    <tr>\n",
       "      <th>27</th>\n",
       "      <td>[publish, send-comment]</td>\n",
       "    </tr>\n",
       "    <tr>\n",
       "      <th>32</th>\n",
       "      <td>[publish, send-comment]</td>\n",
       "    </tr>\n",
       "    <tr>\n",
       "      <th>33</th>\n",
       "      <td>[send-comment]</td>\n",
       "    </tr>\n",
       "    <tr>\n",
       "      <th>34</th>\n",
       "      <td>[publish, send-comment]</td>\n",
       "    </tr>\n",
       "    <tr>\n",
       "      <th>35</th>\n",
       "      <td>[runner, publish, send-comment]</td>\n",
       "    </tr>\n",
       "    <tr>\n",
       "      <th>36</th>\n",
       "      <td>[publish, send-comment]</td>\n",
       "    </tr>\n",
       "    <tr>\n",
       "      <th>37</th>\n",
       "      <td>[send-comment]</td>\n",
       "    </tr>\n",
       "  </tbody>\n",
       "</table>\n",
       "</div>"
      ],
      "text/plain": [
       "                       cml_commands\n",
       "2           [publish, send-comment]\n",
       "3                    [send-comment]\n",
       "4           [publish, send-comment]\n",
       "6           [publish, send-comment]\n",
       "9           [publish, send-comment]\n",
       "10          [publish, send-comment]\n",
       "11                   [send-comment]\n",
       "12          [publish, send-comment]\n",
       "13          [publish, send-comment]\n",
       "14  [tensorboard-dev, send-comment]\n",
       "15          [publish, send-comment]\n",
       "16          [publish, send-comment]\n",
       "17                   [send-comment]\n",
       "18                   [send-comment]\n",
       "19                   [send-comment]\n",
       "22          [publish, send-comment]\n",
       "23          [publish, send-comment]\n",
       "24                   [send-comment]\n",
       "25                   [send-comment]\n",
       "26          [publish, send-comment]\n",
       "27          [publish, send-comment]\n",
       "32          [publish, send-comment]\n",
       "33                   [send-comment]\n",
       "34          [publish, send-comment]\n",
       "35  [runner, publish, send-comment]\n",
       "36          [publish, send-comment]\n",
       "37                   [send-comment]"
      ]
     },
     "execution_count": 94,
     "metadata": {},
     "output_type": "execute_result"
    }
   ],
   "source": [
    "temp_df.loc[:, [\"cml_commands\"]]"
   ]
  },
  {
   "cell_type": "code",
   "execution_count": 90,
   "id": "b88134c9",
   "metadata": {},
   "outputs": [
    {
     "data": {
      "text/html": [
       "<div>\n",
       "<style scoped>\n",
       "    .dataframe tbody tr th:only-of-type {\n",
       "        vertical-align: middle;\n",
       "    }\n",
       "\n",
       "    .dataframe tbody tr th {\n",
       "        vertical-align: top;\n",
       "    }\n",
       "\n",
       "    .dataframe thead th {\n",
       "        text-align: right;\n",
       "    }\n",
       "</style>\n",
       "<table border=\"1\" class=\"dataframe\">\n",
       "  <thead>\n",
       "    <tr style=\"text-align: right;\">\n",
       "      <th></th>\n",
       "      <th>support</th>\n",
       "      <th>itemsets</th>\n",
       "      <th>length</th>\n",
       "    </tr>\n",
       "  </thead>\n",
       "  <tbody>\n",
       "    <tr>\n",
       "      <th>0</th>\n",
       "      <td>0.62963</td>\n",
       "      <td>(publish)</td>\n",
       "      <td>1</td>\n",
       "    </tr>\n",
       "    <tr>\n",
       "      <th>1</th>\n",
       "      <td>1.00000</td>\n",
       "      <td>(send-comment)</td>\n",
       "      <td>1</td>\n",
       "    </tr>\n",
       "    <tr>\n",
       "      <th>2</th>\n",
       "      <td>0.62963</td>\n",
       "      <td>(publish, send-comment)</td>\n",
       "      <td>2</td>\n",
       "    </tr>\n",
       "  </tbody>\n",
       "</table>\n",
       "</div>"
      ],
      "text/plain": [
       "   support                 itemsets  length\n",
       "0  0.62963                (publish)       1\n",
       "1  1.00000           (send-comment)       1\n",
       "2  0.62963  (publish, send-comment)       2"
      ]
     },
     "execution_count": 90,
     "metadata": {},
     "output_type": "execute_result"
    }
   ],
   "source": [
    "frequent_cml_commands_subsample_df"
   ]
  },
  {
   "cell_type": "markdown",
   "id": "3d56c266",
   "metadata": {},
   "source": [
    "## \"What are the most frequently used Actions?\""
   ]
  },
  {
   "cell_type": "markdown",
   "id": "6516214d",
   "metadata": {},
   "source": [
    "#### Total number of actions used in the dataset"
   ]
  },
  {
   "cell_type": "markdown",
   "id": "5b0a331e-4f7d-4784-9c70-e5234eff76f9",
   "metadata": {},
   "source": [
    "Considering slugs"
   ]
  },
  {
   "cell_type": "code",
   "execution_count": 14,
   "id": "b6b710ad-f282-4aae-9734-176d70fbaa8c",
   "metadata": {},
   "outputs": [
    {
     "data": {
      "text/plain": [
       "(15,)"
      ]
     },
     "execution_count": 14,
     "metadata": {},
     "output_type": "execute_result"
    }
   ],
   "source": [
    "actions_df.action_slug.unique().shape"
   ]
  },
  {
   "cell_type": "markdown",
   "id": "15fc88bf-4bc2-46e7-8e1d-0a49c936944d",
   "metadata": {},
   "source": [
    "Not considering slugs"
   ]
  },
  {
   "cell_type": "code",
   "execution_count": 15,
   "id": "ae8bb85e-c134-4cb4-a28f-80b227aaebfd",
   "metadata": {},
   "outputs": [
    {
     "data": {
      "text/plain": [
       "(14,)"
      ]
     },
     "execution_count": 15,
     "metadata": {},
     "output_type": "execute_result"
    }
   ],
   "source": [
    "actions_df.action_slug_noTag.unique().shape"
   ]
  },
  {
   "cell_type": "markdown",
   "id": "1d80398b",
   "metadata": {},
   "source": [
    "#### Average number of actions per workflow"
   ]
  },
  {
   "cell_type": "code",
   "execution_count": 16,
   "id": "800268b0",
   "metadata": {},
   "outputs": [
    {
     "data": {
      "text/html": [
       "<div>\n",
       "<style scoped>\n",
       "    .dataframe tbody tr th:only-of-type {\n",
       "        vertical-align: middle;\n",
       "    }\n",
       "\n",
       "    .dataframe tbody tr th {\n",
       "        vertical-align: top;\n",
       "    }\n",
       "\n",
       "    .dataframe thead th {\n",
       "        text-align: right;\n",
       "    }\n",
       "</style>\n",
       "<table border=\"1\" class=\"dataframe\">\n",
       "  <thead>\n",
       "    <tr style=\"text-align: right;\">\n",
       "      <th></th>\n",
       "      <th>count</th>\n",
       "      <th>unique</th>\n",
       "      <th>top</th>\n",
       "      <th>freq</th>\n",
       "    </tr>\n",
       "    <tr>\n",
       "      <th>workflow</th>\n",
       "      <th></th>\n",
       "      <th></th>\n",
       "      <th></th>\n",
       "      <th></th>\n",
       "    </tr>\n",
       "  </thead>\n",
       "  <tbody>\n",
       "    <tr>\n",
       "      <th>2796gaurav/automate/cml_report.yml</th>\n",
       "      <td>4</td>\n",
       "      <td>4</td>\n",
       "      <td>actions/checkout@v2</td>\n",
       "      <td>1</td>\n",
       "    </tr>\n",
       "    <tr>\n",
       "      <th>2796gaurav/automate/deploy.yml</th>\n",
       "      <td>3</td>\n",
       "      <td>3</td>\n",
       "      <td>machine-learning-apps/actions-chatops@1.41</td>\n",
       "      <td>1</td>\n",
       "    </tr>\n",
       "    <tr>\n",
       "      <th>2796gaurav/automate/docker_destroy.yml</th>\n",
       "      <td>2</td>\n",
       "      <td>2</td>\n",
       "      <td>actions/checkout@v2</td>\n",
       "      <td>1</td>\n",
       "    </tr>\n",
       "    <tr>\n",
       "      <th>2796gaurav/automate/dockerize.yml</th>\n",
       "      <td>3</td>\n",
       "      <td>3</td>\n",
       "      <td>actions/checkout@v2</td>\n",
       "      <td>1</td>\n",
       "    </tr>\n",
       "    <tr>\n",
       "      <th>ArilessTir/MLOPS_wine/cml.yml</th>\n",
       "      <td>1</td>\n",
       "      <td>1</td>\n",
       "      <td>actions/checkout@v2</td>\n",
       "      <td>1</td>\n",
       "    </tr>\n",
       "    <tr>\n",
       "      <th>AscendNTNU/perception_testing_21/cml.yml</th>\n",
       "      <td>4</td>\n",
       "      <td>2</td>\n",
       "      <td>actions/checkout@v2</td>\n",
       "      <td>3</td>\n",
       "    </tr>\n",
       "    <tr>\n",
       "      <th>AscendNTNU/perception_testing_21/mainci.yml</th>\n",
       "      <td>5</td>\n",
       "      <td>3</td>\n",
       "      <td>actions/checkout@v2</td>\n",
       "      <td>3</td>\n",
       "    </tr>\n",
       "    <tr>\n",
       "      <th>CasualModel/CancerCausality/cml.yml</th>\n",
       "      <td>2</td>\n",
       "      <td>2</td>\n",
       "      <td>actions/checkout@v2</td>\n",
       "      <td>1</td>\n",
       "    </tr>\n",
       "    <tr>\n",
       "      <th>CasualModel/CancerCausality/tests.yml</th>\n",
       "      <td>2</td>\n",
       "      <td>2</td>\n",
       "      <td>actions/checkout@v2</td>\n",
       "      <td>1</td>\n",
       "    </tr>\n",
       "    <tr>\n",
       "      <th>DavidGOrtega/terraform-provider-tpitest/build-cml-ami.yml</th>\n",
       "      <td>1</td>\n",
       "      <td>1</td>\n",
       "      <td>actions/checkout@v2</td>\n",
       "      <td>1</td>\n",
       "    </tr>\n",
       "    <tr>\n",
       "      <th>DavidGOrtega/terraform-provider-tpitest/release.yml</th>\n",
       "      <td>4</td>\n",
       "      <td>4</td>\n",
       "      <td>actions/checkout@v2</td>\n",
       "      <td>1</td>\n",
       "    </tr>\n",
       "    <tr>\n",
       "      <th>DavidGOrtega/terraform-provider-tpitest/smoke.yml</th>\n",
       "      <td>5</td>\n",
       "      <td>2</td>\n",
       "      <td>actions/checkout@v2</td>\n",
       "      <td>3</td>\n",
       "    </tr>\n",
       "    <tr>\n",
       "      <th>DavidGOrtega/terraform-provider-tpitest/test.yml</th>\n",
       "      <td>4</td>\n",
       "      <td>3</td>\n",
       "      <td>actions/checkout@v2</td>\n",
       "      <td>2</td>\n",
       "    </tr>\n",
       "    <tr>\n",
       "      <th>MaSobkowiak/IUM/cml.yml</th>\n",
       "      <td>3</td>\n",
       "      <td>3</td>\n",
       "      <td>actions/checkout@v2</td>\n",
       "      <td>1</td>\n",
       "    </tr>\n",
       "    <tr>\n",
       "      <th>Maelaf/abtest-mlops/main.yml</th>\n",
       "      <td>1</td>\n",
       "      <td>1</td>\n",
       "      <td>actions/checkout@v2</td>\n",
       "      <td>1</td>\n",
       "    </tr>\n",
       "    <tr>\n",
       "      <th>RakeshKumar045/MLOPS-Github-CI-CD-ML-Model/python-publish.yml</th>\n",
       "      <td>3</td>\n",
       "      <td>3</td>\n",
       "      <td>actions/checkout@v2</td>\n",
       "      <td>1</td>\n",
       "    </tr>\n",
       "    <tr>\n",
       "      <th>RakeshKumar045/MLOPS-Github-CI-CD-ML-Model/raka-cml.yml</th>\n",
       "      <td>1</td>\n",
       "      <td>1</td>\n",
       "      <td>actions/checkout@v2</td>\n",
       "      <td>1</td>\n",
       "    </tr>\n",
       "    <tr>\n",
       "      <th>SungminKo-smko/github-actions-cml/cml.yml</th>\n",
       "      <td>3</td>\n",
       "      <td>3</td>\n",
       "      <td>actions/checkout@v2</td>\n",
       "      <td>1</td>\n",
       "    </tr>\n",
       "    <tr>\n",
       "      <th>Theehawau/Sales-Prediction/cml.yml</th>\n",
       "      <td>3</td>\n",
       "      <td>3</td>\n",
       "      <td>actions/checkout@v2</td>\n",
       "      <td>1</td>\n",
       "    </tr>\n",
       "    <tr>\n",
       "      <th>YannickLecroart/pmr/cml.yml</th>\n",
       "      <td>1</td>\n",
       "      <td>1</td>\n",
       "      <td>actions/checkout@v2</td>\n",
       "      <td>1</td>\n",
       "    </tr>\n",
       "    <tr>\n",
       "      <th>YannickLecroart/pmr_cml_pipeline/cml.yml</th>\n",
       "      <td>1</td>\n",
       "      <td>1</td>\n",
       "      <td>actions/checkout@v2</td>\n",
       "      <td>1</td>\n",
       "    </tr>\n",
       "    <tr>\n",
       "      <th>YannickLecroart/pmr_dvc_demo/cml.yml</th>\n",
       "      <td>1</td>\n",
       "      <td>1</td>\n",
       "      <td>actions/checkout@v2</td>\n",
       "      <td>1</td>\n",
       "    </tr>\n",
       "    <tr>\n",
       "      <th>akdsingh/cml/cml.yml</th>\n",
       "      <td>3</td>\n",
       "      <td>3</td>\n",
       "      <td>actions/checkout@v2</td>\n",
       "      <td>1</td>\n",
       "    </tr>\n",
       "    <tr>\n",
       "      <th>akdsingh/cml_data/cml.yml</th>\n",
       "      <td>3</td>\n",
       "      <td>3</td>\n",
       "      <td>actions/checkout@v2</td>\n",
       "      <td>1</td>\n",
       "    </tr>\n",
       "    <tr>\n",
       "      <th>amitvkulkarni/Bring-DevOps-to-Machine-Learning-with-CML/cml.yml</th>\n",
       "      <td>1</td>\n",
       "      <td>1</td>\n",
       "      <td>actions/checkout@v2</td>\n",
       "      <td>1</td>\n",
       "    </tr>\n",
       "    <tr>\n",
       "      <th>cheesama/morphine/cml.yml</th>\n",
       "      <td>1</td>\n",
       "      <td>1</td>\n",
       "      <td>actions/checkout@v2</td>\n",
       "      <td>1</td>\n",
       "    </tr>\n",
       "    <tr>\n",
       "      <th>daheek9/github-actions-cml-2/cml.yml</th>\n",
       "      <td>3</td>\n",
       "      <td>3</td>\n",
       "      <td>actions/checkout@v2</td>\n",
       "      <td>1</td>\n",
       "    </tr>\n",
       "    <tr>\n",
       "      <th>drforester/mlops_666/cml.yml</th>\n",
       "      <td>3</td>\n",
       "      <td>3</td>\n",
       "      <td>actions/checkout@v2</td>\n",
       "      <td>1</td>\n",
       "    </tr>\n",
       "    <tr>\n",
       "      <th>faithccd/github-actions-cml/cml.yml</th>\n",
       "      <td>3</td>\n",
       "      <td>3</td>\n",
       "      <td>actions/checkout@v2</td>\n",
       "      <td>1</td>\n",
       "    </tr>\n",
       "    <tr>\n",
       "      <th>hacheemaster/wine/cml.yml</th>\n",
       "      <td>1</td>\n",
       "      <td>1</td>\n",
       "      <td>actions/checkout@v2</td>\n",
       "      <td>1</td>\n",
       "    </tr>\n",
       "    <tr>\n",
       "      <th>hurshd0/train_ml_with_github_actions/cml.yml</th>\n",
       "      <td>2</td>\n",
       "      <td>2</td>\n",
       "      <td>actions/checkout@v2</td>\n",
       "      <td>1</td>\n",
       "    </tr>\n",
       "    <tr>\n",
       "      <th>ibrahimkaratas88/cml_base_case/cml.yml</th>\n",
       "      <td>3</td>\n",
       "      <td>3</td>\n",
       "      <td>actions/checkout@v2</td>\n",
       "      <td>1</td>\n",
       "    </tr>\n",
       "    <tr>\n",
       "      <th>ibrahimkaratas88/cml_cloud_try/cml.yml</th>\n",
       "      <td>4</td>\n",
       "      <td>3</td>\n",
       "      <td>actions/checkout@v2</td>\n",
       "      <td>2</td>\n",
       "    </tr>\n",
       "    <tr>\n",
       "      <th>j-cunanan/git-action-examples/cml.yml</th>\n",
       "      <td>3</td>\n",
       "      <td>3</td>\n",
       "      <td>actions/checkout@v2</td>\n",
       "      <td>1</td>\n",
       "    </tr>\n",
       "    <tr>\n",
       "      <th>luelhagos/Pharmaceutical-Sales-prediction-across-multiple-stores/cml.yml</th>\n",
       "      <td>2</td>\n",
       "      <td>2</td>\n",
       "      <td>actions/checkout@v2</td>\n",
       "      <td>1</td>\n",
       "    </tr>\n",
       "    <tr>\n",
       "      <th>luelhagos/abtest-mlops/cml.yml</th>\n",
       "      <td>2</td>\n",
       "      <td>2</td>\n",
       "      <td>actions/checkout@v2</td>\n",
       "      <td>1</td>\n",
       "    </tr>\n",
       "    <tr>\n",
       "      <th>mozartofmath/AmharicSpeechToText/cml.yml</th>\n",
       "      <td>2</td>\n",
       "      <td>2</td>\n",
       "      <td>actions/checkout@v2</td>\n",
       "      <td>1</td>\n",
       "    </tr>\n",
       "    <tr>\n",
       "      <th>tue-5ARA0/mlops-demo-live/cml.yml</th>\n",
       "      <td>4</td>\n",
       "      <td>4</td>\n",
       "      <td>actions/checkout@v2</td>\n",
       "      <td>1</td>\n",
       "    </tr>\n",
       "  </tbody>\n",
       "</table>\n",
       "</div>"
      ],
      "text/plain": [
       "                                                   count unique  \\\n",
       "workflow                                                          \n",
       "2796gaurav/automate/cml_report.yml                     4      4   \n",
       "2796gaurav/automate/deploy.yml                         3      3   \n",
       "2796gaurav/automate/docker_destroy.yml                 2      2   \n",
       "2796gaurav/automate/dockerize.yml                      3      3   \n",
       "ArilessTir/MLOPS_wine/cml.yml                          1      1   \n",
       "AscendNTNU/perception_testing_21/cml.yml               4      2   \n",
       "AscendNTNU/perception_testing_21/mainci.yml            5      3   \n",
       "CasualModel/CancerCausality/cml.yml                    2      2   \n",
       "CasualModel/CancerCausality/tests.yml                  2      2   \n",
       "DavidGOrtega/terraform-provider-tpitest/build-c...     1      1   \n",
       "DavidGOrtega/terraform-provider-tpitest/release...     4      4   \n",
       "DavidGOrtega/terraform-provider-tpitest/smoke.yml      5      2   \n",
       "DavidGOrtega/terraform-provider-tpitest/test.yml       4      3   \n",
       "MaSobkowiak/IUM/cml.yml                                3      3   \n",
       "Maelaf/abtest-mlops/main.yml                           1      1   \n",
       "RakeshKumar045/MLOPS-Github-CI-CD-ML-Model/pyth...     3      3   \n",
       "RakeshKumar045/MLOPS-Github-CI-CD-ML-Model/raka...     1      1   \n",
       "SungminKo-smko/github-actions-cml/cml.yml              3      3   \n",
       "Theehawau/Sales-Prediction/cml.yml                     3      3   \n",
       "YannickLecroart/pmr/cml.yml                            1      1   \n",
       "YannickLecroart/pmr_cml_pipeline/cml.yml               1      1   \n",
       "YannickLecroart/pmr_dvc_demo/cml.yml                   1      1   \n",
       "akdsingh/cml/cml.yml                                   3      3   \n",
       "akdsingh/cml_data/cml.yml                              3      3   \n",
       "amitvkulkarni/Bring-DevOps-to-Machine-Learning-...     1      1   \n",
       "cheesama/morphine/cml.yml                              1      1   \n",
       "daheek9/github-actions-cml-2/cml.yml                   3      3   \n",
       "drforester/mlops_666/cml.yml                           3      3   \n",
       "faithccd/github-actions-cml/cml.yml                    3      3   \n",
       "hacheemaster/wine/cml.yml                              1      1   \n",
       "hurshd0/train_ml_with_github_actions/cml.yml           2      2   \n",
       "ibrahimkaratas88/cml_base_case/cml.yml                 3      3   \n",
       "ibrahimkaratas88/cml_cloud_try/cml.yml                 4      3   \n",
       "j-cunanan/git-action-examples/cml.yml                  3      3   \n",
       "luelhagos/Pharmaceutical-Sales-prediction-acros...     2      2   \n",
       "luelhagos/abtest-mlops/cml.yml                         2      2   \n",
       "mozartofmath/AmharicSpeechToText/cml.yml               2      2   \n",
       "tue-5ARA0/mlops-demo-live/cml.yml                      4      4   \n",
       "\n",
       "                                                                                           top  \\\n",
       "workflow                                                                                         \n",
       "2796gaurav/automate/cml_report.yml                                         actions/checkout@v2   \n",
       "2796gaurav/automate/deploy.yml                      machine-learning-apps/actions-chatops@1.41   \n",
       "2796gaurav/automate/docker_destroy.yml                                     actions/checkout@v2   \n",
       "2796gaurav/automate/dockerize.yml                                          actions/checkout@v2   \n",
       "ArilessTir/MLOPS_wine/cml.yml                                              actions/checkout@v2   \n",
       "AscendNTNU/perception_testing_21/cml.yml                                   actions/checkout@v2   \n",
       "AscendNTNU/perception_testing_21/mainci.yml                                actions/checkout@v2   \n",
       "CasualModel/CancerCausality/cml.yml                                        actions/checkout@v2   \n",
       "CasualModel/CancerCausality/tests.yml                                      actions/checkout@v2   \n",
       "DavidGOrtega/terraform-provider-tpitest/build-c...                         actions/checkout@v2   \n",
       "DavidGOrtega/terraform-provider-tpitest/release...                         actions/checkout@v2   \n",
       "DavidGOrtega/terraform-provider-tpitest/smoke.yml                          actions/checkout@v2   \n",
       "DavidGOrtega/terraform-provider-tpitest/test.yml                           actions/checkout@v2   \n",
       "MaSobkowiak/IUM/cml.yml                                                    actions/checkout@v2   \n",
       "Maelaf/abtest-mlops/main.yml                                               actions/checkout@v2   \n",
       "RakeshKumar045/MLOPS-Github-CI-CD-ML-Model/pyth...                         actions/checkout@v2   \n",
       "RakeshKumar045/MLOPS-Github-CI-CD-ML-Model/raka...                         actions/checkout@v2   \n",
       "SungminKo-smko/github-actions-cml/cml.yml                                  actions/checkout@v2   \n",
       "Theehawau/Sales-Prediction/cml.yml                                         actions/checkout@v2   \n",
       "YannickLecroart/pmr/cml.yml                                                actions/checkout@v2   \n",
       "YannickLecroart/pmr_cml_pipeline/cml.yml                                   actions/checkout@v2   \n",
       "YannickLecroart/pmr_dvc_demo/cml.yml                                       actions/checkout@v2   \n",
       "akdsingh/cml/cml.yml                                                       actions/checkout@v2   \n",
       "akdsingh/cml_data/cml.yml                                                  actions/checkout@v2   \n",
       "amitvkulkarni/Bring-DevOps-to-Machine-Learning-...                         actions/checkout@v2   \n",
       "cheesama/morphine/cml.yml                                                  actions/checkout@v2   \n",
       "daheek9/github-actions-cml-2/cml.yml                                       actions/checkout@v2   \n",
       "drforester/mlops_666/cml.yml                                               actions/checkout@v2   \n",
       "faithccd/github-actions-cml/cml.yml                                        actions/checkout@v2   \n",
       "hacheemaster/wine/cml.yml                                                  actions/checkout@v2   \n",
       "hurshd0/train_ml_with_github_actions/cml.yml                               actions/checkout@v2   \n",
       "ibrahimkaratas88/cml_base_case/cml.yml                                     actions/checkout@v2   \n",
       "ibrahimkaratas88/cml_cloud_try/cml.yml                                     actions/checkout@v2   \n",
       "j-cunanan/git-action-examples/cml.yml                                      actions/checkout@v2   \n",
       "luelhagos/Pharmaceutical-Sales-prediction-acros...                         actions/checkout@v2   \n",
       "luelhagos/abtest-mlops/cml.yml                                             actions/checkout@v2   \n",
       "mozartofmath/AmharicSpeechToText/cml.yml                                   actions/checkout@v2   \n",
       "tue-5ARA0/mlops-demo-live/cml.yml                                          actions/checkout@v2   \n",
       "\n",
       "                                                   freq  \n",
       "workflow                                                 \n",
       "2796gaurav/automate/cml_report.yml                    1  \n",
       "2796gaurav/automate/deploy.yml                        1  \n",
       "2796gaurav/automate/docker_destroy.yml                1  \n",
       "2796gaurav/automate/dockerize.yml                     1  \n",
       "ArilessTir/MLOPS_wine/cml.yml                         1  \n",
       "AscendNTNU/perception_testing_21/cml.yml              3  \n",
       "AscendNTNU/perception_testing_21/mainci.yml           3  \n",
       "CasualModel/CancerCausality/cml.yml                   1  \n",
       "CasualModel/CancerCausality/tests.yml                 1  \n",
       "DavidGOrtega/terraform-provider-tpitest/build-c...    1  \n",
       "DavidGOrtega/terraform-provider-tpitest/release...    1  \n",
       "DavidGOrtega/terraform-provider-tpitest/smoke.yml     3  \n",
       "DavidGOrtega/terraform-provider-tpitest/test.yml      2  \n",
       "MaSobkowiak/IUM/cml.yml                               1  \n",
       "Maelaf/abtest-mlops/main.yml                          1  \n",
       "RakeshKumar045/MLOPS-Github-CI-CD-ML-Model/pyth...    1  \n",
       "RakeshKumar045/MLOPS-Github-CI-CD-ML-Model/raka...    1  \n",
       "SungminKo-smko/github-actions-cml/cml.yml             1  \n",
       "Theehawau/Sales-Prediction/cml.yml                    1  \n",
       "YannickLecroart/pmr/cml.yml                           1  \n",
       "YannickLecroart/pmr_cml_pipeline/cml.yml              1  \n",
       "YannickLecroart/pmr_dvc_demo/cml.yml                  1  \n",
       "akdsingh/cml/cml.yml                                  1  \n",
       "akdsingh/cml_data/cml.yml                             1  \n",
       "amitvkulkarni/Bring-DevOps-to-Machine-Learning-...    1  \n",
       "cheesama/morphine/cml.yml                             1  \n",
       "daheek9/github-actions-cml-2/cml.yml                  1  \n",
       "drforester/mlops_666/cml.yml                          1  \n",
       "faithccd/github-actions-cml/cml.yml                   1  \n",
       "hacheemaster/wine/cml.yml                             1  \n",
       "hurshd0/train_ml_with_github_actions/cml.yml          1  \n",
       "ibrahimkaratas88/cml_base_case/cml.yml                1  \n",
       "ibrahimkaratas88/cml_cloud_try/cml.yml                2  \n",
       "j-cunanan/git-action-examples/cml.yml                 1  \n",
       "luelhagos/Pharmaceutical-Sales-prediction-acros...    1  \n",
       "luelhagos/abtest-mlops/cml.yml                        1  \n",
       "mozartofmath/AmharicSpeechToText/cml.yml              1  \n",
       "tue-5ARA0/mlops-demo-live/cml.yml                     1  "
      ]
     },
     "execution_count": 16,
     "metadata": {},
     "output_type": "execute_result"
    }
   ],
   "source": [
    "actions_df.groupby(\"workflow\")['action_slug'].describe()"
   ]
  },
  {
   "cell_type": "markdown",
   "id": "60f6d5a6-a225-4fc7-814c-5d30ac730709",
   "metadata": {},
   "source": [
    "Total number of actions"
   ]
  },
  {
   "cell_type": "code",
   "execution_count": 18,
   "id": "6efb504f-1ea3-4e35-b6ca-aab3bc215e8b",
   "metadata": {},
   "outputs": [
    {
     "data": {
      "text/plain": [
       "count    38.000000\n",
       "mean      2.552632\n",
       "std       1.201291\n",
       "min       1.000000\n",
       "25%       1.250000\n",
       "50%       3.000000\n",
       "75%       3.000000\n",
       "max       5.000000\n",
       "Name: count, dtype: float64"
      ]
     },
     "execution_count": 18,
     "metadata": {},
     "output_type": "execute_result"
    }
   ],
   "source": [
    "temp_df = actions_df.groupby(\"workflow\")['action_slug'].describe()\n",
    "temp_df[\"count\"].astype(\"int\").describe()"
   ]
  },
  {
   "cell_type": "markdown",
   "id": "ca487646-b0ba-4d1a-8d30-9982b429ac96",
   "metadata": {},
   "source": [
    "Total unique actions"
   ]
  },
  {
   "cell_type": "code",
   "execution_count": 19,
   "id": "852b778c-ade7-4044-adb5-9492ae9272b7",
   "metadata": {},
   "outputs": [
    {
     "data": {
      "text/plain": [
       "count    38.000000\n",
       "mean      2.315789\n",
       "std       0.961566\n",
       "min       1.000000\n",
       "25%       1.250000\n",
       "50%       2.500000\n",
       "75%       3.000000\n",
       "max       4.000000\n",
       "Name: unique, dtype: float64"
      ]
     },
     "execution_count": 19,
     "metadata": {},
     "output_type": "execute_result"
    }
   ],
   "source": [
    "temp_df[\"unique\"].astype(\"int\").describe()"
   ]
  },
  {
   "cell_type": "markdown",
   "id": "0b68ea86",
   "metadata": {},
   "source": [
    "Total number of actions within workflows with \"CML\" in the filename"
   ]
  },
  {
   "cell_type": "code",
   "execution_count": 28,
   "id": "ea209fcc",
   "metadata": {},
   "outputs": [
    {
     "data": {
      "text/plain": [
       "count    38.000000\n",
       "mean      2.552632\n",
       "std       1.201291\n",
       "min       1.000000\n",
       "25%       1.250000\n",
       "50%       3.000000\n",
       "75%       3.000000\n",
       "max       5.000000\n",
       "Name: count, dtype: float64"
      ]
     },
     "execution_count": 28,
     "metadata": {},
     "output_type": "execute_result"
    }
   ],
   "source": [
    "CMLrestricted_actions_df = actions_df.loc[actions_df.workflow.str.contains(\"cml\", case=False)]\n",
    "CMLrestricted_temp_df = actions_df.groupby(\"workflow\")['action_slug'].describe()\n",
    "CMLrestricted_temp_df[\"count\"].astype(\"int\").describe()"
   ]
  },
  {
   "cell_type": "markdown",
   "id": "e64e047f",
   "metadata": {},
   "source": [
    "Number of unique actions within workflows with \"CML\" in the filename"
   ]
  },
  {
   "cell_type": "code",
   "execution_count": 33,
   "id": "ded1427e",
   "metadata": {},
   "outputs": [
    {
     "data": {
      "text/plain": [
       "count    38.000000\n",
       "mean      2.315789\n",
       "std       0.961566\n",
       "min       1.000000\n",
       "25%       1.250000\n",
       "50%       2.500000\n",
       "75%       3.000000\n",
       "max       4.000000\n",
       "Name: unique, dtype: float64"
      ]
     },
     "execution_count": 33,
     "metadata": {},
     "output_type": "execute_result"
    }
   ],
   "source": [
    "CMLrestricted_temp_df[\"unique\"].astype(\"int\").describe()"
   ]
  },
  {
   "cell_type": "markdown",
   "id": "a6a2b726",
   "metadata": {},
   "source": [
    "#### Actions / Run Commands"
   ]
  },
  {
   "cell_type": "code",
   "execution_count": 20,
   "id": "afe04d22",
   "metadata": {},
   "outputs": [
    {
     "data": {
      "text/plain": [
       "count    38.000000\n",
       "mean      0.608678\n",
       "std       0.167876\n",
       "min       0.333333\n",
       "25%       0.500000\n",
       "50%       0.535714\n",
       "75%       0.750000\n",
       "max       1.000000\n",
       "dtype: float64"
      ]
     },
     "execution_count": 20,
     "metadata": {},
     "output_type": "execute_result"
    }
   ],
   "source": [
    "(workflows_df[\"n_of_actions\"] / (workflows_df[\"n_of_actions\"] + workflows_df[\"n_of_run_commands\"])).describe()"
   ]
  },
  {
   "cell_type": "markdown",
   "id": "5d78d6b3",
   "metadata": {},
   "source": [
    "#### Number of actions available on the GitHub Marketplace\n",
    "Ratio of actions available in the Marketplace vs custom actions not registered in the marketplace"
   ]
  },
  {
   "cell_type": "code",
   "execution_count": 21,
   "id": "53cbced6",
   "metadata": {},
   "outputs": [
    {
     "data": {
      "text/plain": [
       "14"
      ]
     },
     "execution_count": 21,
     "metadata": {},
     "output_type": "execute_result"
    }
   ],
   "source": [
    "total_distinct_actions_noSlug = actions_df.loc[\n",
    "    :, [\"action_slug_noTag\", \"available_in_marketplace\"]\n",
    "].drop_duplicates().shape[0]\n",
    "total_distinct_actions_noSlug"
   ]
  },
  {
   "cell_type": "code",
   "execution_count": 22,
   "id": "afb872cf-5571-44ad-b587-a22ca6ee3d90",
   "metadata": {},
   "outputs": [
    {
     "data": {
      "text/plain": [
       "11"
      ]
     },
     "execution_count": 22,
     "metadata": {},
     "output_type": "execute_result"
    }
   ],
   "source": [
    "available_in_marketplace = actions_df.loc[\n",
    "    actions_df[\"available_in_marketplace\"], [\"action_slug_noTag\", \"available_in_marketplace\"]\n",
    "].drop_duplicates().shape[0]\n",
    "available_in_marketplace"
   ]
  },
  {
   "cell_type": "code",
   "execution_count": 23,
   "id": "1941b4b3-4592-4907-b3b1-d404f3ac7cb8",
   "metadata": {},
   "outputs": [
    {
     "data": {
      "text/plain": [
       "0.7857142857142857"
      ]
     },
     "execution_count": 23,
     "metadata": {},
     "output_type": "execute_result"
    }
   ],
   "source": [
    "available_in_marketplace / total_distinct_actions_noSlug"
   ]
  },
  {
   "cell_type": "markdown",
   "id": "01255619",
   "metadata": {},
   "source": [
    "#### Number of actions by verified creators"
   ]
  },
  {
   "cell_type": "code",
   "execution_count": 60,
   "id": "df70d7e7",
   "metadata": {},
   "outputs": [
    {
     "data": {
      "text/plain": [
       "8"
      ]
     },
     "execution_count": 60,
     "metadata": {},
     "output_type": "execute_result"
    }
   ],
   "source": [
    "by_verified_creator = actions_df.loc[\n",
    "    actions_df[\"from_verified_creator\"], [\"action_slug_noTag\", \"from_verified_creator\"]\n",
    "].drop_duplicates().shape[0]\n",
    "by_verified_creator"
   ]
  },
  {
   "cell_type": "markdown",
   "id": "506fab8b",
   "metadata": {},
   "source": [
    "Total distinct actions (no slug) found in workflows with \"cml\" in the filename"
   ]
  },
  {
   "cell_type": "code",
   "execution_count": 61,
   "id": "3f3cba8d",
   "metadata": {},
   "outputs": [
    {
     "data": {
      "text/plain": [
       "6"
      ]
     },
     "execution_count": 61,
     "metadata": {},
     "output_type": "execute_result"
    }
   ],
   "source": [
    "total_distinct_actions_noSlug_CMLworkflows = actions_df.loc[\n",
    "    actions_df.workflow.str.contains(\"cml\", case=False),\n",
    "    [\"action_slug_noTag\", \"available_in_marketplace\"]\n",
    "].drop_duplicates().shape[0]\n",
    "total_distinct_actions_noSlug_CMLworkflows"
   ]
  },
  {
   "cell_type": "code",
   "execution_count": 62,
   "id": "afcb00c5",
   "metadata": {},
   "outputs": [
    {
     "data": {
      "text/html": [
       "<div>\n",
       "<style scoped>\n",
       "    .dataframe tbody tr th:only-of-type {\n",
       "        vertical-align: middle;\n",
       "    }\n",
       "\n",
       "    .dataframe tbody tr th {\n",
       "        vertical-align: top;\n",
       "    }\n",
       "\n",
       "    .dataframe thead th {\n",
       "        text-align: right;\n",
       "    }\n",
       "</style>\n",
       "<table border=\"1\" class=\"dataframe\">\n",
       "  <thead>\n",
       "    <tr style=\"text-align: right;\">\n",
       "      <th></th>\n",
       "      <th>action_slug_noTag</th>\n",
       "      <th>available_in_marketplace</th>\n",
       "    </tr>\n",
       "  </thead>\n",
       "  <tbody>\n",
       "    <tr>\n",
       "      <th>5</th>\n",
       "      <td>actions/checkout</td>\n",
       "      <td>True</td>\n",
       "    </tr>\n",
       "    <tr>\n",
       "      <th>8</th>\n",
       "      <td>ros-industrial/industrial_ci</td>\n",
       "      <td>False</td>\n",
       "    </tr>\n",
       "    <tr>\n",
       "      <th>15</th>\n",
       "      <td>iterative/setup-cml</td>\n",
       "      <td>False</td>\n",
       "    </tr>\n",
       "    <tr>\n",
       "      <th>16</th>\n",
       "      <td>iterative/setup-dvc</td>\n",
       "      <td>False</td>\n",
       "    </tr>\n",
       "    <tr>\n",
       "      <th>17</th>\n",
       "      <td>actions/setup-python</td>\n",
       "      <td>True</td>\n",
       "    </tr>\n",
       "    <tr>\n",
       "      <th>36</th>\n",
       "      <td>aws-actions/configure-aws-credentials</td>\n",
       "      <td>True</td>\n",
       "    </tr>\n",
       "  </tbody>\n",
       "</table>\n",
       "</div>"
      ],
      "text/plain": [
       "                        action_slug_noTag  available_in_marketplace\n",
       "5                        actions/checkout                      True\n",
       "8            ros-industrial/industrial_ci                     False\n",
       "15                    iterative/setup-cml                     False\n",
       "16                    iterative/setup-dvc                     False\n",
       "17                   actions/setup-python                      True\n",
       "36  aws-actions/configure-aws-credentials                      True"
      ]
     },
     "execution_count": 62,
     "metadata": {},
     "output_type": "execute_result"
    }
   ],
   "source": [
    "actions_df.loc[\n",
    "    actions_df.workflow.str.contains(\"cml\", case=False),\n",
    "    [\"action_slug_noTag\", \"available_in_marketplace\"]\n",
    "].drop_duplicates()"
   ]
  },
  {
   "cell_type": "code",
   "execution_count": 63,
   "id": "0039ffef",
   "metadata": {},
   "outputs": [
    {
     "data": {
      "text/plain": [
       "actions/checkout                         31\n",
       "iterative/setup-cml                      17\n",
       "actions/setup-python                     13\n",
       "iterative/setup-dvc                       2\n",
       "ros-industrial/industrial_ci              1\n",
       "aws-actions/configure-aws-credentials     1\n",
       "Name: action_slug_noTag, dtype: int64"
      ]
     },
     "execution_count": 63,
     "metadata": {},
     "output_type": "execute_result"
    }
   ],
   "source": [
    "actions_df.loc[\n",
    "    actions_df.workflow.str.contains(\"cml\", case=False),\n",
    "    [\"action_slug_noTag\"]\n",
    "][\"action_slug_noTag\"].value_counts()"
   ]
  },
  {
   "cell_type": "code",
   "execution_count": 64,
   "id": "23f4b6ff",
   "metadata": {},
   "outputs": [
    {
     "data": {
      "text/plain": [
       "actions/checkout                         28\n",
       "iterative/setup-cml                      17\n",
       "actions/setup-python                     13\n",
       "iterative/setup-dvc                       2\n",
       "ros-industrial/industrial_ci              1\n",
       "aws-actions/configure-aws-credentials     1\n",
       "Name: action_slug_noTag, dtype: int64"
      ]
     },
     "execution_count": 64,
     "metadata": {},
     "output_type": "execute_result"
    }
   ],
   "source": [
    "actions_df.loc[\n",
    "    actions_df.workflow.str.contains(\"cml\", case=False),\n",
    "    [\"action_slug_noTag\", \"workflow\"]\n",
    "].drop_duplicates()[\"action_slug_noTag\"].value_counts()"
   ]
  },
  {
   "cell_type": "markdown",
   "id": "3ab5a975",
   "metadata": {},
   "source": [
    "Total number of workflows with \"CML\" in their filename"
   ]
  },
  {
   "cell_type": "code",
   "execution_count": 65,
   "id": "086bfb35",
   "metadata": {},
   "outputs": [
    {
     "data": {
      "text/plain": [
       "(28,)"
      ]
     },
     "execution_count": 65,
     "metadata": {},
     "output_type": "execute_result"
    }
   ],
   "source": [
    "actions_df.loc[\n",
    "    actions_df.workflow.str.contains(\"cml\", case=False)\n",
    "][\"workflow\"].drop_duplicates().shape"
   ]
  },
  {
   "cell_type": "markdown",
   "id": "aa8717c4",
   "metadata": {},
   "source": [
    "#### Distribution of action categories"
   ]
  },
  {
   "cell_type": "markdown",
   "id": "8c0b4d0d-c6ab-4f22-84a4-bc81293f6206",
   "metadata": {},
   "source": [
    "Distinct predefined (i.e., available in marketplace) actions"
   ]
  },
  {
   "cell_type": "code",
   "execution_count": 66,
   "id": "5aed8875-3fb5-483f-a056-a5b8976deb15",
   "metadata": {},
   "outputs": [
    {
     "name": "stdout",
     "output_type": "stream",
     "text": [
      "Count: 11\n",
      "\n"
     ]
    },
    {
     "data": {
      "text/html": [
       "<div>\n",
       "<style scoped>\n",
       "    .dataframe tbody tr th:only-of-type {\n",
       "        vertical-align: middle;\n",
       "    }\n",
       "\n",
       "    .dataframe tbody tr th {\n",
       "        vertical-align: top;\n",
       "    }\n",
       "\n",
       "    .dataframe thead th {\n",
       "        text-align: right;\n",
       "    }\n",
       "</style>\n",
       "<table border=\"1\" class=\"dataframe\">\n",
       "  <thead>\n",
       "    <tr style=\"text-align: right;\">\n",
       "      <th></th>\n",
       "      <th>action_slug_noTag</th>\n",
       "      <th>category_1</th>\n",
       "      <th>category_2</th>\n",
       "    </tr>\n",
       "  </thead>\n",
       "  <tbody>\n",
       "    <tr>\n",
       "      <th>0</th>\n",
       "      <td>actions/checkout</td>\n",
       "      <td>Utilities</td>\n",
       "      <td>None</td>\n",
       "    </tr>\n",
       "    <tr>\n",
       "      <th>3</th>\n",
       "      <td>actions/cache</td>\n",
       "      <td>Utilities</td>\n",
       "      <td>Dependency management</td>\n",
       "    </tr>\n",
       "    <tr>\n",
       "      <th>13</th>\n",
       "      <td>aws-actions/configure-aws-credentials</td>\n",
       "      <td>Continuous integration</td>\n",
       "      <td>Deployment</td>\n",
       "    </tr>\n",
       "    <tr>\n",
       "      <th>17</th>\n",
       "      <td>actions/setup-python</td>\n",
       "      <td>Utilities</td>\n",
       "      <td>None</td>\n",
       "    </tr>\n",
       "    <tr>\n",
       "      <th>20</th>\n",
       "      <td>aws-actions/amazon-ecr-login</td>\n",
       "      <td>Continuous integration</td>\n",
       "      <td>Deployment</td>\n",
       "    </tr>\n",
       "  </tbody>\n",
       "</table>\n",
       "</div>"
      ],
      "text/plain": [
       "                        action_slug_noTag              category_1  \\\n",
       "0                        actions/checkout               Utilities   \n",
       "3                           actions/cache               Utilities   \n",
       "13  aws-actions/configure-aws-credentials  Continuous integration   \n",
       "17                   actions/setup-python               Utilities   \n",
       "20           aws-actions/amazon-ecr-login  Continuous integration   \n",
       "\n",
       "               category_2  \n",
       "0                    None  \n",
       "3   Dependency management  \n",
       "13             Deployment  \n",
       "17                   None  \n",
       "20             Deployment  "
      ]
     },
     "execution_count": 66,
     "metadata": {},
     "output_type": "execute_result"
    }
   ],
   "source": [
    "distinct_predef_actions = actions_df.loc[\n",
    "    actions_df[\"available_in_marketplace\"], [\"action_slug_noTag\", \"category_1\", \"category_2\"]\n",
    "].drop_duplicates()\n",
    "distinct_predef_actions_count = distinct_predef_actions.shape[0]\n",
    "print(\"Count:\", distinct_predef_actions_count, end=\"\\n\\n\")\n",
    "distinct_predef_actions.head()"
   ]
  },
  {
   "cell_type": "markdown",
   "id": "eda25440-77ba-46c0-b2ca-a5b2edbf18c4",
   "metadata": {},
   "source": [
    "Uncategorized"
   ]
  },
  {
   "cell_type": "code",
   "execution_count": 67,
   "id": "bf1f086a-0620-4e2a-b6a3-98314711aa08",
   "metadata": {},
   "outputs": [
    {
     "data": {
      "text/html": [
       "<div>\n",
       "<style scoped>\n",
       "    .dataframe tbody tr th:only-of-type {\n",
       "        vertical-align: middle;\n",
       "    }\n",
       "\n",
       "    .dataframe tbody tr th {\n",
       "        vertical-align: top;\n",
       "    }\n",
       "\n",
       "    .dataframe thead th {\n",
       "        text-align: right;\n",
       "    }\n",
       "</style>\n",
       "<table border=\"1\" class=\"dataframe\">\n",
       "  <thead>\n",
       "    <tr style=\"text-align: right;\">\n",
       "      <th></th>\n",
       "      <th>action_slug_noTag</th>\n",
       "      <th>category_1</th>\n",
       "      <th>category_2</th>\n",
       "    </tr>\n",
       "  </thead>\n",
       "  <tbody>\n",
       "  </tbody>\n",
       "</table>\n",
       "</div>"
      ],
      "text/plain": [
       "Empty DataFrame\n",
       "Columns: [action_slug_noTag, category_1, category_2]\n",
       "Index: []"
      ]
     },
     "execution_count": 67,
     "metadata": {},
     "output_type": "execute_result"
    }
   ],
   "source": [
    "uncategorized = distinct_predef_actions.loc[\n",
    "    distinct_predef_actions[\"category_1\"].isnull() & distinct_predef_actions[\"category_2\"].isnull()\n",
    "]\n",
    "uncategorized"
   ]
  },
  {
   "cell_type": "code",
   "execution_count": 68,
   "id": "f5ff687f-24cc-4613-8325-2600e580eba5",
   "metadata": {},
   "outputs": [
    {
     "data": {
      "text/plain": [
       "Uncategorized    1\n",
       "dtype: int64"
      ]
     },
     "execution_count": 68,
     "metadata": {},
     "output_type": "execute_result"
    }
   ],
   "source": [
    "uncategorized_series = pd.Series([1], index=[\"Uncategorized\"])\n",
    "uncategorized_series"
   ]
  },
  {
   "cell_type": "code",
   "execution_count": 69,
   "id": "964d90d8",
   "metadata": {},
   "outputs": [
    {
     "data": {
      "text/plain": [
       "Utilities                 5\n",
       "Continuous integration    3\n",
       "Chat                      1\n",
       "Publishing                1\n",
       "Code quality              1\n",
       "Name: category_1, dtype: int64"
      ]
     },
     "execution_count": 69,
     "metadata": {},
     "output_type": "execute_result"
    }
   ],
   "source": [
    "cat_1 = distinct_predef_actions[\"category_1\"].value_counts()\n",
    "cat_1"
   ]
  },
  {
   "cell_type": "code",
   "execution_count": 70,
   "id": "cac89883-983c-4a42-a65f-fc568b64dc3a",
   "metadata": {},
   "outputs": [
    {
     "data": {
      "text/plain": [
       "Deployment                4\n",
       "Continuous integration    2\n",
       "Dependency management     1\n",
       "Utilities                 1\n",
       "Name: category_2, dtype: int64"
      ]
     },
     "execution_count": 70,
     "metadata": {},
     "output_type": "execute_result"
    }
   ],
   "source": [
    "cat_2 = distinct_predef_actions[\"category_2\"].value_counts()\n",
    "cat_2"
   ]
  },
  {
   "cell_type": "code",
   "execution_count": 71,
   "id": "5dcbdc59-f51a-4aaf-80f0-f4448a664f7b",
   "metadata": {},
   "outputs": [
    {
     "name": "stderr",
     "output_type": "stream",
     "text": [
      "/var/folders/nl/16v7my191cd_t8scvqjd8ddm0000gn/T/ipykernel_19549/3436303444.py:2: FutureWarning: The series.append method is deprecated and will be removed from pandas in a future version. Use pandas.concat instead.\n",
      "  value_counts_sum = value_counts_sum.append(uncategorized_series)\n"
     ]
    },
    {
     "data": {
      "text/plain": [
       "Utilities                 6.0\n",
       "Continuous integration    5.0\n",
       "Deployment                4.0\n",
       "Chat                      1.0\n",
       "Code quality              1.0\n",
       "Dependency management     1.0\n",
       "Publishing                1.0\n",
       "Uncategorized             1.0\n",
       "dtype: float64"
      ]
     },
     "execution_count": 71,
     "metadata": {},
     "output_type": "execute_result"
    }
   ],
   "source": [
    "value_counts_sum = cat_1.add(cat_2, fill_value=0).sort_values(ascending=False)\n",
    "value_counts_sum = value_counts_sum.append(uncategorized_series)\n",
    "value_counts_sum"
   ]
  },
  {
   "cell_type": "markdown",
   "id": "55ec9440-0de1-4e33-adbd-bc2b0ab99817",
   "metadata": {},
   "source": [
    "Replication of Table 1 of *\"How Do Software Developers Use GitHub Actions to Automate Their Workflows?\"*"
   ]
  },
  {
   "cell_type": "code",
   "execution_count": 72,
   "id": "a0645bac-3227-4272-a15f-738044c9043a",
   "metadata": {},
   "outputs": [
    {
     "name": "stderr",
     "output_type": "stream",
     "text": [
      "/var/folders/nl/16v7my191cd_t8scvqjd8ddm0000gn/T/ipykernel_19549/4271909907.py:2: FutureWarning: The frame.append method is deprecated and will be removed from pandas in a future version. Use pandas.concat instead.\n",
      "  df_temp.append(df_temp.sum(), ignore_index=True)\n"
     ]
    },
    {
     "data": {
      "text/html": [
       "<div>\n",
       "<style scoped>\n",
       "    .dataframe tbody tr th:only-of-type {\n",
       "        vertical-align: middle;\n",
       "    }\n",
       "\n",
       "    .dataframe tbody tr th {\n",
       "        vertical-align: top;\n",
       "    }\n",
       "\n",
       "    .dataframe thead th {\n",
       "        text-align: right;\n",
       "    }\n",
       "</style>\n",
       "<table border=\"1\" class=\"dataframe\">\n",
       "  <thead>\n",
       "    <tr style=\"text-align: right;\">\n",
       "      <th></th>\n",
       "      <th># of Actions</th>\n",
       "      <th>%</th>\n",
       "    </tr>\n",
       "  </thead>\n",
       "  <tbody>\n",
       "    <tr>\n",
       "      <th>0</th>\n",
       "      <td>6.0</td>\n",
       "      <td>54.55</td>\n",
       "    </tr>\n",
       "    <tr>\n",
       "      <th>1</th>\n",
       "      <td>5.0</td>\n",
       "      <td>45.45</td>\n",
       "    </tr>\n",
       "    <tr>\n",
       "      <th>2</th>\n",
       "      <td>4.0</td>\n",
       "      <td>36.36</td>\n",
       "    </tr>\n",
       "    <tr>\n",
       "      <th>3</th>\n",
       "      <td>1.0</td>\n",
       "      <td>9.09</td>\n",
       "    </tr>\n",
       "    <tr>\n",
       "      <th>4</th>\n",
       "      <td>1.0</td>\n",
       "      <td>9.09</td>\n",
       "    </tr>\n",
       "    <tr>\n",
       "      <th>5</th>\n",
       "      <td>1.0</td>\n",
       "      <td>9.09</td>\n",
       "    </tr>\n",
       "    <tr>\n",
       "      <th>6</th>\n",
       "      <td>1.0</td>\n",
       "      <td>9.09</td>\n",
       "    </tr>\n",
       "    <tr>\n",
       "      <th>7</th>\n",
       "      <td>1.0</td>\n",
       "      <td>9.09</td>\n",
       "    </tr>\n",
       "    <tr>\n",
       "      <th>8</th>\n",
       "      <td>20.0</td>\n",
       "      <td>181.81</td>\n",
       "    </tr>\n",
       "  </tbody>\n",
       "</table>\n",
       "</div>"
      ],
      "text/plain": [
       "   # of Actions       %\n",
       "0           6.0   54.55\n",
       "1           5.0   45.45\n",
       "2           4.0   36.36\n",
       "3           1.0    9.09\n",
       "4           1.0    9.09\n",
       "5           1.0    9.09\n",
       "6           1.0    9.09\n",
       "7           1.0    9.09\n",
       "8          20.0  181.81"
      ]
     },
     "execution_count": 72,
     "metadata": {},
     "output_type": "execute_result"
    }
   ],
   "source": [
    "df_temp = pd.DataFrame({\"# of Actions\": value_counts_sum, \"%\": ((value_counts_sum / distinct_predef_actions_count)*100).round(2)})\n",
    "df_temp.append(df_temp.sum(), ignore_index=True)"
   ]
  },
  {
   "cell_type": "markdown",
   "id": "1b217da6",
   "metadata": {},
   "source": [
    "#### 10 most popular actions"
   ]
  },
  {
   "cell_type": "code",
   "execution_count": 73,
   "id": "7c27a6f7",
   "metadata": {},
   "outputs": [
    {
     "data": {
      "text/plain": [
       "actions/checkout                         46\n",
       "iterative/setup-cml                      18\n",
       "actions/setup-python                     14\n",
       "aws-actions/configure-aws-credentials     4\n",
       "actions/setup-go                          4\n",
       "ros-industrial/industrial_ci              2\n",
       "iterative/setup-dvc                       2\n",
       "actions/cache                             1\n",
       "aws-actions/amazon-ecr-login              1\n",
       "machine-learning-apps/actions-chatops     1\n",
       "Name: action_slug_noTag, dtype: int64"
      ]
     },
     "execution_count": 73,
     "metadata": {},
     "output_type": "execute_result"
    }
   ],
   "source": [
    "actions_df.loc[:, \"action_slug_noTag\"].value_counts().head(10)"
   ]
  },
  {
   "cell_type": "markdown",
   "id": "20906ac6",
   "metadata": {},
   "source": [
    "#### 10 most popular actions available on the GitHub Marketplace"
   ]
  },
  {
   "cell_type": "code",
   "execution_count": 74,
   "id": "26344536",
   "metadata": {},
   "outputs": [
    {
     "data": {
      "text/plain": [
       "actions/checkout                         46\n",
       "actions/setup-python                     14\n",
       "aws-actions/configure-aws-credentials     4\n",
       "actions/setup-go                          4\n",
       "actions/cache                             1\n",
       "aws-actions/amazon-ecr-login              1\n",
       "machine-learning-apps/actions-chatops     1\n",
       "pypa/gh-action-pypi-publish               1\n",
       "goreleaser/goreleaser-action              1\n",
       "hashicorp/setup-terraform                 1\n",
       "Name: action_slug_noTag, dtype: int64"
      ]
     },
     "execution_count": 74,
     "metadata": {},
     "output_type": "execute_result"
    }
   ],
   "source": [
    "actions_df.loc[actions_df[\"available_in_marketplace\"], \"action_slug_noTag\"].value_counts().head(10)"
   ]
  },
  {
   "cell_type": "markdown",
   "id": "c694a339",
   "metadata": {},
   "source": [
    "## RQ3 - \"What are the sets of actions that typically co-occur in workflows\""
   ]
  },
  {
   "cell_type": "markdown",
   "id": "70e337e6",
   "metadata": {},
   "source": [
    "#### Frequent 2-item sets of Actions"
   ]
  },
  {
   "cell_type": "markdown",
   "id": "cf70c393",
   "metadata": {},
   "source": [
    "##### With tags"
   ]
  },
  {
   "cell_type": "code",
   "execution_count": 75,
   "id": "6abc9cd2",
   "metadata": {},
   "outputs": [
    {
     "data": {
      "text/html": [
       "<div>\n",
       "<style scoped>\n",
       "    .dataframe tbody tr th:only-of-type {\n",
       "        vertical-align: middle;\n",
       "    }\n",
       "\n",
       "    .dataframe tbody tr th {\n",
       "        vertical-align: top;\n",
       "    }\n",
       "\n",
       "    .dataframe thead th {\n",
       "        text-align: right;\n",
       "    }\n",
       "</style>\n",
       "<table border=\"1\" class=\"dataframe\">\n",
       "  <thead>\n",
       "    <tr style=\"text-align: right;\">\n",
       "      <th></th>\n",
       "      <th>support</th>\n",
       "      <th>itemsets</th>\n",
       "      <th>length</th>\n",
       "    </tr>\n",
       "  </thead>\n",
       "  <tbody>\n",
       "    <tr>\n",
       "      <th>7</th>\n",
       "      <td>0.078947</td>\n",
       "      <td>(actions/checkout@v2, actions/setup-go@v2)</td>\n",
       "      <td>2</td>\n",
       "    </tr>\n",
       "    <tr>\n",
       "      <th>8</th>\n",
       "      <td>0.342105</td>\n",
       "      <td>(actions/checkout@v2, actions/setup-python@v2)</td>\n",
       "      <td>2</td>\n",
       "    </tr>\n",
       "    <tr>\n",
       "      <th>9</th>\n",
       "      <td>0.105263</td>\n",
       "      <td>(actions/checkout@v2, aws-actions/configure-aw...</td>\n",
       "      <td>2</td>\n",
       "    </tr>\n",
       "    <tr>\n",
       "      <th>10</th>\n",
       "      <td>0.473684</td>\n",
       "      <td>(actions/checkout@v2, iterative/setup-cml@v1)</td>\n",
       "      <td>2</td>\n",
       "    </tr>\n",
       "    <tr>\n",
       "      <th>11</th>\n",
       "      <td>0.052632</td>\n",
       "      <td>(actions/checkout@v2, iterative/setup-dvc@v1)</td>\n",
       "      <td>2</td>\n",
       "    </tr>\n",
       "    <tr>\n",
       "      <th>12</th>\n",
       "      <td>0.052632</td>\n",
       "      <td>(actions/checkout@v2, ros-industrial/industria...</td>\n",
       "      <td>2</td>\n",
       "    </tr>\n",
       "    <tr>\n",
       "      <th>13</th>\n",
       "      <td>0.315789</td>\n",
       "      <td>(iterative/setup-cml@v1, actions/setup-python@v2)</td>\n",
       "      <td>2</td>\n",
       "    </tr>\n",
       "    <tr>\n",
       "      <th>14</th>\n",
       "      <td>0.052632</td>\n",
       "      <td>(iterative/setup-dvc@v1, actions/setup-python@v2)</td>\n",
       "      <td>2</td>\n",
       "    </tr>\n",
       "    <tr>\n",
       "      <th>15</th>\n",
       "      <td>0.052632</td>\n",
       "      <td>(iterative/setup-cml@v1, iterative/setup-dvc@v1)</td>\n",
       "      <td>2</td>\n",
       "    </tr>\n",
       "  </tbody>\n",
       "</table>\n",
       "</div>"
      ],
      "text/plain": [
       "     support                                           itemsets  length\n",
       "7   0.078947         (actions/checkout@v2, actions/setup-go@v2)       2\n",
       "8   0.342105     (actions/checkout@v2, actions/setup-python@v2)       2\n",
       "9   0.105263  (actions/checkout@v2, aws-actions/configure-aw...       2\n",
       "10  0.473684      (actions/checkout@v2, iterative/setup-cml@v1)       2\n",
       "11  0.052632      (actions/checkout@v2, iterative/setup-dvc@v1)       2\n",
       "12  0.052632  (actions/checkout@v2, ros-industrial/industria...       2\n",
       "13  0.315789  (iterative/setup-cml@v1, actions/setup-python@v2)       2\n",
       "14  0.052632  (iterative/setup-dvc@v1, actions/setup-python@v2)       2\n",
       "15  0.052632   (iterative/setup-cml@v1, iterative/setup-dvc@v1)       2"
      ]
     },
     "execution_count": 75,
     "metadata": {},
     "output_type": "execute_result"
    }
   ],
   "source": [
    "frequent_actions_df.loc[frequent_actions_df[\"length\"] == 2]"
   ]
  },
  {
   "cell_type": "markdown",
   "id": "7da1bdc4",
   "metadata": {},
   "source": [
    "##### Without tags"
   ]
  },
  {
   "cell_type": "code",
   "execution_count": 83,
   "id": "d924edb3",
   "metadata": {},
   "outputs": [
    {
     "data": {
      "text/html": [
       "<div>\n",
       "<style scoped>\n",
       "    .dataframe tbody tr th:only-of-type {\n",
       "        vertical-align: middle;\n",
       "    }\n",
       "\n",
       "    .dataframe tbody tr th {\n",
       "        vertical-align: top;\n",
       "    }\n",
       "\n",
       "    .dataframe thead th {\n",
       "        text-align: right;\n",
       "    }\n",
       "</style>\n",
       "<table border=\"1\" class=\"dataframe\">\n",
       "  <thead>\n",
       "    <tr style=\"text-align: right;\">\n",
       "      <th></th>\n",
       "      <th>support</th>\n",
       "      <th>itemsets</th>\n",
       "      <th>length</th>\n",
       "    </tr>\n",
       "  </thead>\n",
       "  <tbody>\n",
       "    <tr>\n",
       "      <th>10</th>\n",
       "      <td>0.473684</td>\n",
       "      <td>(iterative/setup-cml, actions/checkout)</td>\n",
       "      <td>2</td>\n",
       "    </tr>\n",
       "    <tr>\n",
       "      <th>8</th>\n",
       "      <td>0.368421</td>\n",
       "      <td>(actions/setup-python, actions/checkout)</td>\n",
       "      <td>2</td>\n",
       "    </tr>\n",
       "    <tr>\n",
       "      <th>13</th>\n",
       "      <td>0.342105</td>\n",
       "      <td>(iterative/setup-cml, actions/setup-python)</td>\n",
       "      <td>2</td>\n",
       "    </tr>\n",
       "    <tr>\n",
       "      <th>16</th>\n",
       "      <td>0.342105</td>\n",
       "      <td>(iterative/setup-cml, actions/setup-python, ac...</td>\n",
       "      <td>3</td>\n",
       "    </tr>\n",
       "    <tr>\n",
       "      <th>9</th>\n",
       "      <td>0.105263</td>\n",
       "      <td>(aws-actions/configure-aws-credentials, action...</td>\n",
       "      <td>2</td>\n",
       "    </tr>\n",
       "    <tr>\n",
       "      <th>7</th>\n",
       "      <td>0.078947</td>\n",
       "      <td>(actions/setup-go, actions/checkout)</td>\n",
       "      <td>2</td>\n",
       "    </tr>\n",
       "  </tbody>\n",
       "</table>\n",
       "</div>"
      ],
      "text/plain": [
       "     support                                           itemsets  length\n",
       "10  0.473684            (iterative/setup-cml, actions/checkout)       2\n",
       "8   0.368421           (actions/setup-python, actions/checkout)       2\n",
       "13  0.342105        (iterative/setup-cml, actions/setup-python)       2\n",
       "16  0.342105  (iterative/setup-cml, actions/setup-python, ac...       3\n",
       "9   0.105263  (aws-actions/configure-aws-credentials, action...       2\n",
       "7   0.078947               (actions/setup-go, actions/checkout)       2"
      ]
     },
     "execution_count": 83,
     "metadata": {},
     "output_type": "execute_result"
    }
   ],
   "source": [
    "frequent_actions_noTags_df.loc[\n",
    "    (frequent_actions_noTags_df[\"length\"] >= 2) & (frequent_actions_noTags_df[\"support\"] > 0.07)\n",
    "].sort_values(by=\"support\", ascending=False)"
   ]
  },
  {
   "cell_type": "code",
   "execution_count": 84,
   "id": "5015f501",
   "metadata": {},
   "outputs": [
    {
     "data": {
      "text/plain": [
       "[frozenset({'actions/checkout', 'iterative/setup-cml'}),\n",
       " frozenset({'actions/checkout', 'actions/setup-python'}),\n",
       " frozenset({'actions/setup-python', 'iterative/setup-cml'}),\n",
       " frozenset({'actions/checkout',\n",
       "            'actions/setup-python',\n",
       "            'iterative/setup-cml'}),\n",
       " frozenset({'actions/checkout', 'aws-actions/configure-aws-credentials'}),\n",
       " frozenset({'actions/checkout', 'actions/setup-go'})]"
      ]
     },
     "execution_count": 84,
     "metadata": {},
     "output_type": "execute_result"
    }
   ],
   "source": [
    "frequent_actions_noTags_df.loc[\n",
    "    (frequent_actions_noTags_df[\"length\"] >= 2) & (frequent_actions_noTags_df[\"support\"] > 0.07)\n",
    "].sort_values(by=\"support\", ascending=False)[\"itemsets\"].tolist()"
   ]
  },
  {
   "cell_type": "markdown",
   "id": "3dae74f5",
   "metadata": {},
   "source": [
    "#### Frequent 3-item sets of Actions"
   ]
  },
  {
   "cell_type": "markdown",
   "id": "30b18255",
   "metadata": {},
   "source": [
    "##### With tags"
   ]
  },
  {
   "cell_type": "code",
   "execution_count": 52,
   "id": "ebe7bc41",
   "metadata": {},
   "outputs": [
    {
     "data": {
      "text/html": [
       "<div>\n",
       "<style scoped>\n",
       "    .dataframe tbody tr th:only-of-type {\n",
       "        vertical-align: middle;\n",
       "    }\n",
       "\n",
       "    .dataframe tbody tr th {\n",
       "        vertical-align: top;\n",
       "    }\n",
       "\n",
       "    .dataframe thead th {\n",
       "        text-align: right;\n",
       "    }\n",
       "</style>\n",
       "<table border=\"1\" class=\"dataframe\">\n",
       "  <thead>\n",
       "    <tr style=\"text-align: right;\">\n",
       "      <th></th>\n",
       "      <th>support</th>\n",
       "      <th>itemsets</th>\n",
       "      <th>length</th>\n",
       "    </tr>\n",
       "  </thead>\n",
       "  <tbody>\n",
       "    <tr>\n",
       "      <th>14</th>\n",
       "      <td>0.050378</td>\n",
       "      <td>(actions/checkout@v2, actions/setup-python@v2,...</td>\n",
       "      <td>3</td>\n",
       "    </tr>\n",
       "  </tbody>\n",
       "</table>\n",
       "</div>"
      ],
      "text/plain": [
       "     support                                           itemsets  length\n",
       "14  0.050378  (actions/checkout@v2, actions/setup-python@v2,...       3"
      ]
     },
     "execution_count": 52,
     "metadata": {},
     "output_type": "execute_result"
    }
   ],
   "source": [
    "frequent_actions_df.loc[frequent_actions_df[\"length\"] == 3]"
   ]
  },
  {
   "cell_type": "markdown",
   "id": "e131c0ad-4ffa-4d44-8b90-1c0ada9ee163",
   "metadata": {},
   "source": [
    "Readable version"
   ]
  },
  {
   "cell_type": "code",
   "execution_count": 53,
   "id": "deeac872-9c1f-45a6-8559-84395d3e5f48",
   "metadata": {},
   "outputs": [
    {
     "data": {
      "text/plain": [
       "[frozenset({'actions/checkout@v2',\n",
       "            'actions/setup-python@v2',\n",
       "            'actions/upload-artifact@v2'})]"
      ]
     },
     "execution_count": 53,
     "metadata": {},
     "output_type": "execute_result"
    }
   ],
   "source": [
    "frequent_actions_df.loc[frequent_actions_df[\"length\"] == 3]['itemsets'].tolist()"
   ]
  },
  {
   "cell_type": "markdown",
   "id": "b726f410",
   "metadata": {},
   "source": [
    "##### Without tags"
   ]
  },
  {
   "cell_type": "code",
   "execution_count": 54,
   "id": "3ef81695",
   "metadata": {},
   "outputs": [
    {
     "data": {
      "text/html": [
       "<div>\n",
       "<style scoped>\n",
       "    .dataframe tbody tr th:only-of-type {\n",
       "        vertical-align: middle;\n",
       "    }\n",
       "\n",
       "    .dataframe tbody tr th {\n",
       "        vertical-align: top;\n",
       "    }\n",
       "\n",
       "    .dataframe thead th {\n",
       "        text-align: right;\n",
       "    }\n",
       "</style>\n",
       "<table border=\"1\" class=\"dataframe\">\n",
       "  <thead>\n",
       "    <tr style=\"text-align: right;\">\n",
       "      <th></th>\n",
       "      <th>support</th>\n",
       "      <th>itemsets</th>\n",
       "      <th>length</th>\n",
       "    </tr>\n",
       "  </thead>\n",
       "  <tbody>\n",
       "    <tr>\n",
       "      <th>16</th>\n",
       "      <td>0.083123</td>\n",
       "      <td>(actions/cache, actions/setup-java, actions/ch...</td>\n",
       "      <td>3</td>\n",
       "    </tr>\n",
       "    <tr>\n",
       "      <th>17</th>\n",
       "      <td>0.062972</td>\n",
       "      <td>(actions/cache, actions/upload-artifact, actio...</td>\n",
       "      <td>3</td>\n",
       "    </tr>\n",
       "    <tr>\n",
       "      <th>18</th>\n",
       "      <td>0.062972</td>\n",
       "      <td>(actions/setup-python, actions/upload-artifact...</td>\n",
       "      <td>3</td>\n",
       "    </tr>\n",
       "  </tbody>\n",
       "</table>\n",
       "</div>"
      ],
      "text/plain": [
       "     support                                           itemsets  length\n",
       "16  0.083123  (actions/cache, actions/setup-java, actions/ch...       3\n",
       "17  0.062972  (actions/cache, actions/upload-artifact, actio...       3\n",
       "18  0.062972  (actions/setup-python, actions/upload-artifact...       3"
      ]
     },
     "execution_count": 54,
     "metadata": {},
     "output_type": "execute_result"
    }
   ],
   "source": [
    "frequent_actions_noTags_df.loc[frequent_actions_noTags_df[\"length\"] == 3]"
   ]
  },
  {
   "cell_type": "markdown",
   "id": "52bac5e8-6553-4587-8f7b-76a0efa8ed43",
   "metadata": {},
   "source": [
    "Readable version"
   ]
  },
  {
   "cell_type": "code",
   "execution_count": 55,
   "id": "833c676e-146f-4c7e-8e46-ef03759c07cb",
   "metadata": {},
   "outputs": [
    {
     "data": {
      "text/plain": [
       "[frozenset({'actions/cache', 'actions/checkout', 'actions/setup-java'}),\n",
       " frozenset({'actions/cache', 'actions/checkout', 'actions/upload-artifact'}),\n",
       " frozenset({'actions/checkout',\n",
       "            'actions/setup-python',\n",
       "            'actions/upload-artifact'})]"
      ]
     },
     "execution_count": 55,
     "metadata": {},
     "output_type": "execute_result"
    }
   ],
   "source": [
    "frequent_actions_noTags_df.loc[frequent_actions_noTags_df[\"length\"] == 3]['itemsets'].tolist()"
   ]
  }
 ],
 "metadata": {
  "interpreter": {
   "hash": "c7c03abaf8d248c1846ebe5e2be61366de7836573f62979d6bdb4793ba7fbf2b"
  },
  "kernelspec": {
   "display_name": "GithubActions4DS",
   "language": "python",
   "name": "python3"
  },
  "language_info": {
   "codemirror_mode": {
    "name": "ipython",
    "version": 3
   },
   "file_extension": ".py",
   "mimetype": "text/x-python",
   "name": "python",
   "nbconvert_exporter": "python",
   "pygments_lexer": "ipython3",
   "version": "3.10.2"
  },
  "toc": {
   "base_numbering": 1,
   "nav_menu": {},
   "number_sections": false,
   "sideBar": true,
   "skip_h1_title": true,
   "title_cell": "Table of Contents",
   "title_sidebar": "Contents",
   "toc_cell": false,
   "toc_position": {},
   "toc_section_display": true,
   "toc_window_display": false
  },
  "varInspector": {
   "cols": {
    "lenName": 16,
    "lenType": 16,
    "lenVar": 40
   },
   "kernels_config": {
    "python": {
     "delete_cmd_postfix": "",
     "delete_cmd_prefix": "del ",
     "library": "var_list.py",
     "varRefreshCmd": "print(var_dic_list())"
    },
    "r": {
     "delete_cmd_postfix": ") ",
     "delete_cmd_prefix": "rm(",
     "library": "var_list.r",
     "varRefreshCmd": "cat(var_dic_list()) "
    }
   },
   "types_to_exclude": [
    "module",
    "function",
    "builtin_function_or_method",
    "instance",
    "_Feature"
   ],
   "window_display": false
  }
 },
 "nbformat": 4,
 "nbformat_minor": 5
}
