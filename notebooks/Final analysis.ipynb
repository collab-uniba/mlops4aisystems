{
 "cells": [
  {
   "cell_type": "markdown",
   "id": "a4042038",
   "metadata": {},
   "source": [
    "# Data Analysis"
   ]
  },
  {
   "cell_type": "code",
   "execution_count": 1,
   "id": "66b41646",
   "metadata": {},
   "outputs": [],
   "source": [
    "import pandas as pd"
   ]
  },
  {
   "cell_type": "code",
   "execution_count": 2,
   "id": "3f1915d9",
   "metadata": {},
   "outputs": [],
   "source": [
    "workflows_df = pd.read_pickle(\"../dumps/workflows_df.pkl\")\n",
    "actions_df = pd.read_pickle(\"../dumps/actions_df.pkl\")\n",
    "frequent_actions_df = pd.read_pickle(\"../dumps/frequent_actions_df.pkl\")\n",
    "frequent_actions_noTags_df = pd.read_pickle(\"../dumps/frequent_actions_noTags_df.pkl\")\n",
    "frequent_docker_commands_subsample_df = pd.read_pickle(\"../dumps/frequent_docker_commands_subsample_df.pkl\")"
   ]
  },
  {
   "cell_type": "markdown",
   "id": "21601eef",
   "metadata": {},
   "source": [
    "## Descriptive statistics"
   ]
  },
  {
   "cell_type": "markdown",
   "id": "03e0fb22",
   "metadata": {},
   "source": [
    "### Repo Filtering\n",
    "\n",
    "- Original [RepoReapers dataset](https://reporeapers.github.io/results/1.html): **1,853,195**\n",
    "- Repositories classified as containing an _engineered software project_: **446,511** (not available: **0**)\n",
    "- Repositories with _DS-related keywords_ in topics or description: **0**\n",
    "- Repositories with at least one workflow: **0**\n",
    "\n",
    "### Workflows\n",
    "\n",
    "- Total number of workflows found: **0**\n",
    "- Valid workflows (valid YAML file): **0**\n",
    "- Invalid workflows (invalid YAML file): **0**"
   ]
  },
  {
   "cell_type": "markdown",
   "id": "73c6e717",
   "metadata": {},
   "source": [
    "#### Number of workflows per repository"
   ]
  },
  {
   "cell_type": "code",
   "execution_count": null,
   "id": "d56048ac",
   "metadata": {},
   "outputs": [],
   "source": []
  },
  {
   "cell_type": "markdown",
   "id": "2304190d",
   "metadata": {},
   "source": [
    "## RQ1 -  \"Is GitHub Actions used to automate project deployment?\"\n",
    "\n",
    "- ratio of workflows presenting actions / run commands which relate to Docker\n",
    "- ratio of workflows that upload a container image to Docker-Hub or to GitHub Packages\n",
    "- ratio of workflows that upload any type of software package to GitHub Packages."
   ]
  },
  {
   "cell_type": "markdown",
   "id": "dc91ea3d",
   "metadata": {},
   "source": [
    "#### Workflows with keyword `deploy` in name or filename"
   ]
  },
  {
   "cell_type": "code",
   "execution_count": null,
   "id": "13733e8b",
   "metadata": {},
   "outputs": [],
   "source": []
  },
  {
   "cell_type": "markdown",
   "id": "8b21b752",
   "metadata": {},
   "source": [
    "#### Actions with keyword `deploy` in the slug\n",
    "\n",
    "- Number of distinct actions used in the dataset\n",
    "- Number of workflows using at least one of such actions"
   ]
  },
  {
   "cell_type": "code",
   "execution_count": null,
   "id": "b4e88f57",
   "metadata": {},
   "outputs": [],
   "source": []
  },
  {
   "cell_type": "markdown",
   "id": "4e56af8b",
   "metadata": {},
   "source": [
    "#### Run commands containing keyword `deploy`\n",
    "\n",
    "- Number of workflows containing at least one of such commands"
   ]
  },
  {
   "cell_type": "code",
   "execution_count": null,
   "id": "e5946942",
   "metadata": {},
   "outputs": [],
   "source": []
  },
  {
   "cell_type": "markdown",
   "id": "e1aa5260",
   "metadata": {},
   "source": [
    "#### Workflows with keyword `docker` in name or filename"
   ]
  },
  {
   "cell_type": "code",
   "execution_count": null,
   "id": "c37cc4d0",
   "metadata": {},
   "outputs": [],
   "source": []
  },
  {
   "cell_type": "markdown",
   "id": "a9aad778",
   "metadata": {},
   "source": [
    "#### Actions with the keyword `docker` in the slug\n",
    "\n",
    "- Number of distinct actions used in the dataset\n",
    "- Number of workflows using at least one of such actions"
   ]
  },
  {
   "cell_type": "code",
   "execution_count": null,
   "id": "256eca1b",
   "metadata": {},
   "outputs": [],
   "source": []
  },
  {
   "cell_type": "markdown",
   "id": "0ba4fc80",
   "metadata": {},
   "source": [
    "#### Run commands containing keyword `docker`\n",
    "\n",
    "- Number of workflows containing at least one of such commands"
   ]
  },
  {
   "cell_type": "code",
   "execution_count": null,
   "id": "a1e7c472",
   "metadata": {},
   "outputs": [],
   "source": []
  },
  {
   "cell_type": "markdown",
   "id": "7f1c152f",
   "metadata": {},
   "source": [
    "#### Workflows with the keyword `package` in name or filename"
   ]
  },
  {
   "cell_type": "code",
   "execution_count": null,
   "id": "37960577",
   "metadata": {},
   "outputs": [],
   "source": []
  },
  {
   "cell_type": "markdown",
   "id": "86445360",
   "metadata": {},
   "source": [
    "#### Actions with the keyword `package` in the slug\n",
    "\n",
    "- Number of distinct actions used in the dataset\n",
    "- Number of workflows using at least one of such actions"
   ]
  },
  {
   "cell_type": "code",
   "execution_count": null,
   "id": "1da42375",
   "metadata": {},
   "outputs": [],
   "source": []
  },
  {
   "cell_type": "markdown",
   "id": "975d0d0f",
   "metadata": {},
   "source": [
    "#### Run commands containing keyword `package`\n",
    "\n",
    "- Number of workflows containing at least one of such commands"
   ]
  },
  {
   "cell_type": "markdown",
   "id": "2256ec42",
   "metadata": {},
   "source": [
    "## RQ2 - \"What are the most frequently used Actions?\""
   ]
  },
  {
   "cell_type": "markdown",
   "id": "9a676a8e",
   "metadata": {},
   "source": [
    "#### Total number of actions used in the dataset"
   ]
  },
  {
   "cell_type": "code",
   "execution_count": null,
   "id": "e940c0ae",
   "metadata": {},
   "outputs": [],
   "source": []
  },
  {
   "cell_type": "markdown",
   "id": "ef15a553",
   "metadata": {},
   "source": [
    "#### Average number of actions per workflow"
   ]
  },
  {
   "cell_type": "code",
   "execution_count": null,
   "id": "031b40fc",
   "metadata": {},
   "outputs": [],
   "source": []
  },
  {
   "cell_type": "markdown",
   "id": "078d2211",
   "metadata": {},
   "source": [
    "#### Actions / Run Commands"
   ]
  },
  {
   "cell_type": "code",
   "execution_count": null,
   "id": "47272eb4",
   "metadata": {},
   "outputs": [],
   "source": []
  },
  {
   "cell_type": "markdown",
   "id": "6d431ae6",
   "metadata": {},
   "source": [
    "#### Number of actions available on the GitHub Marketplace\n",
    "Ratio of actions available in the Marketplace vs custom actions not registered in the marketplace"
   ]
  },
  {
   "cell_type": "code",
   "execution_count": null,
   "id": "00e5837b",
   "metadata": {},
   "outputs": [],
   "source": []
  },
  {
   "cell_type": "markdown",
   "id": "8186ffa6",
   "metadata": {},
   "source": [
    "#### Number of actions by verified creators"
   ]
  },
  {
   "cell_type": "code",
   "execution_count": null,
   "id": "2097402d",
   "metadata": {},
   "outputs": [],
   "source": []
  },
  {
   "cell_type": "markdown",
   "id": "e36676a7",
   "metadata": {},
   "source": [
    "#### Distribution of action categories"
   ]
  },
  {
   "cell_type": "code",
   "execution_count": null,
   "id": "a076250a",
   "metadata": {},
   "outputs": [],
   "source": []
  },
  {
   "cell_type": "markdown",
   "id": "b2df64bf",
   "metadata": {},
   "source": [
    "#### 10 most popular actions"
   ]
  },
  {
   "cell_type": "code",
   "execution_count": null,
   "id": "cfc86e86",
   "metadata": {},
   "outputs": [],
   "source": []
  },
  {
   "cell_type": "markdown",
   "id": "e02f6c91",
   "metadata": {},
   "source": [
    "#### 10 most popular actions available on the GitHub Marketplace"
   ]
  },
  {
   "cell_type": "code",
   "execution_count": null,
   "id": "58260dbc",
   "metadata": {},
   "outputs": [],
   "source": []
  },
  {
   "cell_type": "markdown",
   "id": "0ba17d4a",
   "metadata": {},
   "source": [
    "## RQ3 - \"What are the sets of actions that typically co-occur in workflows\""
   ]
  },
  {
   "cell_type": "markdown",
   "id": "d9df1277",
   "metadata": {},
   "source": [
    "#### Frequent 2-item sets of Actions"
   ]
  },
  {
   "cell_type": "markdown",
   "id": "d70cefc2",
   "metadata": {},
   "source": [
    "##### With tags"
   ]
  },
  {
   "cell_type": "code",
   "execution_count": null,
   "id": "687c6985",
   "metadata": {},
   "outputs": [],
   "source": []
  },
  {
   "cell_type": "markdown",
   "id": "75e1d9f7",
   "metadata": {},
   "source": [
    "##### Without tags"
   ]
  },
  {
   "cell_type": "code",
   "execution_count": null,
   "id": "67d6bd54",
   "metadata": {},
   "outputs": [],
   "source": []
  },
  {
   "cell_type": "markdown",
   "id": "95eb72a4",
   "metadata": {},
   "source": [
    "#### Frequent 3-item sets of Actions"
   ]
  },
  {
   "cell_type": "markdown",
   "id": "4ef28661",
   "metadata": {},
   "source": [
    "##### With tags"
   ]
  },
  {
   "cell_type": "code",
   "execution_count": null,
   "id": "5eacc3a9",
   "metadata": {},
   "outputs": [],
   "source": []
  },
  {
   "cell_type": "markdown",
   "id": "b722d230",
   "metadata": {},
   "source": [
    "##### Without tags"
   ]
  },
  {
   "cell_type": "code",
   "execution_count": null,
   "id": "382c9498",
   "metadata": {},
   "outputs": [],
   "source": []
  }
 ],
 "metadata": {
  "kernelspec": {
   "display_name": "GithubActions4DS",
   "language": "python",
   "name": "githubactions4ds"
  },
  "language_info": {
   "codemirror_mode": {
    "name": "ipython",
    "version": 3
   },
   "file_extension": ".py",
   "mimetype": "text/x-python",
   "name": "python",
   "nbconvert_exporter": "python",
   "pygments_lexer": "ipython3",
   "version": "3.9.9"
  },
  "toc": {
   "base_numbering": 1,
   "nav_menu": {},
   "number_sections": false,
   "sideBar": true,
   "skip_h1_title": true,
   "title_cell": "Table of Contents",
   "title_sidebar": "Contents",
   "toc_cell": false,
   "toc_position": {},
   "toc_section_display": true,
   "toc_window_display": false
  },
  "varInspector": {
   "cols": {
    "lenName": 16,
    "lenType": 16,
    "lenVar": 40
   },
   "kernels_config": {
    "python": {
     "delete_cmd_postfix": "",
     "delete_cmd_prefix": "del ",
     "library": "var_list.py",
     "varRefreshCmd": "print(var_dic_list())"
    },
    "r": {
     "delete_cmd_postfix": ") ",
     "delete_cmd_prefix": "rm(",
     "library": "var_list.r",
     "varRefreshCmd": "cat(var_dic_list()) "
    }
   },
   "types_to_exclude": [
    "module",
    "function",
    "builtin_function_or_method",
    "instance",
    "_Feature"
   ],
   "window_display": false
  }
 },
 "nbformat": 4,
 "nbformat_minor": 5
}
